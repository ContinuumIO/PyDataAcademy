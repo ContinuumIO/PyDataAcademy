{
 "metadata": {
  "name": "loading_text_files"
 },
 "nbformat": 3,
 "nbformat_minor": 0,
 "worksheets": [
  {
   "cells": [
    {
     "cell_type": "heading",
     "level": 1,
     "metadata": {},
     "source": [
      "Text Data File Loading with NumPy"
     ]
    },
    {
     "cell_type": "markdown",
     "metadata": {},
     "source": [
      "**Objective**:be able to extract data from text data files into numpy array for further computations\n",
      "\n",
      "**Knowledge and Skills learned**:\n",
      "\n",
      " * distinguish between various text data file formats\n",
      " * load text data file\n",
      " * specify proper data types of values\n",
      " * files with and without headers\n",
      " * basic data preparation, basic value cleansing\n",
      "\n",
      "**Level**: beginner\n",
      "\n",
      "**Requirements**:\n",
      "\n",
      " * basic numpy familiarity\n",
      " * python basics\n",
      "\n",
      "**Follow-up**:\n",
      "\n",
      " * fast data file loading\n",
      " * exporting data from relational database\n",
      " * data cleansing\n",
      "\n",
      "Required Python Packages\n",
      "------------------------\n",
      "\n",
      "Following Python packages are required to be able to follow this module:\n",
      "\n",
      "* [numpy](http://numpy.scipy.org)"
     ]
    },
    {
     "cell_type": "markdown",
     "metadata": {},
     "source": [
      "Introduction\n",
      "============\n",
      "\n",
      "In this beginner's tutorial we are going to look at how to load various text format files containing data into a numpy array:\n",
      "\n",
      "![](files/images/loading_text_file.png)\n",
      "\n",
      "You will learn how to handle different formats of text data files and how to do a bit of data cleansing, if necessary.\n",
      "\n",
      "Text files with numerical data might look like this:\n",
      "\n",
      "        id         a         b         c\n",
      "         0      2.66      0.36      4.70\n",
      "         1      3.99     -2.16      4.17\n",
      "         2     -0.87      0.06      5.43\n",
      "         3      2.12      0.25      7.52\n",
      "         4      0.80      4.04     10.10\n",
      "         5     -0.55      0.14     13.77\n",
      "         6     -2.98      1.78      9.71\n",
      "         7     -3.42      2.42     12.68\n",
      "         8     -6.23      4.80      8.58\n",
      "         9     -5.69     -0.08      4.39\n",
      "\n",
      "_Space separated or fixed number of characters per value._\n",
      "\n",
      "Or like this:\n",
      "\n",
      "    0,2.66,0.36,4.70\n",
      "    1,3.99,-2.16,4.17\n",
      "    2,-0.87,0.06,5.43\n",
      "    3,2.12,0.25,7.52\n",
      "    4,0.80,4.04,10.10\n",
      "    5,-0.55,0.14,13.77\n",
      "    6,-2.98,1.78,9.71\n",
      "    7,-3.42,2.42,12.68\n",
      "    8,-6.23,4.80,8.58\n",
      "    9,-5.69,-0.08,4.39\n",
      "\n",
      "_Comma separated values._\n",
      "\n",
      "There are more formats we might encounter.\n",
      "\n",
      "We are going to learn how to load different textual formats of files."
     ]
    },
    {
     "cell_type": "markdown",
     "metadata": {},
     "source": [
      "Let's start with importing numpy:"
     ]
    },
    {
     "cell_type": "code",
     "collapsed": false,
     "input": [
      "import numpy as np"
     ],
     "language": "python",
     "metadata": {},
     "outputs": [],
     "prompt_number": 6
    },
    {
     "cell_type": "heading",
     "level": 1,
     "metadata": {},
     "source": [
      "Load text data file"
     ]
    },
    {
     "cell_type": "markdown",
     "metadata": {},
     "source": [
      "Our first data example is space separated values:\n",
      "\n",
      "![](files/images/space_separated.png)\n",
      "\n",
      "The function to load text file into a array is called `genfromtxt` and takes file name as the first argument."
     ]
    },
    {
     "cell_type": "code",
     "collapsed": false,
     "input": [
      "a = np.genfromtxt('data/numbers.dat')\n",
      "a"
     ],
     "language": "python",
     "metadata": {},
     "outputs": [
      {
       "output_type": "pyout",
       "prompt_number": 7,
       "text": [
        "array([[   nan,    nan,    nan,    nan],\n",
        "       [  0.  ,  -4.83,  -2.18,  -0.52],\n",
        "       [  1.  ,  -3.38,   0.37,  -3.24],\n",
        "       [  2.  ,  -8.02,   4.52,  -5.02],\n",
        "       [  3.  ,  -6.67,   2.49,  -4.43],\n",
        "       [  4.  ,  -3.83,   5.55,  -7.41],\n",
        "       [  5.  ,  -7.68,   3.68, -11.65],\n",
        "       [  6.  , -11.13,   4.98, -15.92],\n",
        "       [  7.  ,  -6.25,   8.6 , -12.29],\n",
        "       [  8.  ,  -8.56,   9.69,  -8.63],\n",
        "       [  9.  , -13.31,   7.62, -12.29]])"
       ]
      }
     ],
     "prompt_number": 7
    },
    {
     "cell_type": "markdown",
     "metadata": {},
     "source": [
      "We have read our file almost sucessfully. You can see that the first row of read data contains `nan` (which means not-a-number) values:\n",
      "\n",
      "    [   nan,    nan,    nan,    nan]\n",
      "\n",
      "It is because the file itself contains field names in the first line.\n",
      "\n",
      "![](files/images/space_separated_header.png)\n",
      "\n",
      "We read the names by setting `names` argument to `True`:"
     ]
    },
    {
     "cell_type": "code",
     "collapsed": false,
     "input": [
      "a = np.genfromtxt('data/numbers.dat', names=True)\n",
      "a"
     ],
     "language": "python",
     "metadata": {},
     "outputs": [
      {
       "output_type": "pyout",
       "prompt_number": 8,
       "text": [
        "array([(0.0, -4.83, -2.18, -0.52), (1.0, -3.38, 0.37, -3.24),\n",
        "       (2.0, -8.02, 4.52, -5.02), (3.0, -6.67, 2.49, -4.43),\n",
        "       (4.0, -3.83, 5.55, -7.41), (5.0, -7.68, 3.68, -11.65),\n",
        "       (6.0, -11.13, 4.98, -15.92), (7.0, -6.25, 8.6, -12.29),\n",
        "       (8.0, -8.56, 9.69, -8.63), (9.0, -13.31, 7.62, -12.29)], \n",
        "      dtype=[('id', '<f8'), ('a', '<f8'), ('b', '<f8'), ('c', '<f8')])"
       ]
      }
     ],
     "prompt_number": 8
    },
    {
     "cell_type": "markdown",
     "metadata": {},
     "source": [
      "Now we can see the field names in `dtype` (data type) property of the numpy array, the columns are `id`, `a`, and `c`:\n",
      "\n",
      "    dtype=[('id', '<f8'), ('a', '<f8'), ('b', '<f8'), ('c', '<f8')]\n",
      "\n",
      "There is still one thing to be done. The `id` field, which might represent a transaction identifier, is a floating point number, however we would like it to be an integer. We can specify the data types of input data in the `dtype` argument, which takes list of tuples where first tuple item is field/column name and the second item is data type."
     ]
    },
    {
     "cell_type": "code",
     "collapsed": false,
     "input": [
      "a = np.genfromtxt('data/numbers.dat',\n",
      "                  dtype=[('id', 'i'), ('a', 'f'), ('b', 'f'), ('c', 'f')])\n",
      "a"
     ],
     "language": "python",
     "metadata": {},
     "outputs": [
      {
       "output_type": "pyout",
       "prompt_number": 9,
       "text": [
        "array([(-1, nan, nan, nan),\n",
        "       (0, -4.829999923706055, -2.180000066757202, -0.5199999809265137),\n",
        "       (1, -3.380000114440918, 0.3700000047683716, -3.240000009536743),\n",
        "       (2, -8.020000457763672, 4.519999980926514, -5.019999980926514),\n",
        "       (3, -6.670000076293945, 2.490000009536743, -4.429999828338623),\n",
        "       (4, -3.8299999237060547, 5.550000190734863, -7.409999847412109),\n",
        "       (5, -7.679999828338623, 3.680000066757202, -11.649999618530273),\n",
        "       (6, -11.130000114440918, 4.980000019073486, -15.920000076293945),\n",
        "       (7, -6.25, 8.600000381469727, -12.289999961853027),\n",
        "       (8, -8.5600004196167, 9.6899995803833, -8.630000114440918),\n",
        "       (9, -13.3100004196167, 7.619999885559082, -12.289999961853027)], \n",
        "      dtype=[('id', '<i4'), ('a', '<f4'), ('b', '<f4'), ('c', '<f4')])"
       ]
      }
     ],
     "prompt_number": 9
    },
    {
     "cell_type": "markdown",
     "metadata": {},
     "source": [
      "While we have specified field names explicitly, there is was no need to read them. However now we have a problem: the parser tried to convert the first line into numbers and we got the `nan` values again. We can skip any number of lines at the beginning of the file with the `skip_header` argument giving it number of lines to be skipped. In our case it is just one line:"
     ]
    },
    {
     "cell_type": "code",
     "collapsed": false,
     "input": [
      "a = np.genfromtxt('data/numbers.dat', skip_header=1,\n",
      "                  dtype=[('id', 'i'), ('a', 'f'), ('b', 'f'), ('c', 'f')])\n",
      "a"
     ],
     "language": "python",
     "metadata": {},
     "outputs": [
      {
       "output_type": "pyout",
       "prompt_number": 10,
       "text": [
        "array([(0, -4.829999923706055, -2.180000066757202, -0.5199999809265137),\n",
        "       (1, -3.380000114440918, 0.3700000047683716, -3.240000009536743),\n",
        "       (2, -8.020000457763672, 4.519999980926514, -5.019999980926514),\n",
        "       (3, -6.670000076293945, 2.490000009536743, -4.429999828338623),\n",
        "       (4, -3.8299999237060547, 5.550000190734863, -7.409999847412109),\n",
        "       (5, -7.679999828338623, 3.680000066757202, -11.649999618530273),\n",
        "       (6, -11.130000114440918, 4.980000019073486, -15.920000076293945),\n",
        "       (7, -6.25, 8.600000381469727, -12.289999961853027),\n",
        "       (8, -8.5600004196167, 9.6899995803833, -8.630000114440918),\n",
        "       (9, -13.3100004196167, 7.619999885559082, -12.289999961853027)], \n",
        "      dtype=[('id', '<i4'), ('a', '<f4'), ('b', '<f4'), ('c', '<f4')])"
       ]
      }
     ],
     "prompt_number": 10
    },
    {
     "cell_type": "markdown",
     "metadata": {},
     "source": [
      "See? Problem solved, file was nicely read as expected."
     ]
    },
    {
     "cell_type": "heading",
     "level": 1,
     "metadata": {},
     "source": [
      "Load CSV file"
     ]
    },
    {
     "cell_type": "markdown",
     "metadata": {},
     "source": [
      "Different kind of text data file is a comma separated file:\n",
      "\n",
      "![](files/images/comma_separated.png)\n",
      "\n",
      "In many ccases you can get a CSV file by exporting spreadsheets from office software, dumping database tables or being generated from various systems. One example of generated CSV are CDR (call detail records) files from telecommunication systems."
     ]
    },
    {
     "cell_type": "code",
     "collapsed": false,
     "input": [
      "a = np.genfromtxt('data/numbers.csv', names=True)"
     ],
     "language": "python",
     "metadata": {},
     "outputs": [
      {
       "ename": "ValueError",
       "evalue": "invalid literal for float(): 0,-4.83,-2.18,-0.52",
       "output_type": "pyerr",
       "traceback": [
        "\u001b[0;31m---------------------------------------------------------------------------\u001b[0m\n\u001b[0;31mValueError\u001b[0m                                Traceback (most recent call last)",
        "\u001b[0;32m<ipython-input-11-c527ad40a1bb>\u001b[0m in \u001b[0;36m<module>\u001b[0;34m()\u001b[0m\n\u001b[0;32m----> 1\u001b[0;31m \u001b[0ma\u001b[0m \u001b[0;34m=\u001b[0m \u001b[0mnp\u001b[0m\u001b[0;34m.\u001b[0m\u001b[0mgenfromtxt\u001b[0m\u001b[0;34m(\u001b[0m\u001b[0;34m'data/numbers.csv'\u001b[0m\u001b[0;34m,\u001b[0m \u001b[0mnames\u001b[0m\u001b[0;34m=\u001b[0m\u001b[0mTrue\u001b[0m\u001b[0;34m)\u001b[0m\u001b[0;34m\u001b[0m\u001b[0m\n\u001b[0m",
        "\u001b[0;32m/opt/local/Library/Frameworks/Python.framework/Versions/2.7/lib/python2.7/site-packages/numpy/lib/npyio.pyc\u001b[0m in \u001b[0;36mgenfromtxt\u001b[0;34m(fname, dtype, comments, delimiter, skiprows, skip_header, skip_footer, converters, missing, missing_values, filling_values, usecols, names, excludelist, deletechars, replace_space, autostrip, case_sensitive, defaultfmt, unpack, usemask, loose, invalid_raise)\u001b[0m\n\u001b[1;32m   1699\u001b[0m                         \u001b[0mdtype\u001b[0m \u001b[0;34m=\u001b[0m \u001b[0mnp\u001b[0m\u001b[0;34m.\u001b[0m\u001b[0mdtype\u001b[0m\u001b[0;34m(\u001b[0m\u001b[0mttype\u001b[0m\u001b[0;34m)\u001b[0m\u001b[0;34m\u001b[0m\u001b[0m\n\u001b[1;32m   1700\u001b[0m             \u001b[0;31m#\u001b[0m\u001b[0;34m\u001b[0m\u001b[0;34m\u001b[0m\u001b[0m\n\u001b[0;32m-> 1701\u001b[0;31m             \u001b[0moutput\u001b[0m \u001b[0;34m=\u001b[0m \u001b[0mnp\u001b[0m\u001b[0;34m.\u001b[0m\u001b[0marray\u001b[0m\u001b[0;34m(\u001b[0m\u001b[0mdata\u001b[0m\u001b[0;34m,\u001b[0m \u001b[0mdtype\u001b[0m\u001b[0;34m)\u001b[0m\u001b[0;34m\u001b[0m\u001b[0m\n\u001b[0m\u001b[1;32m   1702\u001b[0m             \u001b[0;32mif\u001b[0m \u001b[0musemask\u001b[0m\u001b[0;34m:\u001b[0m\u001b[0;34m\u001b[0m\u001b[0m\n\u001b[1;32m   1703\u001b[0m                 \u001b[0;32mif\u001b[0m \u001b[0mdtype\u001b[0m\u001b[0;34m.\u001b[0m\u001b[0mnames\u001b[0m\u001b[0;34m:\u001b[0m\u001b[0;34m\u001b[0m\u001b[0m\n",
        "\u001b[0;31mValueError\u001b[0m: invalid literal for float(): 0,-4.83,-2.18,-0.52"
       ]
      }
     ],
     "prompt_number": 11
    },
    {
     "cell_type": "markdown",
     "metadata": {},
     "source": [
      "We have an error. You can see that the problem is reading a float in line:\n",
      "\n",
      "    0,3.5378129040190287,4.008146445408731,-4.478658928136415\n",
      "\n",
      "The genfromtxt expects the values to be separated by spaces, so we have to explicitly specify that the value delimiter is a comma:\n",
      "\n",
      "![](files/images/comma_separated_use.png)"
     ]
    },
    {
     "cell_type": "code",
     "collapsed": false,
     "input": [
      "a = np.genfromtxt('data/numbers.csv', names=True, delimiter=',')\n",
      "a"
     ],
     "language": "python",
     "metadata": {},
     "outputs": [
      {
       "output_type": "pyout",
       "prompt_number": 12,
       "text": [
        "array([(0.0, -4.83, -2.18, -0.52), (1.0, -3.38, 0.37, -3.24),\n",
        "       (2.0, -8.02, 4.52, -5.02), (3.0, -6.67, 2.49, -4.43),\n",
        "       (4.0, -3.83, 5.55, -7.41), (5.0, -7.68, 3.68, -11.65),\n",
        "       (6.0, -11.13, 4.98, -15.92), (7.0, -6.25, 8.6, -12.29),\n",
        "       (8.0, -8.56, 9.69, -8.63), (9.0, -13.31, 7.62, -12.29)], \n",
        "      dtype=[('id', '<f8'), ('a', '<f8'), ('b', '<f8'), ('c', '<f8')])"
       ]
      }
     ],
     "prompt_number": 12
    },
    {
     "cell_type": "markdown",
     "metadata": {},
     "source": [
      "Now we have some dataset with financial data formatted as:\n",
      "    \n",
      "        id         a         b         c\n",
      "         0    $11.78    $25.95    $14.23\n",
      "         1    $10.91    $51.39     $1.40\n",
      "         2     $7.34    $60.46     $7.53\n",
      "         3    $20.56    $54.95    $20.55\n",
      "\n",
      "They are stored in `data/numbers_currency.dat`. We try to read them:"
     ]
    },
    {
     "cell_type": "code",
     "collapsed": false,
     "input": [
      "a = np.genfromtxt('data/numbers_currency.dat', names=True)\n",
      "a"
     ],
     "language": "python",
     "metadata": {},
     "outputs": [
      {
       "output_type": "pyout",
       "prompt_number": 14,
       "text": [
        "array([(0.0, nan, nan, nan), (1.0, nan, nan, nan), (2.0, nan, nan, nan),\n",
        "       (3.0, nan, nan, nan), (4.0, nan, nan, nan), (5.0, nan, nan, nan),\n",
        "       (6.0, nan, nan, nan), (7.0, nan, nan, nan), (8.0, nan, nan, nan),\n",
        "       (9.0, nan, nan, nan)], \n",
        "      dtype=[('id', '<f8'), ('a', '<f8'), ('b', '<f8'), ('c', '<f8')])"
       ]
      }
     ],
     "prompt_number": 14
    },
    {
     "cell_type": "markdown",
     "metadata": {},
     "source": [
      "The two columns with dolar values were not read correcty - see the `nan`s? We need to treat the data. There are more options how to clean the values. One simple possibility is to strip the currency symbol from the value. We create a function named `currency_to_float` for that:"
     ]
    },
    {
     "cell_type": "code",
     "collapsed": false,
     "input": [
      "def currency_to_float(value):\n",
      "    return float(value.strip('$'))\n",
      "\n",
      "# Try the funciton:\n",
      "currency_to_float('$20.156')"
     ],
     "language": "python",
     "metadata": {},
     "outputs": [
      {
       "output_type": "pyout",
       "prompt_number": 17,
       "text": [
        "20.156"
       ]
      }
     ],
     "prompt_number": 17
    },
    {
     "cell_type": "markdown",
     "metadata": {},
     "source": [
      "To use the function for data loading, we use argument `converters` which takes a dictionary where keys are indices of fields (column numbers) and values are conversion functions. For example if we want to convert value at index 2 we will use a dictionary:\n",
      "    \n",
      "    {2: my_conversion_function}"
     ]
    },
    {
     "cell_type": "code",
     "collapsed": false,
     "input": [
      "a = np.genfromtxt('data/numbers_currency.dat', names=True,\n",
      "                  dtype=[('i', 'i'), ('a', 'f'), ('b', 'f'), ('c', 'f')],\n",
      "                  converters={1:currency_to_float, 2:currency_to_float, 3:currency_to_float})\n",
      "a"
     ],
     "language": "python",
     "metadata": {},
     "outputs": [
      {
       "output_type": "pyout",
       "prompt_number": 18,
       "text": [
        "array([(0, 11.779999732971191, 25.950000762939453, 14.229999542236328),\n",
        "       (1, 10.90999984741211, 51.38999938964844, 1.399999976158142),\n",
        "       (2, 7.340000152587891, 60.459999084472656, 7.53000020980835),\n",
        "       (3, 20.559999465942383, 54.95000076293945, 20.549999237060547),\n",
        "       (4, 68.55000305175781, 17.40999984741211, 1.0099999904632568),\n",
        "       (5, 53.86000061035156, 14.75, 16.15999984741211),\n",
        "       (6, 84.04000091552734, 28.239999771118164, 2.1500000953674316),\n",
        "       (7, 85.27999877929688, 26.899999618530273, 9.170000076293945),\n",
        "       (8, 44.59000015258789, 5.46999979019165, 19.950000762939453),\n",
        "       (9, 13.180000305175781, 15.220000267028809, 50.09000015258789)], \n",
        "      dtype=[('id', '<i4'), ('a', '<f4'), ('b', '<f4'), ('c', '<f4')])"
       ]
      }
     ],
     "prompt_number": 18
    },
    {
     "cell_type": "markdown",
     "metadata": {},
     "source": [
      "Sometimes we might get files in different locales - different value formattings depending on language. In ouer example we have data using convenience in central and eastern Europe - using decimal comma and thousands separated by spaces (values are separated by tabs):\n",
      "\n",
      "    0\t18 616,35\t37 809,89\t18 728,57\n",
      "    1\t47 865,54\t22 114,68\t9 739,13\n",
      "    2\t82 457,67\t24 357,91\t49 217,33\n",
      "    3\t129 363,05\t22 126,89\t4 672,57\n",
      "\n",
      "As in previous example, we create a conversion function:"
     ]
    },
    {
     "cell_type": "code",
     "collapsed": false,
     "input": [
      "def to_float(value):\n",
      "    value = value.replace(\" \", \"\").replace(\",\", \".\")\n",
      "    return float(value)\n",
      "\n",
      "to_float(\"18 616,35\")"
     ],
     "language": "python",
     "metadata": {},
     "outputs": [
      {
       "output_type": "pyout",
       "prompt_number": 21,
       "text": [
        "18616.35"
       ]
      }
     ],
     "prompt_number": 21
    },
    {
     "cell_type": "markdown",
     "metadata": {},
     "source": [
      "It might be recommended to use proper locale conversion functions. However, for the time being, this function satisfies our needs for now and helps us to solve the problem."
     ]
    },
    {
     "cell_type": "code",
     "collapsed": false,
     "input": [
      "a = np.genfromtxt('data/numbers_localized.csv', names=True, delimiter=\"\\t\",\n",
      "                  dtype=[('i', 'i'), ('a', 'f'), ('b', 'f'), ('c', 'f')],\n",
      "                  converters={1:to_float, 2:to_float, 3:to_float})\n",
      "a"
     ],
     "language": "python",
     "metadata": {},
     "outputs": [
      {
       "output_type": "pyout",
       "prompt_number": 22,
       "text": [
        "array([(0, 18616.349609375, 37809.890625, 18728.5703125),\n",
        "       (1, 47865.5390625, 22114.6796875, 9739.1298828125),\n",
        "       (2, 82457.671875, 24357.91015625, 49217.328125),\n",
        "       (3, 129363.046875, 22126.890625, 4672.56982421875),\n",
        "       (4, 154966.328125, 24395.19921875, 15313.6298828125),\n",
        "       (5, 111302.03125, 9680.25, 12208.08984375),\n",
        "       (6, 156372.78125, 9270.4296875, 1523.8399658203125),\n",
        "       (7, 145528.171875, 9256.8798828125, 4908.2001953125),\n",
        "       (8, 170618.625, 21681.33984375, 192.0399932861328),\n",
        "       (9, 195306.203125, 59726.640625, 36017.4609375)], \n",
        "      dtype=[('id', '<i4'), ('a', '<f4'), ('b', '<f4'), ('c', '<f4')])"
       ]
      }
     ],
     "prompt_number": 22
    },
    {
     "cell_type": "heading",
     "level": 1,
     "metadata": {},
     "source": [
      "Fixed Width"
     ]
    },
    {
     "cell_type": "markdown",
     "metadata": {},
     "source": [
      "Some text files might not have any separator between fields, but each field is contained in predefined - fixed - number of characters:\n",
      "\n",
      "![](files/images/fixed_width.png)\n",
      "\n",
      "Our example data are NOAA measurements and contains following fields:\n",
      "\n",
      "* STN \u2013 Station number (WMO/DATSAV3 number) for the location.\n",
      "* WBAN \u2013 WBAN number where applicable--this is the historical \"Weather Bureau Air Force Navy\" number - with WBAN being the acronym.\n",
      "* YEAR \u2013 The year.\n",
      "* MODA \u2013 The month and day.\n",
      "* TEMP \u2013 Mean temperature for the day in degrees Fahrenheit to tenths.  Missing = 9999.9\n",
      "* Count \u2013 Number of observations used in calculating mean temperature.\n",
      "\n",
      "Data information:\n",
      "\n",
      "* info: http://www.ncdc.noaa.gov/cgi-bin/res40.pl?page=gsod.html\n",
      "* source: ftp://ftp.ncdc.noaa.gov//pub/data/gsod/2012/024530-99999-2012.op.gz\n",
      "* specification: ftp://ftp.ncdc.noaa.gov/pub/data/gsod/readme.txt\n"
     ]
    },
    {
     "cell_type": "code",
     "collapsed": false,
     "input": [
      "a = np.genfromtxt('data/noaa-2012.op',\n",
      "                  delimiter=[6,6,6,2,2,8,4],\n",
      "                  dtype=[\"S6\", \"i\", \"i\", \"i\", \"i\", \"f\",\"i\"])\n",
      "a[0:5]\n",
      "# we might use different approach - might use space delimited, however, the specification says that fields are width specified therefore we might not be sure if the numbers will not be joined together (if they add space or not)\n",
      "# show how to user converters to convert date to other type\n",
      "# FIXME: show with names and without names"
     ],
     "language": "python",
     "metadata": {},
     "outputs": [
      {
       "output_type": "pyout",
       "prompt_number": 11,
       "text": [
        "array([('STN---', -1, -1, -1, -1, nan, -1),\n",
        "       ('024530', 99999, 2012, 1, 1, 25.899999618530273, 24),\n",
        "       ('024530', 99999, 2012, 1, 2, 36.900001525878906, 24),\n",
        "       ('024530', 99999, 2012, 1, 3, 35.599998474121094, 24),\n",
        "       ('024530', 99999, 2012, 1, 4, 33.70000076293945, 24)], \n",
        "      dtype=[('f0', '|S6'), ('f1', '<i4'), ('f2', '<i4'), ('f3', '<i4'), ('f4', '<i4'), ('f5', '<f4'), ('f6', '<i4')])"
       ]
      }
     ],
     "prompt_number": 11
    },
    {
     "cell_type": "code",
     "collapsed": false,
     "input": [
      "a = np.genfromtxt('data/noaa-2012.op',\n",
      "                  delimiter=[6,6,6,2,2,8,4],\n",
      "                  dtype=[\"S6\", \"i\", \"i\", \"i\", \"i\", \"f\",\"i\"],\n",
      "                    names=True)\n",
      "a[0:5]"
     ],
     "language": "python",
     "metadata": {},
     "outputs": [
      {
       "output_type": "pyout",
       "prompt_number": 12,
       "text": [
        "array([('024530', 99999, 2012, 1, 1, 25.899999618530273, 24),\n",
        "       ('024530', 99999, 2012, 1, 2, 36.900001525878906, 24),\n",
        "       ('024530', 99999, 2012, 1, 3, 35.599998474121094, 24),\n",
        "       ('024530', 99999, 2012, 1, 4, 33.70000076293945, 24),\n",
        "       ('024530', 99999, 2012, 1, 5, 28.899999618530273, 24)], \n",
        "      dtype=[('STN', '|S6'), ('WBAN', '<i4'), ('YEAR', '<i4'), ('MO', '<i4'), ('DA', '<i4'), ('TEMP', '<f4'), ('f0', '<i4')])"
       ]
      }
     ],
     "prompt_number": 12
    },
    {
     "cell_type": "markdown",
     "metadata": {},
     "source": [
      "Notes\n",
      "=====\n",
      "\n",
      "Using numpy.genfromtxt\n",
      "documentation: http://docs.scipy.org/doc/numpy/reference/generated/numpy.genfromtxt.html\n",
      "\n",
      "Issues to solve:\n",
      "\n",
      "* loading of big files (efficiently)\n",
      "* loading of text files into other data stores, such as sql databases\n",
      "\n",
      "example CDR file: http://www.cisco.com/en/US/docs/ios/voice/cdr/developer/guide/cdrcsv.html#wp1091351"
     ]
    },
    {
     "cell_type": "code",
     "collapsed": false,
     "input": [],
     "language": "python",
     "metadata": {},
     "outputs": []
    }
   ],
   "metadata": {}
  }
 ]
}