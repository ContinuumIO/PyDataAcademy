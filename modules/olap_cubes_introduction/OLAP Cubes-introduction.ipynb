{
 "metadata": {
  "name": "Cube \u2013 Contract Awards"
 },
 "nbformat": 3,
 "nbformat_minor": 0,
 "worksheets": [
  {
   "cells": [
    {
     "cell_type": "heading",
     "level": 1,
     "metadata": {},
     "source": [
      "Cubes \u2013 Introduction"
     ]
    },
    {
     "cell_type": "markdown",
     "metadata": {},
     "source": [
      "**Author:** Stefan Urbanek\n",
      "\n",
      "**Brought to you by:** [Continuum Analytics](http://continuum.io) \u2013 \"Python Big Data Exploration\"\n",
      "\n",
      "In this tutorial you are going to learn basics of Cubes - lightweight Python OLAP framework. After going through all of the examples you would be able or will know:\n",
      "\n",
      "* how to create simple aggregation reports\n",
      "* how to describe logical model\n",
      "* how to do aggregations\n",
      "* how to do slicing and dicing\n",
      "* how to specify hierarchies in a dimension\n",
      "\n",
      "For this tutorial it is required to go through tutorial \"Cubes - Data Preparation (or basic ETL)\"\n",
      "\n",
      "_Note: cubes framework by it self in its pure Python form is not originally meant for explorative analytics, despite it can be used for it. Its goal is to serve as multi-dimensional modelling engine for applications for explorative analytics._"
     ]
    },
    {
     "cell_type": "code",
     "collapsed": false,
     "input": [
      "import cubes"
     ],
     "language": "python",
     "metadata": {},
     "outputs": [],
     "prompt_number": 40
    },
    {
     "cell_type": "markdown",
     "metadata": {},
     "source": [
      "We will be working with a data in a database. Specify a database connection in the `DATABASE_URL` where `contract_awards` table is stored."
     ]
    },
    {
     "cell_type": "code",
     "collapsed": false,
     "input": [
      "DATABASE_URL = \"postgres://localhost/sandbox\""
     ],
     "language": "python",
     "metadata": {},
     "outputs": [],
     "prompt_number": 2
    },
    {
     "cell_type": "markdown",
     "metadata": {},
     "source": [
      "Core of the cubes is data modelling - putting data in a form how analysts would like to see and use them or in a form that reflects business way of looking at reality. We start with creating a simple model description with one cube for `contract_awards`:"
     ]
    },
    {
     "cell_type": "code",
     "collapsed": false,
     "input": [
      "model_description = {\n",
      "     \"cubes\": [\n",
      "         {\n",
      "            \"name\": \"contract_awards\",\n",
      "            \"measures\": [\"contract_amount\"]\n",
      "         }\n",
      "    ]\n",
      "}"
     ],
     "language": "python",
     "metadata": {},
     "outputs": [],
     "prompt_number": 3
    },
    {
     "cell_type": "code",
     "collapsed": false,
     "input": [
      "model = cubes.create_model(model_description)"
     ],
     "language": "python",
     "metadata": {},
     "outputs": [],
     "prompt_number": 4
    },
    {
     "cell_type": "markdown",
     "metadata": {},
     "source": [
      "Workspace is like a database connection"
     ]
    },
    {
     "cell_type": "code",
     "collapsed": false,
     "input": [
      "workspace = cubes.create_workspace(\"sql\", model, url=DATABASE_URL)"
     ],
     "language": "python",
     "metadata": {},
     "outputs": [],
     "prompt_number": 5
    },
    {
     "cell_type": "markdown",
     "metadata": {},
     "source": [
      "Browser performs aggregated browsing on top a single cube."
     ]
    },
    {
     "cell_type": "code",
     "collapsed": false,
     "input": [
      "browser = workspace.browser(model.cube(\"contract_awards\"))"
     ],
     "language": "python",
     "metadata": {},
     "outputs": [],
     "prompt_number": 6
    },
    {
     "cell_type": "code",
     "collapsed": false,
     "input": [
      "browser.aggregate().to_dict()"
     ],
     "language": "python",
     "metadata": {},
     "outputs": [
      {
       "output_type": "pyout",
       "prompt_number": 7,
       "text": [
        "{'cell': [],\n",
        " 'cells': [],\n",
        " 'measures': None,\n",
        " 'remainder': {},\n",
        " 'summary': {u'contract_amount_sum': Decimal('134904681168.0'),\n",
        "  u'record_count': 30284L},\n",
        " 'total_cell_count': None}"
       ]
      }
     ],
     "prompt_number": 7
    },
    {
     "cell_type": "markdown",
     "metadata": {},
     "source": [
      "For purpose of this tutorial we will wrap some reusable code:"
     ]
    },
    {
     "cell_type": "code",
     "collapsed": false,
     "input": [
      "def cube_browser(model_description):\n",
      "    model = cubes.create_model(model_description)\n",
      "    workspace = cubes.create_workspace(\"sql\", model, url=DATABASE_URL)\n",
      "    cube = model.cube(\"contract_awards\")\n",
      "    browser = workspace.browser(cube)\n",
      "    return cube, browser"
     ],
     "language": "python",
     "metadata": {},
     "outputs": [],
     "prompt_number": 8
    },
    {
     "cell_type": "heading",
     "level": 2,
     "metadata": {},
     "source": [
      "Dimensions"
     ]
    },
    {
     "cell_type": "code",
     "collapsed": false,
     "input": [
      "model_description = {\n",
      "     \"cubes\": [\n",
      "         {\n",
      "            \"name\": \"contract_awards\",\n",
      "            \"measures\": [\"contract_amount\"],\n",
      "            \"dimensions\": [\"fiscal_year\", \"region\", \"borrower_country\"]\n",
      "         }\n",
      "    ]\n",
      "}"
     ],
     "language": "python",
     "metadata": {},
     "outputs": [],
     "prompt_number": 9
    },
    {
     "cell_type": "code",
     "collapsed": false,
     "input": [
      "(cube, browser) = cube_browser(model_description)"
     ],
     "language": "python",
     "metadata": {},
     "outputs": [
      {
       "ename": "NoSuchDimensionError",
       "evalue": "No such dimension ''fiscal_year''",
       "output_type": "pyerr",
       "traceback": [
        "\u001b[0;31m---------------------------------------------------------------------------\u001b[0m\n\u001b[0;31mNoSuchDimensionError\u001b[0m                      Traceback (most recent call last)",
        "\u001b[0;32m<ipython-input-10-903196790ffe>\u001b[0m in \u001b[0;36m<module>\u001b[0;34m()\u001b[0m\n\u001b[0;32m----> 1\u001b[0;31m \u001b[0;34m(\u001b[0m\u001b[0mcube\u001b[0m\u001b[0;34m,\u001b[0m \u001b[0mbrowser\u001b[0m\u001b[0;34m)\u001b[0m \u001b[0;34m=\u001b[0m \u001b[0mcube_browser\u001b[0m\u001b[0;34m(\u001b[0m\u001b[0mmodel_description\u001b[0m\u001b[0;34m)\u001b[0m\u001b[0;34m\u001b[0m\u001b[0m\n\u001b[0m",
        "\u001b[0;32m<ipython-input-8-bea3412c05e6>\u001b[0m in \u001b[0;36mcube_browser\u001b[0;34m(model_description)\u001b[0m\n\u001b[1;32m      1\u001b[0m \u001b[0;32mdef\u001b[0m \u001b[0mcube_browser\u001b[0m\u001b[0;34m(\u001b[0m\u001b[0mmodel_description\u001b[0m\u001b[0;34m)\u001b[0m\u001b[0;34m:\u001b[0m\u001b[0;34m\u001b[0m\u001b[0m\n\u001b[0;32m----> 2\u001b[0;31m     \u001b[0mmodel\u001b[0m \u001b[0;34m=\u001b[0m \u001b[0mcubes\u001b[0m\u001b[0;34m.\u001b[0m\u001b[0mcreate_model\u001b[0m\u001b[0;34m(\u001b[0m\u001b[0mmodel_description\u001b[0m\u001b[0;34m)\u001b[0m\u001b[0;34m\u001b[0m\u001b[0m\n\u001b[0m\u001b[1;32m      3\u001b[0m     \u001b[0mworkspace\u001b[0m \u001b[0;34m=\u001b[0m \u001b[0mcubes\u001b[0m\u001b[0;34m.\u001b[0m\u001b[0mcreate_workspace\u001b[0m\u001b[0;34m(\u001b[0m\u001b[0;34m\"sql\"\u001b[0m\u001b[0;34m,\u001b[0m \u001b[0mmodel\u001b[0m\u001b[0;34m,\u001b[0m \u001b[0murl\u001b[0m\u001b[0;34m=\u001b[0m\u001b[0mDATABASE_URL\u001b[0m\u001b[0;34m)\u001b[0m\u001b[0;34m\u001b[0m\u001b[0m\n\u001b[1;32m      4\u001b[0m     \u001b[0mcube\u001b[0m \u001b[0;34m=\u001b[0m \u001b[0mmodel\u001b[0m\u001b[0;34m.\u001b[0m\u001b[0mcube\u001b[0m\u001b[0;34m(\u001b[0m\u001b[0;34m\"contract_awards\"\u001b[0m\u001b[0;34m)\u001b[0m\u001b[0;34m\u001b[0m\u001b[0m\n\u001b[1;32m      5\u001b[0m     \u001b[0mbrowser\u001b[0m \u001b[0;34m=\u001b[0m \u001b[0mworkspace\u001b[0m\u001b[0;34m.\u001b[0m\u001b[0mbrowser\u001b[0m\u001b[0;34m(\u001b[0m\u001b[0mcube\u001b[0m\u001b[0;34m)\u001b[0m\u001b[0;34m\u001b[0m\u001b[0m\n",
        "\u001b[0;32m/opt/local/Library/Frameworks/Python.framework/Versions/2.7/lib/python2.7/site-packages/cubes-0.10.1-py2.7.egg/cubes/model.pyc\u001b[0m in \u001b[0;36mcreate_model\u001b[0;34m(model, cubes, dimensions)\u001b[0m\n\u001b[1;32m    149\u001b[0m     \u001b[0mmodel_cubes\u001b[0m \u001b[0;34m=\u001b[0m \u001b[0mOrderedDict\u001b[0m\u001b[0;34m(\u001b[0m\u001b[0;34m)\u001b[0m\u001b[0;34m\u001b[0m\u001b[0m\n\u001b[1;32m    150\u001b[0m     \u001b[0;32mfor\u001b[0m \u001b[0mdesc\u001b[0m \u001b[0;32min\u001b[0m \u001b[0mall_cubes\u001b[0m\u001b[0;34m:\u001b[0m\u001b[0;34m\u001b[0m\u001b[0m\n\u001b[0;32m--> 151\u001b[0;31m         \u001b[0mcube\u001b[0m \u001b[0;34m=\u001b[0m \u001b[0mcreate_cube\u001b[0m\u001b[0;34m(\u001b[0m\u001b[0mdesc\u001b[0m\u001b[0;34m,\u001b[0m \u001b[0mmodel_dimensions\u001b[0m\u001b[0;34m)\u001b[0m\u001b[0;34m\u001b[0m\u001b[0m\n\u001b[0m\u001b[1;32m    152\u001b[0m         \u001b[0;32mif\u001b[0m \u001b[0mcube\u001b[0m\u001b[0;34m.\u001b[0m\u001b[0mname\u001b[0m \u001b[0;32min\u001b[0m \u001b[0mmodel_cubes\u001b[0m\u001b[0;34m:\u001b[0m\u001b[0;34m\u001b[0m\u001b[0m\n\u001b[1;32m    153\u001b[0m             \u001b[0;32mraise\u001b[0m \u001b[0mModelError\u001b[0m\u001b[0;34m(\u001b[0m\u001b[0;34m\"Duplicate cube '%s'\"\u001b[0m \u001b[0;34m%\u001b[0m \u001b[0mcube\u001b[0m\u001b[0;34m.\u001b[0m\u001b[0mname\u001b[0m\u001b[0;34m)\u001b[0m\u001b[0;34m\u001b[0m\u001b[0m\n",
        "\u001b[0;32m/opt/local/Library/Frameworks/Python.framework/Versions/2.7/lib/python2.7/site-packages/cubes-0.10.1-py2.7.egg/cubes/model.pyc\u001b[0m in \u001b[0;36mcreate_cube\u001b[0;34m(desc, dimensions)\u001b[0m\n\u001b[1;32m    350\u001b[0m             \u001b[0mcube_dims\u001b[0m \u001b[0;34m=\u001b[0m \u001b[0;34m[\u001b[0m\u001b[0mdimensions\u001b[0m\u001b[0;34m[\u001b[0m\u001b[0mname\u001b[0m\u001b[0;34m]\u001b[0m \u001b[0;32mfor\u001b[0m \u001b[0mname\u001b[0m \u001b[0;32min\u001b[0m \u001b[0mdesc\u001b[0m\u001b[0;34m[\u001b[0m\u001b[0;34m\"dimensions\"\u001b[0m\u001b[0;34m]\u001b[0m\u001b[0;34m]\u001b[0m\u001b[0;34m\u001b[0m\u001b[0m\n\u001b[1;32m    351\u001b[0m         \u001b[0;32mexcept\u001b[0m \u001b[0mKeyError\u001b[0m \u001b[0;32mas\u001b[0m \u001b[0me\u001b[0m\u001b[0;34m:\u001b[0m\u001b[0;34m\u001b[0m\u001b[0m\n\u001b[0;32m--> 352\u001b[0;31m             \u001b[0;32mraise\u001b[0m \u001b[0mNoSuchDimensionError\u001b[0m\u001b[0;34m(\u001b[0m\u001b[0;34m\"No such dimension '%s'\"\u001b[0m \u001b[0;34m%\u001b[0m \u001b[0mstr\u001b[0m\u001b[0;34m(\u001b[0m\u001b[0me\u001b[0m\u001b[0;34m)\u001b[0m\u001b[0;34m)\u001b[0m\u001b[0;34m\u001b[0m\u001b[0m\n\u001b[0m\u001b[1;32m    353\u001b[0m \u001b[0;34m\u001b[0m\u001b[0m\n\u001b[1;32m    354\u001b[0m         \u001b[0mdesc\u001b[0m \u001b[0;34m=\u001b[0m \u001b[0mdict\u001b[0m\u001b[0;34m(\u001b[0m\u001b[0mdesc\u001b[0m\u001b[0;34m)\u001b[0m\u001b[0;34m\u001b[0m\u001b[0m\n",
        "\u001b[0;31mNoSuchDimensionError\u001b[0m: No such dimension ''fiscal_year''"
       ]
      }
     ],
     "prompt_number": 10
    },
    {
     "cell_type": "markdown",
     "metadata": {},
     "source": [
      "We got an exception: `NoSuchDimensionError: No such dimension ''fiscal_year''`. That means that our cube uses a dimension, but the dimension is not defined - it is not known, what fields belong to that dimension. We have to define it first."
     ]
    },
    {
     "cell_type": "code",
     "collapsed": false,
     "input": [
      "dimensions = [\n",
      "    {\n",
      "         \"name\": \"fiscal_year\"\n",
      "    },\n",
      "    {\n",
      "         \"name\": \"region\"\n",
      "    },\n",
      "    {\n",
      "         \"name\": \"borrower_country\"\n",
      "    }\n",
      "]\n",
      "model_description[\"dimensions\"] = dimensions"
     ],
     "language": "python",
     "metadata": {},
     "outputs": [],
     "prompt_number": 11
    },
    {
     "cell_type": "code",
     "collapsed": false,
     "input": [
      "cube, browser = cube_browser(model_description)"
     ],
     "language": "python",
     "metadata": {},
     "outputs": [],
     "prompt_number": 12
    },
    {
     "cell_type": "code",
     "collapsed": false,
     "input": [
      "result = browser.aggregate(drilldown=[\"fiscal_year\"])\n",
      "result"
     ],
     "language": "python",
     "metadata": {},
     "outputs": [
      {
       "output_type": "pyout",
       "prompt_number": 13,
       "text": [
        "<cubes.browser.AggregationResult at 0x112e76d50>"
       ]
      }
     ],
     "prompt_number": 13
    },
    {
     "cell_type": "code",
     "collapsed": false,
     "input": [
      "result.cells"
     ],
     "language": "python",
     "metadata": {},
     "outputs": [
      {
       "output_type": "pyout",
       "prompt_number": 14,
       "text": [
        "<cubes.backends.sql.star.ResultIterator at 0x112e7bc50>"
       ]
      }
     ],
     "prompt_number": 14
    },
    {
     "cell_type": "code",
     "collapsed": false,
     "input": [
      "list(result.cells)"
     ],
     "language": "python",
     "metadata": {},
     "outputs": [
      {
       "output_type": "pyout",
       "prompt_number": 15,
       "text": [
        "[{u'contract_amount_sum': Decimal('51437866644.0'),\n",
        "  u'fiscal_year': 2011,\n",
        "  u'record_count': 11547L},\n",
        " {u'contract_amount_sum': Decimal('52270886568.0'),\n",
        "  u'fiscal_year': 2010,\n",
        "  u'record_count': 11734L},\n",
        " {u'contract_amount_sum': Decimal('31195927956.0'),\n",
        "  u'fiscal_year': 2012,\n",
        "  u'record_count': 7003L}]"
       ]
      }
     ],
     "prompt_number": 15
    },
    {
     "cell_type": "code",
     "collapsed": false,
     "input": [
      "result = browser.aggregate(drilldown=[\"region\"])\n",
      "\n",
      "for cell in result.cells:\n",
      "    print \"%-28s: %20.2f %6d\" % (cell[\"region\"], cell[\"contract_amount_sum\"], cell[\"record_count\"])"
     ],
     "language": "python",
     "metadata": {},
     "outputs": [
      {
       "output_type": "stream",
       "stream": "stdout",
       "text": [
        "MIDDLE EAST AND NORTH AFRICA:        5969233680.00   1340\n",
        "AFRICA                      :       30171357996.00   6773\n",
        "OTHER                       :         129184908.00     29\n",
        "LATIN AMERICA AND CARIBBEAN :       27026373684.00   6067\n",
        "SOUTH ASIA                  :       16321844928.00   3664\n",
        "EUROPE AND CENTRAL ASIA     :       32024493228.00   7189\n",
        "EAST ASIA AND PACIFIC       :       23262192744.00   5222\n"
       ]
      }
     ],
     "prompt_number": 16
    },
    {
     "cell_type": "code",
     "collapsed": false,
     "input": [
      "result = browser.aggregate(drilldown=[\"region\"], order=[\"region\"])\n",
      "\n",
      "for cell in result.cells:\n",
      "    print \"%-28s: %20.2f %6d\" % (cell[\"region\"], cell[\"contract_amount_sum\"], cell[\"record_count\"])"
     ],
     "language": "python",
     "metadata": {},
     "outputs": [
      {
       "output_type": "stream",
       "stream": "stdout",
       "text": [
        "AFRICA                      :       30171357996.00   6773\n",
        "EAST ASIA AND PACIFIC       :       23262192744.00   5222\n",
        "EUROPE AND CENTRAL ASIA     :       32024493228.00   7189\n",
        "LATIN AMERICA AND CARIBBEAN :       27026373684.00   6067\n",
        "MIDDLE EAST AND NORTH AFRICA:        5969233680.00   1340\n",
        "OTHER                       :         129184908.00     29\n",
        "SOUTH ASIA                  :       16321844928.00   3664\n"
       ]
      }
     ],
     "prompt_number": 17
    },
    {
     "cell_type": "heading",
     "level": 2,
     "metadata": {},
     "source": [
      "Slicing and Dicing"
     ]
    },
    {
     "cell_type": "code",
     "collapsed": false,
     "input": [
      "cut = cubes.PointCut(\"fiscal_year\", [2010])\n",
      "cell = cubes.Cell(cube, cuts=[cut])"
     ],
     "language": "python",
     "metadata": {},
     "outputs": [],
     "prompt_number": 18
    },
    {
     "cell_type": "code",
     "collapsed": false,
     "input": [
      "result = browser.aggregate(cell, drilldown=[\"region\"], order=[\"region\"])\n",
      "\n",
      "for row in result.cells:\n",
      "    print \"%-28s: %20.2f %6d\" % (row[\"region\"], row[\"contract_amount_sum\"], row[\"record_count\"])"
     ],
     "language": "python",
     "metadata": {},
     "outputs": [
      {
       "output_type": "stream",
       "stream": "stdout",
       "text": [
        "AFRICA                      :       11876102232.00   2666\n",
        "EAST ASIA AND PACIFIC       :        9728959968.00   2184\n",
        "EUROPE AND CENTRAL ASIA     :       11893920840.00   2670\n",
        "LATIN AMERICA AND CARIBBEAN :        9622048320.00   2160\n",
        "MIDDLE EAST AND NORTH AFRICA:        2556970248.00    574\n",
        "OTHER                       :          40091868.00      9\n",
        "SOUTH ASIA                  :        6552793092.00   1471\n"
       ]
      }
     ],
     "prompt_number": 19
    },
    {
     "cell_type": "markdown",
     "metadata": {},
     "source": [
      "Instead of going through raw cells, we have a convenience method called `table_rows` which automatically provides table label:"
     ]
    },
    {
     "cell_type": "code",
     "collapsed": false,
     "input": [
      "result = browser.aggregate(cell, drilldown=[\"region\"], order=[\"region\"])\n",
      "\n",
      "for row in result.table_rows(\"region\"):\n",
      "    print \"%-28s: %20.2f %6d\" % (row.label, row.record[\"contract_amount_sum\"], row.record[\"record_count\"])"
     ],
     "language": "python",
     "metadata": {},
     "outputs": [
      {
       "output_type": "stream",
       "stream": "stdout",
       "text": [
        "AFRICA                      :       11876102232.00   2666\n",
        "EAST ASIA AND PACIFIC       :        9728959968.00   2184\n",
        "EUROPE AND CENTRAL ASIA     :       11893920840.00   2670\n",
        "LATIN AMERICA AND CARIBBEAN :        9622048320.00   2160\n",
        "MIDDLE EAST AND NORTH AFRICA:        2556970248.00    574\n",
        "OTHER                       :          40091868.00      9\n",
        "SOUTH ASIA                  :        6552793092.00   1471\n"
       ]
      }
     ],
     "prompt_number": 20
    },
    {
     "cell_type": "markdown",
     "metadata": {},
     "source": [
      "We can prepare a simple report table function:"
     ]
    },
    {
     "cell_type": "code",
     "collapsed": false,
     "input": [
      "def print_table(result, dimension):\n",
      "    for row in result.table_rows(dimension):\n",
      "        print \"%-38s: %20.2f %6d\" % (row.label, row.record[\"contract_amount_sum\"], row.record[\"record_count\"])"
     ],
     "language": "python",
     "metadata": {},
     "outputs": [],
     "prompt_number": 21
    },
    {
     "cell_type": "markdown",
     "metadata": {},
     "source": [
      "And try it:"
     ]
    },
    {
     "cell_type": "code",
     "collapsed": false,
     "input": [
      "result = browser.aggregate(cell, drilldown=[\"region\"], order=[\"region\"])\n",
      "print_table(result, \"region\")"
     ],
     "language": "python",
     "metadata": {},
     "outputs": [
      {
       "output_type": "stream",
       "stream": "stdout",
       "text": [
        "AFRICA                                :       11876102232.00   2666\n",
        "EAST ASIA AND PACIFIC                 :        9728959968.00   2184\n",
        "EUROPE AND CENTRAL ASIA               :       11893920840.00   2670\n",
        "LATIN AMERICA AND CARIBBEAN           :        9622048320.00   2160\n",
        "MIDDLE EAST AND NORTH AFRICA          :        2556970248.00    574\n",
        "OTHER                                 :          40091868.00      9\n",
        "SOUTH ASIA                            :        6552793092.00   1471\n"
       ]
      }
     ],
     "prompt_number": 22
    },
    {
     "cell_type": "code",
     "collapsed": false,
     "input": [
      "cuts = [cubes.PointCut(\"fiscal_year\", [2010]),\n",
      "        cubes.PointCut(\"region\", [\"AFRICA\"])]\n",
      "cell = cubes.Cell(cube, cuts=cuts)\n",
      "\n",
      "result = browser.aggregate(cell)\n",
      "result.summary"
     ],
     "language": "python",
     "metadata": {},
     "outputs": [
      {
       "output_type": "pyout",
       "prompt_number": 23,
       "text": [
        "{u'contract_amount_sum': Decimal('11876102232.0'), u'record_count': 2666L}"
       ]
      }
     ],
     "prompt_number": 23
    },
    {
     "cell_type": "heading",
     "level": 1,
     "metadata": {},
     "source": [
      "Mappings"
     ]
    },
    {
     "cell_type": "markdown",
     "metadata": {},
     "source": [
      "Before we go further with hierarchies, we have to understand what is going on behind the scenes \u2013 how the framework knows which columns to use. So far we were working with simple, flat dimensions, represented by only one column, such as \"fiscal_year\". By default cubes tries to look for those dimensions in the fact table. However, when we start to work with dimensions that have multiple hierarchies, like in our case borrower region and borrower country, cubes expects the dimension data to be contained in a separate dimension tables. This is more common, as we usually want more information to be stored there, such as labels or attributes that are not relevant for analysis, but are nice to have for better understanding or further references.\n",
      "\n",
      "However, we do not have dimension tables (yet), therefore we have to override the default behavior of cubes. We can do dat by specifying where particular attribute of a dimension can be found.\n",
      "\n",
      "If we are working with more complex dimensions (with multiple hierarchies, labels or decorative attributes), attributes are referenced not just by dimension name, but as `dimension_name.attribute_name`. For example: `region.borrower_country` if the `region` dimension had two levels: `region` and `borrower_country`.\n",
      "\n",
      "Mappings are specified for each cube and have form of a dictionary where keys are logical model attributes (as mentioned above) and values, in simple case, are references to table attributes:\n",
      "\n",
      "```\n",
      "\"mappings\": {\n",
      "    \"dimension.attribute\": \"table.column\"\n",
      "}\n",
      "```\n",
      "\n",
      "If `table` is ommited, then fact table is used. There are more complex ways how to specify mappings to tune logical model to your physical model, we are not going into depth at this point.\n",
      "\n",
      "See following example with hierarchies, how mappings are used in this simple case."
     ]
    },
    {
     "cell_type": "heading",
     "level": 1,
     "metadata": {},
     "source": [
      "Hierarchies"
     ]
    },
    {
     "cell_type": "code",
     "collapsed": false,
     "input": [
      "model_description = {\n",
      "     \"cubes\": [\n",
      "         {\n",
      "            \"name\": \"contract_awards\",\n",
      "            \"measures\": [\"contract_amount\"],\n",
      "            \"dimensions\": [\"fiscal_year\", \"region\"]\n",
      "         }\n",
      "    ]\n",
      "}\n",
      "\n",
      "dimensions = [\n",
      "    {\n",
      "         \"name\": \"fiscal_year\",\n",
      "    },\n",
      "    {\n",
      "         \"name\": \"region\",\n",
      "         \"levels\": [\"region\", \"borrower_country\"]\n",
      "    }\n",
      "]\n",
      "model_description[\"dimensions\"] = dimensions"
     ],
     "language": "python",
     "metadata": {},
     "outputs": [],
     "prompt_number": 24
    },
    {
     "cell_type": "code",
     "collapsed": false,
     "input": [
      "cube, browser = cube_browser(model_description)"
     ],
     "language": "python",
     "metadata": {},
     "outputs": [],
     "prompt_number": 25
    },
    {
     "cell_type": "code",
     "collapsed": false,
     "input": [
      "result = browser.aggregate(drilldown=[\"region\"], order=[\"region\"])\n",
      "\n",
      "print_table(result, \"region\")\n",
      "\n",
      "# expect error"
     ],
     "language": "python",
     "metadata": {},
     "outputs": [
      {
       "ename": "NoSuchTableError",
       "evalue": "region",
       "output_type": "pyerr",
       "traceback": [
        "\u001b[0;31m---------------------------------------------------------------------------\u001b[0m\n\u001b[0;31mNoSuchTableError\u001b[0m                          Traceback (most recent call last)",
        "\u001b[0;32m<ipython-input-26-b86754b882e1>\u001b[0m in \u001b[0;36m<module>\u001b[0;34m()\u001b[0m\n\u001b[0;32m----> 1\u001b[0;31m \u001b[0mresult\u001b[0m \u001b[0;34m=\u001b[0m \u001b[0mbrowser\u001b[0m\u001b[0;34m.\u001b[0m\u001b[0maggregate\u001b[0m\u001b[0;34m(\u001b[0m\u001b[0mdrilldown\u001b[0m\u001b[0;34m=\u001b[0m\u001b[0;34m[\u001b[0m\u001b[0;34m\"region\"\u001b[0m\u001b[0;34m]\u001b[0m\u001b[0;34m,\u001b[0m \u001b[0morder\u001b[0m\u001b[0;34m=\u001b[0m\u001b[0;34m[\u001b[0m\u001b[0;34m\"region\"\u001b[0m\u001b[0;34m]\u001b[0m\u001b[0;34m)\u001b[0m\u001b[0;34m\u001b[0m\u001b[0m\n\u001b[0m\u001b[1;32m      2\u001b[0m \u001b[0;34m\u001b[0m\u001b[0m\n\u001b[1;32m      3\u001b[0m \u001b[0mprint_table\u001b[0m\u001b[0;34m(\u001b[0m\u001b[0mresult\u001b[0m\u001b[0;34m,\u001b[0m \u001b[0;34m\"region\"\u001b[0m\u001b[0;34m)\u001b[0m\u001b[0;34m\u001b[0m\u001b[0m\n",
        "\u001b[0;32m/opt/local/Library/Frameworks/Python.framework/Versions/2.7/lib/python2.7/site-packages/cubes-0.10.1-py2.7.egg/cubes/backends/sql/star.pyc\u001b[0m in \u001b[0;36maggregate\u001b[0;34m(self, cell, measures, drilldown, attributes, page, page_size, order, **options)\u001b[0m\n\u001b[1;32m    261\u001b[0m                                                          \u001b[0mmeasures\u001b[0m\u001b[0;34m=\u001b[0m\u001b[0mmeasures\u001b[0m\u001b[0;34m,\u001b[0m\u001b[0;34m\u001b[0m\u001b[0m\n\u001b[1;32m    262\u001b[0m                                                          \u001b[0mattributes\u001b[0m\u001b[0;34m=\u001b[0m\u001b[0mattributes\u001b[0m\u001b[0;34m,\u001b[0m\u001b[0;34m\u001b[0m\u001b[0m\n\u001b[0;32m--> 263\u001b[0;31m                                                          drilldown=drilldown)\n\u001b[0m\u001b[1;32m    264\u001b[0m \u001b[0;34m\u001b[0m\u001b[0m\n\u001b[1;32m    265\u001b[0m             \u001b[0;32mif\u001b[0m \u001b[0mself\u001b[0m\u001b[0;34m.\u001b[0m\u001b[0mdebug\u001b[0m\u001b[0;34m:\u001b[0m\u001b[0;34m\u001b[0m\u001b[0m\n",
        "\u001b[0;32m/opt/local/Library/Frameworks/Python.framework/Versions/2.7/lib/python2.7/site-packages/cubes-0.10.1-py2.7.egg/cubes/backends/sql/star.pyc\u001b[0m in \u001b[0;36maggregation_statement\u001b[0;34m(self, cell, measures, attributes, drilldown)\u001b[0m\n\u001b[1;32m    464\u001b[0m             \u001b[0;32mfor\u001b[0m \u001b[0mdim\u001b[0m\u001b[0;34m,\u001b[0m \u001b[0mlevels\u001b[0m \u001b[0;32min\u001b[0m \u001b[0mdrilldown\u001b[0m\u001b[0;34m.\u001b[0m\u001b[0mitems\u001b[0m\u001b[0;34m(\u001b[0m\u001b[0;34m)\u001b[0m\u001b[0;34m:\u001b[0m\u001b[0;34m\u001b[0m\u001b[0m\n\u001b[1;32m    465\u001b[0m                 \u001b[0;32mfor\u001b[0m \u001b[0mlevel\u001b[0m \u001b[0;32min\u001b[0m \u001b[0mlevels\u001b[0m\u001b[0;34m:\u001b[0m\u001b[0;34m\u001b[0m\u001b[0m\n\u001b[0;32m--> 466\u001b[0;31m                     \u001b[0mcolumns\u001b[0m \u001b[0;34m=\u001b[0m \u001b[0;34m[\u001b[0m\u001b[0mself\u001b[0m\u001b[0;34m.\u001b[0m\u001b[0mcolumn\u001b[0m\u001b[0;34m(\u001b[0m\u001b[0mattr\u001b[0m\u001b[0;34m)\u001b[0m \u001b[0;32mfor\u001b[0m \u001b[0mattr\u001b[0m \u001b[0;32min\u001b[0m \u001b[0mlevel\u001b[0m\u001b[0;34m.\u001b[0m\u001b[0mattributes\u001b[0m\u001b[0;34m]\u001b[0m\u001b[0;34m\u001b[0m\u001b[0m\n\u001b[0m\u001b[1;32m    467\u001b[0m                     \u001b[0mgroup_by\u001b[0m\u001b[0;34m.\u001b[0m\u001b[0mextend\u001b[0m\u001b[0;34m(\u001b[0m\u001b[0mcolumns\u001b[0m\u001b[0;34m)\u001b[0m\u001b[0;34m\u001b[0m\u001b[0m\n\u001b[1;32m    468\u001b[0m                     \u001b[0mselection\u001b[0m\u001b[0;34m.\u001b[0m\u001b[0mextend\u001b[0m\u001b[0;34m(\u001b[0m\u001b[0mcolumns\u001b[0m\u001b[0;34m)\u001b[0m\u001b[0;34m\u001b[0m\u001b[0m\n",
        "\u001b[0;32m/opt/local/Library/Frameworks/Python.framework/Versions/2.7/lib/python2.7/site-packages/cubes-0.10.1-py2.7.egg/cubes/backends/sql/star.pyc\u001b[0m in \u001b[0;36mcolumn\u001b[0;34m(self, attribute, locale)\u001b[0m\n\u001b[1;32m    768\u001b[0m \u001b[0;34m\u001b[0m\u001b[0m\n\u001b[1;32m    769\u001b[0m         \u001b[0mref\u001b[0m \u001b[0;34m=\u001b[0m \u001b[0mself\u001b[0m\u001b[0;34m.\u001b[0m\u001b[0mmapper\u001b[0m\u001b[0;34m.\u001b[0m\u001b[0mphysical\u001b[0m\u001b[0;34m(\u001b[0m\u001b[0mattribute\u001b[0m\u001b[0;34m,\u001b[0m \u001b[0mlocale\u001b[0m\u001b[0;34m)\u001b[0m\u001b[0;34m\u001b[0m\u001b[0m\n\u001b[0;32m--> 770\u001b[0;31m         \u001b[0mtable\u001b[0m \u001b[0;34m=\u001b[0m \u001b[0mself\u001b[0m\u001b[0;34m.\u001b[0m\u001b[0mtable\u001b[0m\u001b[0;34m(\u001b[0m\u001b[0mref\u001b[0m\u001b[0;34m.\u001b[0m\u001b[0mschema\u001b[0m\u001b[0;34m,\u001b[0m \u001b[0mref\u001b[0m\u001b[0;34m.\u001b[0m\u001b[0mtable\u001b[0m\u001b[0;34m)\u001b[0m\u001b[0;34m\u001b[0m\u001b[0m\n\u001b[0m\u001b[1;32m    771\u001b[0m         \u001b[0mcolumn\u001b[0m \u001b[0;34m=\u001b[0m \u001b[0mtable\u001b[0m\u001b[0;34m.\u001b[0m\u001b[0mc\u001b[0m\u001b[0;34m[\u001b[0m\u001b[0mref\u001b[0m\u001b[0;34m.\u001b[0m\u001b[0mcolumn\u001b[0m\u001b[0;34m]\u001b[0m\u001b[0;34m\u001b[0m\u001b[0m\n\u001b[1;32m    772\u001b[0m \u001b[0;34m\u001b[0m\u001b[0m\n",
        "\u001b[0;32m/opt/local/Library/Frameworks/Python.framework/Versions/2.7/lib/python2.7/site-packages/cubes-0.10.1-py2.7.egg/cubes/backends/sql/star.pyc\u001b[0m in \u001b[0;36mtable\u001b[0;34m(self, schema, table_name, alias)\u001b[0m\n\u001b[1;32m    753\u001b[0m \u001b[0;34m\u001b[0m\u001b[0m\n\u001b[1;32m    754\u001b[0m         table = sqlalchemy.Table(table_name, self.metadata,\n\u001b[0;32m--> 755\u001b[0;31m                                  autoload=True, schema=schema)\n\u001b[0m\u001b[1;32m    756\u001b[0m \u001b[0;34m\u001b[0m\u001b[0m\n\u001b[1;32m    757\u001b[0m         \u001b[0mself\u001b[0m\u001b[0;34m.\u001b[0m\u001b[0mlogger\u001b[0m\u001b[0;34m.\u001b[0m\u001b[0mdebug\u001b[0m\u001b[0;34m(\u001b[0m\u001b[0;34m\"registering table '%s' as '%s'\"\u001b[0m \u001b[0;34m%\u001b[0m \u001b[0;34m(\u001b[0m\u001b[0mtable_name\u001b[0m\u001b[0;34m,\u001b[0m \u001b[0maliased_name\u001b[0m\u001b[0;34m)\u001b[0m\u001b[0;34m)\u001b[0m\u001b[0;34m\u001b[0m\u001b[0m\n",
        "\u001b[0;32m/opt/local/Library/Frameworks/Python.framework/Versions/2.7/lib/python2.7/site-packages/sqlalchemy/schema.pyc\u001b[0m in \u001b[0;36m__new__\u001b[0;34m(cls, *args, **kw)\u001b[0m\n\u001b[1;32m    316\u001b[0m             \u001b[0mmetadata\u001b[0m\u001b[0;34m.\u001b[0m\u001b[0m_add_table\u001b[0m\u001b[0;34m(\u001b[0m\u001b[0mname\u001b[0m\u001b[0;34m,\u001b[0m \u001b[0mschema\u001b[0m\u001b[0;34m,\u001b[0m \u001b[0mtable\u001b[0m\u001b[0;34m)\u001b[0m\u001b[0;34m\u001b[0m\u001b[0m\n\u001b[1;32m    317\u001b[0m             \u001b[0;32mtry\u001b[0m\u001b[0;34m:\u001b[0m\u001b[0;34m\u001b[0m\u001b[0m\n\u001b[0;32m--> 318\u001b[0;31m                 \u001b[0mtable\u001b[0m\u001b[0;34m.\u001b[0m\u001b[0m_init\u001b[0m\u001b[0;34m(\u001b[0m\u001b[0mname\u001b[0m\u001b[0;34m,\u001b[0m \u001b[0mmetadata\u001b[0m\u001b[0;34m,\u001b[0m \u001b[0;34m*\u001b[0m\u001b[0margs\u001b[0m\u001b[0;34m,\u001b[0m \u001b[0;34m**\u001b[0m\u001b[0mkw\u001b[0m\u001b[0;34m)\u001b[0m\u001b[0;34m\u001b[0m\u001b[0m\n\u001b[0m\u001b[1;32m    319\u001b[0m                 \u001b[0mtable\u001b[0m\u001b[0;34m.\u001b[0m\u001b[0mdispatch\u001b[0m\u001b[0;34m.\u001b[0m\u001b[0mafter_parent_attach\u001b[0m\u001b[0;34m(\u001b[0m\u001b[0mtable\u001b[0m\u001b[0;34m,\u001b[0m \u001b[0mmetadata\u001b[0m\u001b[0;34m)\u001b[0m\u001b[0;34m\u001b[0m\u001b[0m\n\u001b[1;32m    320\u001b[0m                 \u001b[0;32mreturn\u001b[0m \u001b[0mtable\u001b[0m\u001b[0;34m\u001b[0m\u001b[0m\n",
        "\u001b[0;32m/opt/local/Library/Frameworks/Python.framework/Versions/2.7/lib/python2.7/site-packages/sqlalchemy/schema.pyc\u001b[0m in \u001b[0;36m_init\u001b[0;34m(self, name, metadata, *args, **kwargs)\u001b[0m\n\u001b[1;32m    379\u001b[0m         \u001b[0;31m# circular foreign keys\u001b[0m\u001b[0;34m\u001b[0m\u001b[0;34m\u001b[0m\u001b[0m\n\u001b[1;32m    380\u001b[0m         \u001b[0;32mif\u001b[0m \u001b[0mautoload\u001b[0m\u001b[0;34m:\u001b[0m\u001b[0;34m\u001b[0m\u001b[0m\n\u001b[0;32m--> 381\u001b[0;31m             \u001b[0mself\u001b[0m\u001b[0;34m.\u001b[0m\u001b[0m_autoload\u001b[0m\u001b[0;34m(\u001b[0m\u001b[0mmetadata\u001b[0m\u001b[0;34m,\u001b[0m \u001b[0mautoload_with\u001b[0m\u001b[0;34m,\u001b[0m \u001b[0minclude_columns\u001b[0m\u001b[0;34m)\u001b[0m\u001b[0;34m\u001b[0m\u001b[0m\n\u001b[0m\u001b[1;32m    382\u001b[0m \u001b[0;34m\u001b[0m\u001b[0m\n\u001b[1;32m    383\u001b[0m         \u001b[0;31m# initialize all the column, etc. objects.  done after reflection to\u001b[0m\u001b[0;34m\u001b[0m\u001b[0;34m\u001b[0m\u001b[0m\n",
        "\u001b[0;32m/opt/local/Library/Frameworks/Python.framework/Versions/2.7/lib/python2.7/site-packages/sqlalchemy/schema.pyc\u001b[0m in \u001b[0;36m_autoload\u001b[0;34m(self, metadata, autoload_with, include_columns, exclude_columns)\u001b[0m\n\u001b[1;32m    406\u001b[0m             bind.run_callable(\n\u001b[1;32m    407\u001b[0m                     \u001b[0mbind\u001b[0m\u001b[0;34m.\u001b[0m\u001b[0mdialect\u001b[0m\u001b[0;34m.\u001b[0m\u001b[0mreflecttable\u001b[0m\u001b[0;34m,\u001b[0m\u001b[0;34m\u001b[0m\u001b[0m\n\u001b[0;32m--> 408\u001b[0;31m                     \u001b[0mself\u001b[0m\u001b[0;34m,\u001b[0m \u001b[0minclude_columns\u001b[0m\u001b[0;34m,\u001b[0m \u001b[0mexclude_columns\u001b[0m\u001b[0;34m\u001b[0m\u001b[0m\n\u001b[0m\u001b[1;32m    409\u001b[0m                 )\n\u001b[1;32m    410\u001b[0m \u001b[0;34m\u001b[0m\u001b[0m\n",
        "\u001b[0;32m/opt/local/Library/Frameworks/Python.framework/Versions/2.7/lib/python2.7/site-packages/sqlalchemy/engine/base.pyc\u001b[0m in \u001b[0;36mrun_callable\u001b[0;34m(self, callable_, *args, **kwargs)\u001b[0m\n\u001b[1;32m   2424\u001b[0m         \u001b[0mconn\u001b[0m \u001b[0;34m=\u001b[0m \u001b[0mself\u001b[0m\u001b[0;34m.\u001b[0m\u001b[0mcontextual_connect\u001b[0m\u001b[0;34m(\u001b[0m\u001b[0;34m)\u001b[0m\u001b[0;34m\u001b[0m\u001b[0m\n\u001b[1;32m   2425\u001b[0m         \u001b[0;32mtry\u001b[0m\u001b[0;34m:\u001b[0m\u001b[0;34m\u001b[0m\u001b[0m\n\u001b[0;32m-> 2426\u001b[0;31m             \u001b[0;32mreturn\u001b[0m \u001b[0mconn\u001b[0m\u001b[0;34m.\u001b[0m\u001b[0mrun_callable\u001b[0m\u001b[0;34m(\u001b[0m\u001b[0mcallable_\u001b[0m\u001b[0;34m,\u001b[0m \u001b[0;34m*\u001b[0m\u001b[0margs\u001b[0m\u001b[0;34m,\u001b[0m \u001b[0;34m**\u001b[0m\u001b[0mkwargs\u001b[0m\u001b[0;34m)\u001b[0m\u001b[0;34m\u001b[0m\u001b[0m\n\u001b[0m\u001b[1;32m   2427\u001b[0m         \u001b[0;32mfinally\u001b[0m\u001b[0;34m:\u001b[0m\u001b[0;34m\u001b[0m\u001b[0m\n\u001b[1;32m   2428\u001b[0m             \u001b[0mconn\u001b[0m\u001b[0;34m.\u001b[0m\u001b[0mclose\u001b[0m\u001b[0;34m(\u001b[0m\u001b[0;34m)\u001b[0m\u001b[0;34m\u001b[0m\u001b[0m\n",
        "\u001b[0;32m/opt/local/Library/Frameworks/Python.framework/Versions/2.7/lib/python2.7/site-packages/sqlalchemy/engine/base.pyc\u001b[0m in \u001b[0;36mrun_callable\u001b[0;34m(self, callable_, *args, **kwargs)\u001b[0m\n\u001b[1;32m   1967\u001b[0m \u001b[0;34m\u001b[0m\u001b[0m\n\u001b[1;32m   1968\u001b[0m         \"\"\"\n\u001b[0;32m-> 1969\u001b[0;31m         \u001b[0;32mreturn\u001b[0m \u001b[0mcallable_\u001b[0m\u001b[0;34m(\u001b[0m\u001b[0mself\u001b[0m\u001b[0;34m,\u001b[0m \u001b[0;34m*\u001b[0m\u001b[0margs\u001b[0m\u001b[0;34m,\u001b[0m \u001b[0;34m**\u001b[0m\u001b[0mkwargs\u001b[0m\u001b[0;34m)\u001b[0m\u001b[0;34m\u001b[0m\u001b[0m\n\u001b[0m\u001b[1;32m   1970\u001b[0m \u001b[0;34m\u001b[0m\u001b[0m\n\u001b[1;32m   1971\u001b[0m     \u001b[0;32mdef\u001b[0m \u001b[0m_run_visitor\u001b[0m\u001b[0;34m(\u001b[0m\u001b[0mself\u001b[0m\u001b[0;34m,\u001b[0m \u001b[0mvisitorcallable\u001b[0m\u001b[0;34m,\u001b[0m \u001b[0melement\u001b[0m\u001b[0;34m,\u001b[0m \u001b[0;34m**\u001b[0m\u001b[0mkwargs\u001b[0m\u001b[0;34m)\u001b[0m\u001b[0;34m:\u001b[0m\u001b[0;34m\u001b[0m\u001b[0m\n",
        "\u001b[0;32m/opt/local/Library/Frameworks/Python.framework/Versions/2.7/lib/python2.7/site-packages/sqlalchemy/engine/default.pyc\u001b[0m in \u001b[0;36mreflecttable\u001b[0;34m(self, connection, table, include_columns, exclude_columns)\u001b[0m\n\u001b[1;32m    258\u001b[0m     \u001b[0;32mdef\u001b[0m \u001b[0mreflecttable\u001b[0m\u001b[0;34m(\u001b[0m\u001b[0mself\u001b[0m\u001b[0;34m,\u001b[0m \u001b[0mconnection\u001b[0m\u001b[0;34m,\u001b[0m \u001b[0mtable\u001b[0m\u001b[0;34m,\u001b[0m \u001b[0minclude_columns\u001b[0m\u001b[0;34m,\u001b[0m \u001b[0mexclude_columns\u001b[0m\u001b[0;34m=\u001b[0m\u001b[0mNone\u001b[0m\u001b[0;34m)\u001b[0m\u001b[0;34m:\u001b[0m\u001b[0;34m\u001b[0m\u001b[0m\n\u001b[1;32m    259\u001b[0m         \u001b[0minsp\u001b[0m \u001b[0;34m=\u001b[0m \u001b[0mreflection\u001b[0m\u001b[0;34m.\u001b[0m\u001b[0mInspector\u001b[0m\u001b[0;34m.\u001b[0m\u001b[0mfrom_engine\u001b[0m\u001b[0;34m(\u001b[0m\u001b[0mconnection\u001b[0m\u001b[0;34m)\u001b[0m\u001b[0;34m\u001b[0m\u001b[0m\n\u001b[0;32m--> 260\u001b[0;31m         \u001b[0;32mreturn\u001b[0m \u001b[0minsp\u001b[0m\u001b[0;34m.\u001b[0m\u001b[0mreflecttable\u001b[0m\u001b[0;34m(\u001b[0m\u001b[0mtable\u001b[0m\u001b[0;34m,\u001b[0m \u001b[0minclude_columns\u001b[0m\u001b[0;34m,\u001b[0m \u001b[0mexclude_columns\u001b[0m\u001b[0;34m)\u001b[0m\u001b[0;34m\u001b[0m\u001b[0m\n\u001b[0m\u001b[1;32m    261\u001b[0m \u001b[0;34m\u001b[0m\u001b[0m\n\u001b[1;32m    262\u001b[0m     \u001b[0;32mdef\u001b[0m \u001b[0mget_pk_constraint\u001b[0m\u001b[0;34m(\u001b[0m\u001b[0mself\u001b[0m\u001b[0;34m,\u001b[0m \u001b[0mconn\u001b[0m\u001b[0;34m,\u001b[0m \u001b[0mtable_name\u001b[0m\u001b[0;34m,\u001b[0m \u001b[0mschema\u001b[0m\u001b[0;34m=\u001b[0m\u001b[0mNone\u001b[0m\u001b[0;34m,\u001b[0m \u001b[0;34m**\u001b[0m\u001b[0mkw\u001b[0m\u001b[0;34m)\u001b[0m\u001b[0;34m:\u001b[0m\u001b[0;34m\u001b[0m\u001b[0m\n",
        "\u001b[0;32m/opt/local/Library/Frameworks/Python.framework/Versions/2.7/lib/python2.7/site-packages/sqlalchemy/engine/reflection.pyc\u001b[0m in \u001b[0;36mreflecttable\u001b[0;34m(self, table, include_columns, exclude_columns)\u001b[0m\n\u001b[1;32m    368\u001b[0m         \u001b[0;31m# columns\u001b[0m\u001b[0;34m\u001b[0m\u001b[0;34m\u001b[0m\u001b[0m\n\u001b[1;32m    369\u001b[0m         \u001b[0mfound_table\u001b[0m \u001b[0;34m=\u001b[0m \u001b[0mFalse\u001b[0m\u001b[0;34m\u001b[0m\u001b[0m\n\u001b[0;32m--> 370\u001b[0;31m         \u001b[0;32mfor\u001b[0m \u001b[0mcol_d\u001b[0m \u001b[0;32min\u001b[0m \u001b[0mself\u001b[0m\u001b[0;34m.\u001b[0m\u001b[0mget_columns\u001b[0m\u001b[0;34m(\u001b[0m\u001b[0mtable_name\u001b[0m\u001b[0;34m,\u001b[0m \u001b[0mschema\u001b[0m\u001b[0;34m,\u001b[0m \u001b[0;34m**\u001b[0m\u001b[0mtblkw\u001b[0m\u001b[0;34m)\u001b[0m\u001b[0;34m:\u001b[0m\u001b[0;34m\u001b[0m\u001b[0m\n\u001b[0m\u001b[1;32m    371\u001b[0m             \u001b[0mfound_table\u001b[0m \u001b[0;34m=\u001b[0m \u001b[0mTrue\u001b[0m\u001b[0;34m\u001b[0m\u001b[0m\n\u001b[1;32m    372\u001b[0m             \u001b[0mtable\u001b[0m\u001b[0;34m.\u001b[0m\u001b[0mdispatch\u001b[0m\u001b[0;34m.\u001b[0m\u001b[0mcolumn_reflect\u001b[0m\u001b[0;34m(\u001b[0m\u001b[0mtable\u001b[0m\u001b[0;34m,\u001b[0m \u001b[0mcol_d\u001b[0m\u001b[0;34m)\u001b[0m\u001b[0;34m\u001b[0m\u001b[0m\n",
        "\u001b[0;32m/opt/local/Library/Frameworks/Python.framework/Versions/2.7/lib/python2.7/site-packages/sqlalchemy/engine/reflection.pyc\u001b[0m in \u001b[0;36mget_columns\u001b[0;34m(self, table_name, schema, **kw)\u001b[0m\n\u001b[1;32m    221\u001b[0m         col_defs = self.dialect.get_columns(self.bind, table_name, schema,\n\u001b[1;32m    222\u001b[0m                                             \u001b[0minfo_cache\u001b[0m\u001b[0;34m=\u001b[0m\u001b[0mself\u001b[0m\u001b[0;34m.\u001b[0m\u001b[0minfo_cache\u001b[0m\u001b[0;34m,\u001b[0m\u001b[0;34m\u001b[0m\u001b[0m\n\u001b[0;32m--> 223\u001b[0;31m                                             **kw)\n\u001b[0m\u001b[1;32m    224\u001b[0m         \u001b[0;32mfor\u001b[0m \u001b[0mcol_def\u001b[0m \u001b[0;32min\u001b[0m \u001b[0mcol_defs\u001b[0m\u001b[0;34m:\u001b[0m\u001b[0;34m\u001b[0m\u001b[0m\n\u001b[1;32m    225\u001b[0m             \u001b[0;31m# make this easy and only return instances for coltype\u001b[0m\u001b[0;34m\u001b[0m\u001b[0;34m\u001b[0m\u001b[0m\n",
        "\u001b[0;32m<string>\u001b[0m in \u001b[0;36m<lambda>\u001b[0;34m(self, connection, table_name, schema, **kw)\u001b[0m\n",
        "\u001b[0;32m/opt/local/Library/Frameworks/Python.framework/Versions/2.7/lib/python2.7/site-packages/sqlalchemy/engine/reflection.pyc\u001b[0m in \u001b[0;36mcache\u001b[0;34m(fn, self, con, *args, **kw)\u001b[0m\n\u001b[1;32m     45\u001b[0m     \u001b[0mret\u001b[0m \u001b[0;34m=\u001b[0m \u001b[0minfo_cache\u001b[0m\u001b[0;34m.\u001b[0m\u001b[0mget\u001b[0m\u001b[0;34m(\u001b[0m\u001b[0mkey\u001b[0m\u001b[0;34m)\u001b[0m\u001b[0;34m\u001b[0m\u001b[0m\n\u001b[1;32m     46\u001b[0m     \u001b[0;32mif\u001b[0m \u001b[0mret\u001b[0m \u001b[0;32mis\u001b[0m \u001b[0mNone\u001b[0m\u001b[0;34m:\u001b[0m\u001b[0;34m\u001b[0m\u001b[0m\n\u001b[0;32m---> 47\u001b[0;31m         \u001b[0mret\u001b[0m \u001b[0;34m=\u001b[0m \u001b[0mfn\u001b[0m\u001b[0;34m(\u001b[0m\u001b[0mself\u001b[0m\u001b[0;34m,\u001b[0m \u001b[0mcon\u001b[0m\u001b[0;34m,\u001b[0m \u001b[0;34m*\u001b[0m\u001b[0margs\u001b[0m\u001b[0;34m,\u001b[0m \u001b[0;34m**\u001b[0m\u001b[0mkw\u001b[0m\u001b[0;34m)\u001b[0m\u001b[0;34m\u001b[0m\u001b[0m\n\u001b[0m\u001b[1;32m     48\u001b[0m         \u001b[0minfo_cache\u001b[0m\u001b[0;34m[\u001b[0m\u001b[0mkey\u001b[0m\u001b[0;34m]\u001b[0m \u001b[0;34m=\u001b[0m \u001b[0mret\u001b[0m\u001b[0;34m\u001b[0m\u001b[0m\n\u001b[1;32m     49\u001b[0m     \u001b[0;32mreturn\u001b[0m \u001b[0mret\u001b[0m\u001b[0;34m\u001b[0m\u001b[0m\n",
        "\u001b[0;32m/opt/local/Library/Frameworks/Python.framework/Versions/2.7/lib/python2.7/site-packages/sqlalchemy/dialects/postgresql/base.pyc\u001b[0m in \u001b[0;36mget_columns\u001b[0;34m(self, connection, table_name, schema, **kw)\u001b[0m\n\u001b[1;32m   1310\u001b[0m \u001b[0;34m\u001b[0m\u001b[0m\n\u001b[1;32m   1311\u001b[0m         table_oid = self.get_table_oid(connection, table_name, schema,\n\u001b[0;32m-> 1312\u001b[0;31m                                        info_cache=kw.get('info_cache'))\n\u001b[0m\u001b[1;32m   1313\u001b[0m         SQL_COLS = \"\"\"\n\u001b[1;32m   1314\u001b[0m             \u001b[0mSELECT\u001b[0m \u001b[0ma\u001b[0m\u001b[0;34m.\u001b[0m\u001b[0mattname\u001b[0m\u001b[0;34m,\u001b[0m\u001b[0;34m\u001b[0m\u001b[0m\n",
        "\u001b[0;32m<string>\u001b[0m in \u001b[0;36m<lambda>\u001b[0;34m(self, connection, table_name, schema, **kw)\u001b[0m\n",
        "\u001b[0;32m/opt/local/Library/Frameworks/Python.framework/Versions/2.7/lib/python2.7/site-packages/sqlalchemy/engine/reflection.pyc\u001b[0m in \u001b[0;36mcache\u001b[0;34m(fn, self, con, *args, **kw)\u001b[0m\n\u001b[1;32m     45\u001b[0m     \u001b[0mret\u001b[0m \u001b[0;34m=\u001b[0m \u001b[0minfo_cache\u001b[0m\u001b[0;34m.\u001b[0m\u001b[0mget\u001b[0m\u001b[0;34m(\u001b[0m\u001b[0mkey\u001b[0m\u001b[0;34m)\u001b[0m\u001b[0;34m\u001b[0m\u001b[0m\n\u001b[1;32m     46\u001b[0m     \u001b[0;32mif\u001b[0m \u001b[0mret\u001b[0m \u001b[0;32mis\u001b[0m \u001b[0mNone\u001b[0m\u001b[0;34m:\u001b[0m\u001b[0;34m\u001b[0m\u001b[0m\n\u001b[0;32m---> 47\u001b[0;31m         \u001b[0mret\u001b[0m \u001b[0;34m=\u001b[0m \u001b[0mfn\u001b[0m\u001b[0;34m(\u001b[0m\u001b[0mself\u001b[0m\u001b[0;34m,\u001b[0m \u001b[0mcon\u001b[0m\u001b[0;34m,\u001b[0m \u001b[0;34m*\u001b[0m\u001b[0margs\u001b[0m\u001b[0;34m,\u001b[0m \u001b[0;34m**\u001b[0m\u001b[0mkw\u001b[0m\u001b[0;34m)\u001b[0m\u001b[0;34m\u001b[0m\u001b[0m\n\u001b[0m\u001b[1;32m     48\u001b[0m         \u001b[0minfo_cache\u001b[0m\u001b[0;34m[\u001b[0m\u001b[0mkey\u001b[0m\u001b[0;34m]\u001b[0m \u001b[0;34m=\u001b[0m \u001b[0mret\u001b[0m\u001b[0;34m\u001b[0m\u001b[0m\n\u001b[1;32m     49\u001b[0m     \u001b[0;32mreturn\u001b[0m \u001b[0mret\u001b[0m\u001b[0;34m\u001b[0m\u001b[0m\n",
        "\u001b[0;32m/opt/local/Library/Frameworks/Python.framework/Versions/2.7/lib/python2.7/site-packages/sqlalchemy/dialects/postgresql/base.pyc\u001b[0m in \u001b[0;36mget_table_oid\u001b[0;34m(self, connection, table_name, schema, **kw)\u001b[0m\n\u001b[1;32m   1224\u001b[0m         \u001b[0mtable_oid\u001b[0m \u001b[0;34m=\u001b[0m \u001b[0mc\u001b[0m\u001b[0;34m.\u001b[0m\u001b[0mscalar\u001b[0m\u001b[0;34m(\u001b[0m\u001b[0;34m)\u001b[0m\u001b[0;34m\u001b[0m\u001b[0m\n\u001b[1;32m   1225\u001b[0m         \u001b[0;32mif\u001b[0m \u001b[0mtable_oid\u001b[0m \u001b[0;32mis\u001b[0m \u001b[0mNone\u001b[0m\u001b[0;34m:\u001b[0m\u001b[0;34m\u001b[0m\u001b[0m\n\u001b[0;32m-> 1226\u001b[0;31m             \u001b[0;32mraise\u001b[0m \u001b[0mexc\u001b[0m\u001b[0;34m.\u001b[0m\u001b[0mNoSuchTableError\u001b[0m\u001b[0;34m(\u001b[0m\u001b[0mtable_name\u001b[0m\u001b[0;34m)\u001b[0m\u001b[0;34m\u001b[0m\u001b[0m\n\u001b[0m\u001b[1;32m   1227\u001b[0m         \u001b[0;32mreturn\u001b[0m \u001b[0mtable_oid\u001b[0m\u001b[0;34m\u001b[0m\u001b[0m\n\u001b[1;32m   1228\u001b[0m \u001b[0;34m\u001b[0m\u001b[0m\n",
        "\u001b[0;31mNoSuchTableError\u001b[0m: region"
       ]
      }
     ],
     "prompt_number": 26
    },
    {
     "cell_type": "code",
     "collapsed": false,
     "input": [
      "model_description = {\n",
      "     \"cubes\": [\n",
      "         {\n",
      "            \"name\": \"contract_awards\",\n",
      "            \"measures\": [\"contract_amount\"],\n",
      "            \"dimensions\": [\"fiscal_year\", \"region\"],\n",
      "            \"mappings\": {\n",
      "                 \"region.region\":\"region\",\n",
      "                 \"region.borrower_country\":\"borrower_country\"\n",
      "            }\n",
      "         }\n",
      "    ]\n",
      "}\n",
      "\n",
      "dimensions = [\n",
      "    {\n",
      "         \"name\": \"fiscal_year\",\n",
      "    },\n",
      "    {\n",
      "         \"name\": \"region\",\n",
      "         \"levels\": [\"region\", \"borrower_country\"]\n",
      "    }\n",
      "]\n",
      "model_description[\"dimensions\"] = dimensions"
     ],
     "language": "python",
     "metadata": {},
     "outputs": [],
     "prompt_number": 27
    },
    {
     "cell_type": "code",
     "collapsed": false,
     "input": [
      "cube, browser = cube_browser(model_description)\n",
      "\n",
      "result = browser.aggregate(drilldown=[\"region\"], order=[\"region.region\"])\n",
      "\n",
      "print_table(result, \"region\")"
     ],
     "language": "python",
     "metadata": {},
     "outputs": [
      {
       "output_type": "stream",
       "stream": "stdout",
       "text": [
        "AFRICA                                :       30171357996.00   6773\n",
        "EAST ASIA AND PACIFIC                 :       23262192744.00   5222\n",
        "EUROPE AND CENTRAL ASIA               :       32024493228.00   7189\n",
        "LATIN AMERICA AND CARIBBEAN           :       27026373684.00   6067\n",
        "MIDDLE EAST AND NORTH AFRICA          :        5969233680.00   1340\n",
        "OTHER                                 :         129184908.00     29\n",
        "SOUTH ASIA                            :       16321844928.00   3664\n"
       ]
      }
     ],
     "prompt_number": 28
    },
    {
     "cell_type": "markdown",
     "metadata": {},
     "source": [
      "If we would like to see details of region _'EUROPE AND CENTRAL ASIA'_ we create a cut for `region` dimension. If we drill down through the same dimension, cubes knows which level is going to be next and drills down through that level, in our case `borrower_country`:"
     ]
    },
    {
     "cell_type": "code",
     "collapsed": false,
     "input": [
      "cut = cubes.PointCut(\"region\", [\"EUROPE AND CENTRAL ASIA\"])\n",
      "cell = cubes.Cell(cube, cuts=[cut])\n",
      "\n",
      "result = browser.aggregate(cell, drilldown=[\"region\"], order=[\"region.borrower_country\"])\n",
      "\n",
      "print_table(result, \"region\")"
     ],
     "language": "python",
     "metadata": {},
     "outputs": [
      {
       "output_type": "stream",
       "stream": "stdout",
       "text": [
        "Albania                               :        1385396772.00    311\n",
        "Armenia                               :        1358668860.00    305\n",
        "Azerbaijan                            :        2534696988.00    569\n",
        "Belarus                               :         890930400.00    200\n",
        "Bosnia and Herzegovina                :        2120414352.00    476\n",
        "Bulgaria                              :         178186080.00     40\n",
        "Central Asia                          :         445465200.00    100\n",
        "Croatia                               :        1590310764.00    357\n",
        "Europe and Central Asia               :          75729084.00     17\n",
        "Georgia                               :        1113663000.00    250\n",
        "Hungary                               :          17818608.00      4\n",
        "Kazakhstan                            :         922112964.00    207\n",
        "Kosovo                                :        1086935088.00    244\n",
        "Kyrgyz Republic                       :        2436694644.00    547\n",
        "Macedonia, former Yugoslav Republic   :        1585856112.00    356\n",
        "Moldova                               :        2080322484.00    467\n",
        "Montenegro                            :        1162664172.00    261\n",
        "Poland                                :         200459340.00     45\n",
        "Romania                               :        1020115308.00    229\n",
        "Russian Federation                    :        1242847908.00    279\n",
        "Serbia                                :        2329782996.00    523\n",
        "South Eastern Europe and Balkans      :         196004688.00     44\n",
        "Tajikistan                            :        2623790028.00    589\n",
        "Turkey                                :        1826407320.00    410\n",
        "Turkmenistan                          :          66819780.00     15\n",
        "Ukraine                               :         988932744.00    222\n",
        "Uzbekistan                            :         543467544.00    122\n"
       ]
      }
     ],
     "prompt_number": 29
    },
    {
     "cell_type": "markdown",
     "metadata": {},
     "source": [
      "Now you can see that cell serves as a description of browsing context - contains information about \"what I am currently looking at?\". Here is how the same cell looks like if we drill down by fiscal year:"
     ]
    },
    {
     "cell_type": "code",
     "collapsed": false,
     "input": [
      "result = browser.aggregate(cell, drilldown=[\"fiscal_year\"], order=[\"fiscal_year\"])\n",
      "\n",
      "print_table(result, \"fiscal_year\")"
     ],
     "language": "python",
     "metadata": {},
     "outputs": [
      {
       "output_type": "stream",
       "stream": "stdout",
       "text": [
        "2010                                  :       11893920840.00   2670\n",
        "2011                                  :       12241383696.00   2748\n",
        "2012                                  :        7889188692.00   1771\n"
       ]
      }
     ],
     "prompt_number": 30
    },
    {
     "cell_type": "raw",
     "metadata": {},
     "source": [
      "cuts = (cubes.PointCut(\"fiscal_year\", [2010]),\n",
      "       cubes.SetCut(\"region\", [[\"AFRICA\"], [\"EUROPE AND CENTRAL ASIA\"]])\n",
      "       )\n",
      "cell = cubes.Cell(cube, cuts=cuts)\n",
      "\n",
      "result = browser.aggregate(cell, drilldown=[\"region\"])\n",
      "print_table(result, \"region\")"
     ]
    },
    {
     "cell_type": "heading",
     "level": 1,
     "metadata": {},
     "source": [
      "Tree Browsing"
     ]
    },
    {
     "cell_type": "markdown",
     "metadata": {},
     "source": [
      "See the whole hierarchy tree"
     ]
    },
    {
     "cell_type": "code",
     "collapsed": false,
     "input": [
      "region_dimension = cube.dimension(\"region\")"
     ],
     "language": "python",
     "metadata": {},
     "outputs": [],
     "prompt_number": 33
    },
    {
     "cell_type": "code",
     "collapsed": false,
     "input": [
      "cut = cubes.PointCut(region_dimension, [\"EUROPE AND CENTRAL ASIA\"])\n",
      "cell = cubes.Cell(cube, cuts=[cut])\n",
      "cell.is_base(region_dimension)"
     ],
     "language": "python",
     "metadata": {},
     "outputs": [
      {
       "output_type": "pyout",
       "prompt_number": 34,
       "text": [
        "False"
       ]
      }
     ],
     "prompt_number": 34
    },
    {
     "cell_type": "code",
     "collapsed": false,
     "input": [
      "cut = cubes.PointCut(region_dimension, [\"EUROPE AND CENTRAL ASIA\", \"Poland\"])\n",
      "cell = cubes.Cell(cube, cuts=[cut])\n",
      "cell.is_base(region_dimension)"
     ],
     "language": "python",
     "metadata": {},
     "outputs": [
      {
       "output_type": "pyout",
       "prompt_number": 35,
       "text": [
        "True"
       ]
      }
     ],
     "prompt_number": 35
    },
    {
     "cell_type": "code",
     "collapsed": false,
     "input": [
      "def drilldown_tree(browser, cell, dimension):\n",
      "    \"\"\"Drill-down and aggregate recursively through als levels of `dimension`.\n",
      "    \n",
      "    This function is like recursively traversing directories on a file system\n",
      "    and aggregating the file sizes, for example.\n",
      "    \n",
      "    * `cell` - cube cell to drill-down\n",
      "    * `dimension` - dimension to be traversed through all levels\n",
      "    \"\"\"\n",
      "\n",
      "    if cell.is_base(dimension):\n",
      "        return\n",
      "\n",
      "    result = browser.aggregate(cell, drilldown=[dimension])\n",
      "\n",
      "    # for row in cubes.drilldown_rows(cell, result, dimension):\n",
      "    for row in result.table_rows(dimension):\n",
      "        indent = \"    \" * (len(row.path) - 1)\n",
      "        print \"%s%s: %.2f %d\" % (indent, row.label, row.record[\"contract_amount_sum\"], row.record[\"record_count\"])\n",
      "\n",
      "        new_cell = cell.drilldown(dimension, row.key)\n",
      "        drilldown_tree(browser, new_cell, dimension)\n"
     ],
     "language": "python",
     "metadata": {},
     "outputs": [],
     "prompt_number": 36
    },
    {
     "cell_type": "code",
     "collapsed": false,
     "input": [
      "cell = cubes.Cell(cube)\n",
      "drilldown_tree(browser, cell, cube.dimension(\"region\"))"
     ],
     "language": "python",
     "metadata": {},
     "outputs": [
      {
       "output_type": "stream",
       "stream": "stdout",
       "text": [
        "MIDDLE EAST AND NORTH AFRICA: 5969233680.00 1340\n",
        "    Jordan: 378645420.00 85\n",
        "    Djibouti: 258369816.00 58\n",
        "    Lebanon: 690471060.00 155\n",
        "    Iraq: 663743148.00 149\n",
        "    Iran, Islamic Republic of: 22273260.00 5\n",
        "    Iran: 138094212.00 31\n",
        "    West Bank and Gaza: 788473404.00 177\n",
        "    Morocco: 106911648.00 24\n",
        "    Yemen: 717198972.00 161\n",
        "    Yemen, Republic of: 788473404.00 177\n",
        "    Egypt, Arab Republic of: 846383880.00 190\n",
        "    Middle East and North Africa: 115820952.00 26\n",
        "    Tunisia: 441010548.00 99\n",
        "    Syrian Arab Republic: 13363956.00 3\n",
        "AFRICA: 30171357996.00 6773\n",
        "    Liberia: 1367578164.00 307"
       ]
      },
      {
       "output_type": "stream",
       "stream": "stdout",
       "text": [
        "\n",
        "    Lesotho: 245005860.00 55\n",
        "    Rwanda: 356372160.00 80\n",
        "    Mali: 432101244.00 97\n",
        "    Kenya: 619196628.00 139\n",
        "    Mauritius: 84638388.00 19\n",
        "     Seychelles: 4454652.00 1\n",
        "    Swaziland: 40091868.00 9\n",
        "    Congo, Democratic Republic of: 2040230616.00 458\n",
        "    Guinea: 106911648.00 24\n",
        "    Togo: 570195456.00 128\n",
        "    Madagascar: 610287324.00 137\n",
        "    Sao Tome and Principe: 40091868.00 9\n",
        "    Congo, Republic of: 289552380.00 65\n",
        "    Gabon: 40091868.00 9\n",
        "    Ethiopia: 1256211864.00 282\n",
        "    Botswana: 129184908.00 29\n",
        "    Sierra Leone: 868657140.00 195\n",
        "    Zambia: 463283808.00 104\n",
        "    Benin: 1109208348.00 249\n",
        "    Angola: 619196628.00 139\n",
        "    Seychelles: 13363956.00 3\n",
        "    Ghana: 1086935088.00 244\n",
        "    Niger: 512284980.00 115\n",
        "    Zimbabwe: 236096556.00 53\n",
        "    Malawi: 757290840.00 170\n",
        "    Central African Republic: 392009376.00 88\n",
        "    South Sudan: 579104760.00 130\n",
        "    Africa: 4022550756.00 903\n",
        "    Sudan: 1238393256.00 278\n",
        "    Cote d'Ivoire: 1305213036.00 293\n",
        "    Congo, Republic of : 84638388.00 19\n",
        "    Tanzania: 1412124684.00 317\n",
        "    South Africa: 191550036.00 43\n",
        "    Mauritania: 245005860.00 55\n",
        "    Comoros: 44546520.00 10\n",
        "    Cape Verde: 22273260.00 5\n",
        "    Cameroon: 579104760.00 130\n",
        "    Guinea-Bissau: 106911648.00 24\n",
        "    Nigeria: 1421033988.00 319\n",
        "    Gambia: 13363956.00 3\n",
        "    Eritrea: 98002344.00 22\n",
        "    Chad: 213823296.00 48\n",
        "    Senegal: 534558240.00 120\n",
        "    Burundi: 605832672.00 136\n",
        "    Mozambique: 1082480436.00 243\n",
        "    Gambia, The: 258369816.00 58\n",
        "    Uganda: 1421033988.00 319\n",
        "    Burkina Faso: 400918680.00 90\n",
        "OTHER: 129184908.00 29\n",
        "    World: 111366300.00 25\n",
        "    Asia: 17818608.00 4\n",
        "LATIN AMERICA AND CARIBBEAN: 27026373684.00 6067\n",
        "    Dominica: 26727912.00 6"
       ]
      },
      {
       "output_type": "stream",
       "stream": "stdout",
       "text": [
        "\n",
        "    Haiti: 2365420212.00 531\n",
        "    Organization of Eastern Caribbean States (OECS): 307370988.00 69\n",
        "    Peru: 1345304904.00 302\n",
        "    Paraguay: 285097728.00 64\n",
        "    Caribbean: 142548864.00 32\n",
        "    Panama: 320734944.00 72\n",
        "    Honduras: 1608129372.00 361\n",
        "    St. Lucia: 40091868.00 9\n",
        "    Andean Countries: 151458168.00 34\n",
        "    Antigua and Barbuda: 40091868.00 9\n",
        "    Jamaica: 44546520.00 10\n",
        "    Costa Rica: 53455824.00 12\n",
        "    Mexico: 730562928.00 164\n",
        "    Brazil: 3479083212.00 781\n",
        "    St. Vincent and the Grenadines: 133639560.00 30\n",
        "    Argentina: 2374329516.00 533\n",
        "    Belize: 267279120.00 60\n",
        "    OECS Countries: 35637216.00 8\n",
        "    Central America: 89093040.00 20\n",
        "    Uruguay: 280643076.00 63\n",
        "    Bolivia: 1247302560.00 280\n",
        "    Latin America: 178186080.00 40\n",
        "    Barbados: 4454652.00 1\n",
        "    Dominican Republic: 1100299044.00 247\n",
        "    Grenada: 200459340.00 45\n",
        "    Colombia: 3915639108.00 879\n",
        "    Ecuador: 209368644.00 47\n",
        "    Guatemala: 2512423728.00 564\n",
        "    El Salvador: 316280292.00 71\n",
        "    Chile: 106911648.00 24\n",
        "    Nicaragua: 3006890100.00 675\n",
        "    Guyana: 106911648.00 24\n",
        "SOUTH ASIA: 16321844928.00 3664\n",
        "    Pakistan: 1550218896.00 348\n",
        "    South Asia: 8909304.00 2\n",
        "    Afghanistan: 5456948700.00 1225\n",
        "    Maldives: 155912820.00 35\n",
        "    Bangladesh: 2837613324.00 637\n",
        "    Nepal: 1973410836.00 443\n",
        "    India: 3617177424.00 812\n",
        "    Bhutan: 138094212.00 31\n",
        "    Sri Lanka: 583559412.00 131\n",
        "EUROPE AND CENTRAL ASIA: 32024493228.00 7189\n",
        "    Kyrgyz Republic: 2436694644.00 547"
       ]
      },
      {
       "output_type": "stream",
       "stream": "stdout",
       "text": [
        "\n",
        "    Romania: 1020115308.00 229\n",
        "    Central Asia: 445465200.00 100\n",
        "    Ukraine: 988932744.00 222\n",
        "    Montenegro: 1162664172.00 261\n",
        "    Armenia: 1358668860.00 305\n",
        "    Macedonia, former Yugoslav Republic: 1585856112.00 356\n",
        "    Kazakhstan: 922112964.00 207\n",
        "    Moldova: 2080322484.00 467\n",
        "    Tajikistan: 2623790028.00 589\n",
        "    South Eastern Europe and Balkans: 196004688.00 44\n",
        "    Turkmenistan: 66819780.00 15\n",
        "    Georgia: 1113663000.00 250\n",
        "    Belarus: 890930400.00 200\n",
        "    Serbia: 2329782996.00 523\n",
        "    Kosovo: 1086935088.00 244\n",
        "    Bulgaria: 178186080.00 40\n",
        "    Albania: 1385396772.00 311\n",
        "    Croatia: 1590310764.00 357\n",
        "    Poland: 200459340.00 45\n",
        "    Bosnia and Herzegovina: 2120414352.00 476\n",
        "    Turkey: 1826407320.00 410\n",
        "    Uzbekistan: 543467544.00 122\n",
        "    Europe and Central Asia: 75729084.00 17\n",
        "    Hungary: 17818608.00 4\n",
        "    Azerbaijan: 2534696988.00 569\n",
        "    Russian Federation: 1242847908.00 279\n",
        "EAST ASIA AND PACIFIC: 23262192744.00 5222\n",
        "    Pacific Islands: 31182564.00 7\n",
        "    Samoa: 151458168.00 34\n",
        "    Kiribati: 111366300.00 25\n",
        "    Vietnam: 10063058868.00 2259\n",
        "    Mekong: 71274432.00 16\n",
        "    Cambodia: 1821952668.00 409\n",
        "    Solomon Islands: 249460512.00 56\n",
        "    Mongolia: 1162664172.00 261\n",
        "    Timor-Leste: 601378020.00 135\n",
        "    Lao People's Democratic Republic: 1135936260.00 255\n",
        "    Philippines: 1046843220.00 235\n",
        "    Fiji: 13363956.00 3\n",
        "    Papua New Guinea: 374190768.00 84\n",
        "    Tonga: 200459340.00 45\n",
        "    Vanuatu: 31182564.00 7\n",
        "    Thailand: 57910476.00 13\n",
        "    Indonesia: 1750678236.00 393\n",
        "    Tuvalu: 40091868.00 9\n",
        "    East Asia and Pacific: 164822124.00 37\n",
        "    China: 4182918228.00 939\n"
       ]
      }
     ],
     "prompt_number": 37
    },
    {
     "cell_type": "code",
     "collapsed": false,
     "input": [
      "cell = cubes.Cell(cube)\n",
      "drilldown_tree(browser, cell, cube.dimension(\"fiscal_year\"))"
     ],
     "language": "python",
     "metadata": {},
     "outputs": [
      {
       "output_type": "stream",
       "stream": "stdout",
       "text": [
        "2011: 51437866644.00 11547\n",
        "2010: 52270886568.00 11734\n",
        "2012: 31195927956.00 7003\n"
       ]
      }
     ],
     "prompt_number": 38
    },
    {
     "cell_type": "code",
     "collapsed": false,
     "input": [
      "cubes.__version__"
     ],
     "language": "python",
     "metadata": {},
     "outputs": [
      {
       "output_type": "pyout",
       "prompt_number": 39,
       "text": [
        "'0.10.1'"
       ]
      }
     ],
     "prompt_number": 39
    },
    {
     "cell_type": "code",
     "collapsed": false,
     "input": [],
     "language": "python",
     "metadata": {},
     "outputs": []
    }
   ],
   "metadata": {}
  }
 ]
}