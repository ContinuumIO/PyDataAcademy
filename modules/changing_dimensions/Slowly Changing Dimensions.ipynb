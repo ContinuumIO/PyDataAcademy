{
 "metadata": {
  "name": "Slowly Changing Dimensions"
 },
 "nbformat": 3,
 "nbformat_minor": 0,
 "worksheets": [
  {
   "cells": [
    {
     "cell_type": "heading",
     "level": 1,
     "metadata": {},
     "source": [
      "Dimension Loading and Slowly Changing Dimensions"
     ]
    },
    {
     "cell_type": "markdown",
     "metadata": {},
     "source": [
      "**Author:** Stefan Urbanek\n",
      "\n",
      "**Brought to you by:** [Continuum Analytics](http://continuum.io)\n",
      "\n",
      "**Knowledge learned:**\n",
      "\n",
      "* how to load a dimension table from CSV file\n",
      "* what are slowly changing dimensions\n",
      "* how to handle the changes\n",
      "* Type 1, Type 2, Type 3 and Type 6 change\n",
      "\n",
      "**Reusable utility functions**\n",
      "\n",
      "Here is a list of utility functions that you will create as excercise and you might reuse in your code:\n",
      "\n",
      "* `table_size(table)` \u2013 return number of rows in a table\n",
      "* `dimension_file_reader(filename)` \u2013 read dimension file encoded as UTF-8 from shared data source directory and yield dimension rows\n",
      "* `load_dimension_table(table, filename, truncate)` \u2013 load data from `filename` into a `table`, delete all records in `table` if `truncate` is `True`\n",
      "\n",
      "**Required knowledge:** "
     ]
    },
    {
     "cell_type": "heading",
     "level": 1,
     "metadata": {},
     "source": [
      "Problem Definition"
     ]
    },
    {
     "cell_type": "markdown",
     "metadata": {},
     "source": [
      "We have a dimension table with list of Texas state agencies which contains agency code and agency name:\n",
      "\n",
      "    101,Senate\n",
      "    102,House of Representatives\n",
      "    103,Texas Legislative Council\n",
      "    104,Legislative Budget Board\n",
      "\n",
      "The table is updated on yearly basis: new agencies are added or name of an agency changes."
     ]
    },
    {
     "cell_type": "heading",
     "level": 2,
     "metadata": {},
     "source": [
      "Preparation/Configuration"
     ]
    },
    {
     "cell_type": "code",
     "collapsed": false,
     "input": [
      "DATABASE_URL = \"sqlite:///data.sqlite\"\n",
      "DATA_PATH = \"data\""
     ],
     "language": "python",
     "metadata": {},
     "outputs": [],
     "prompt_number": 97
    },
    {
     "cell_type": "heading",
     "level": 3,
     "metadata": {},
     "source": [
      "Required Utilities"
     ]
    },
    {
     "cell_type": "markdown",
     "metadata": {},
     "source": [
      "Following piece of code is required for Python 2 to correctly read unicode CSV files. It is not related to the topic discussed in this module."
     ]
    },
    {
     "cell_type": "code",
     "collapsed": false,
     "input": [
      "import codecs\n",
      "\n",
      "class UTF8Recoder:\n",
      "    \"\"\"\n",
      "    Iterator that reads an encoded stream and reencodes the input to UTF-8\n",
      "    \"\"\"\n",
      "    def __init__(self, f, encoding):\n",
      "        self.reader = codecs.getreader(encoding)(f)\n",
      "\n",
      "    def __iter__(self):\n",
      "        return self\n",
      "\n",
      "    def next(self):\n",
      "        return self.reader.next().encode(\"utf-8\")\n",
      "\n",
      "class UnicodeReader:\n",
      "    \"\"\"\n",
      "    A CSV reader which will iterate over lines in the CSV file \"f\",\n",
      "    which is encoded in the given encoding.\n",
      "    \"\"\"\n",
      "\n",
      "    def __init__(self, f, dialect=csv.excel, encoding=\"utf-8\", **kwds):\n",
      "        f = UTF8Recoder(f, encoding)\n",
      "        self.reader = csv.reader(f, dialect=dialect, **kwds)\n",
      "\n",
      "    def next(self):\n",
      "        row = self.reader.next()\n",
      "        return [unicode(s, \"utf-8\") for s in row]\n",
      "\n",
      "    def __iter__(self):\n",
      "        return self"
     ],
     "language": "python",
     "metadata": {},
     "outputs": [],
     "prompt_number": 98
    },
    {
     "cell_type": "heading",
     "level": 2,
     "metadata": {},
     "source": [
      "Dimension Loading"
     ]
    },
    {
     "cell_type": "code",
     "collapsed": false,
     "input": [],
     "language": "python",
     "metadata": {},
     "outputs": [],
     "prompt_number": 98
    },
    {
     "cell_type": "code",
     "collapsed": false,
     "input": [
      "import sqlalchemy\n",
      "from sqlalchemy import sql\n",
      "import csv\n",
      "import os.path"
     ],
     "language": "python",
     "metadata": {},
     "outputs": [],
     "prompt_number": 99
    },
    {
     "cell_type": "code",
     "collapsed": false,
     "input": [
      "engine = sqlalchemy.create_engine(DATABASE_URL)\n",
      "metadata = sqlalchemy.MetaData(bind=engine)"
     ],
     "language": "python",
     "metadata": {},
     "outputs": [],
     "prompt_number": 164
    },
    {
     "cell_type": "markdown",
     "metadata": {},
     "source": [
      "First we create a dimension table `dim_agencies` for agencies and fill it with first snapshot. The table looks like:\n",
      "\n",
      "<table>\n",
      "    <tr><th>code</th><th>name</th></tr>\n",
      "    <tr><td>...</td><td>...</td></tr>\n",
      "</table>\n",
      "\n",
      "Both values are strings.\n"
     ]
    },
    {
     "cell_type": "code",
     "collapsed": false,
     "input": [
      "table = sqlalchemy.Table(\"dim_agencies\", metadata,\n",
      "                         sqlalchemy.Column(\"code\", sqlalchemy.String(4)),\n",
      "                         sqlalchemy.Column(\"name\", sqlalchemy.String(250)))\n",
      "metadata.create_all()"
     ],
     "language": "python",
     "metadata": {},
     "outputs": [],
     "prompt_number": 165
    },
    {
     "cell_type": "markdown",
     "metadata": {},
     "source": [
      "Eventhough we have just created the table, in case we would like to run the example again from this point, make sure that the table is in the same state as for the very first time - empty."
     ]
    },
    {
     "cell_type": "code",
     "collapsed": false,
     "input": [
      "engine.execute(table.delete())"
     ],
     "language": "python",
     "metadata": {},
     "outputs": [
      {
       "output_type": "pyout",
       "prompt_number": 141,
       "text": [
        "<sqlalchemy.engine.base.ResultProxy at 0x110311750>"
       ]
      }
     ],
     "prompt_number": 141
    },
    {
     "cell_type": "markdown",
     "metadata": {},
     "source": [
      "Our first snapshot is for year 2008:"
     ]
    },
    {
     "cell_type": "code",
     "collapsed": false,
     "input": [
      "filename = os.path.join(DATA_PATH, \"agencies_2008.csv\")"
     ],
     "language": "python",
     "metadata": {},
     "outputs": [],
     "prompt_number": 142
    },
    {
     "cell_type": "markdown",
     "metadata": {},
     "source": [
      "Prepare the `insert` statement:"
     ]
    },
    {
     "cell_type": "code",
     "collapsed": false,
     "input": [
      "insert = table.insert()\n",
      "print str(insert)"
     ],
     "language": "python",
     "metadata": {},
     "outputs": [
      {
       "output_type": "stream",
       "stream": "stdout",
       "text": [
        "INSERT INTO dim_agencies (code, name) VALUES (?, ?)\n"
       ]
      }
     ],
     "prompt_number": 143
    },
    {
     "cell_type": "markdown",
     "metadata": {},
     "source": [
      "Insert the rows:\n",
      "\n",
      "_Note:_ we are using UnicodeReader as described in the Python 2 [CSV module documentation](http://docs.python.org/2/library/csv.html) to be able to correctly load UTF-8 encoded files."
     ]
    },
    {
     "cell_type": "code",
     "collapsed": false,
     "input": [
      "with open(filename) as f:\n",
      "    reader = UnicodeReader(f)\n",
      "\n",
      "    for row in reader:\n",
      "        engine.execute(insert.values(row))"
     ],
     "language": "python",
     "metadata": {},
     "outputs": [],
     "prompt_number": 144
    },
    {
     "cell_type": "markdown",
     "metadata": {},
     "source": [
      "How many records were inserted? We can use `table.count()` to construct our `SELECT COUNT(*)` statement. Result is a row iterator containing only one row."
     ]
    },
    {
     "cell_type": "code",
     "collapsed": false,
     "input": [
      "print str(table.count())\n",
      "\n",
      "result = table.count().execute()\n",
      "print list(result)[0][0]"
     ],
     "language": "python",
     "metadata": {},
     "outputs": [
      {
       "output_type": "stream",
       "stream": "stdout",
       "text": [
        "SELECT count(dim_agencies.code) AS tbl_row_count \n",
        "FROM dim_agencies\n",
        "205\n"
       ]
      }
     ],
     "prompt_number": 132
    },
    {
     "cell_type": "heading",
     "level": 3,
     "metadata": {},
     "source": [
      "Utility: table_size"
     ]
    },
    {
     "cell_type": "markdown",
     "metadata": {},
     "source": [
      "We might find counting rows in a table useful in explorative data processing. Let's create a reusable function that will return number of rows in a table:"
     ]
    },
    {
     "cell_type": "code",
     "collapsed": false,
     "input": [
      "def table_size(table):\n",
      "    \"\"\"Return number of rows in a table.\"\"\"\n",
      "    result = list(table.count().execute())\n",
      "    # Return first value from first row in the result\n",
      "    return result[0][0]"
     ],
     "language": "python",
     "metadata": {},
     "outputs": [],
     "prompt_number": 121
    },
    {
     "cell_type": "code",
     "collapsed": false,
     "input": [
      "table_size(table)"
     ],
     "language": "python",
     "metadata": {},
     "outputs": [
      {
       "output_type": "pyout",
       "prompt_number": 122,
       "text": [
        "205"
       ]
      }
     ],
     "prompt_number": 122
    },
    {
     "cell_type": "markdown",
     "metadata": {},
     "source": [
      "Have a peek in our dimension table, print first 10 rows ordered by agency `code`:"
     ]
    },
    {
     "cell_type": "code",
     "collapsed": false,
     "input": [
      "result = table.select(limit=10, order_by=['code']).execute()\n",
      "\n",
      "for row in result:\n",
      "    print row"
     ],
     "language": "python",
     "metadata": {},
     "outputs": [
      {
       "output_type": "stream",
       "stream": "stdout",
       "text": [
        "(u'101', u'Senate')\n",
        "(u'102', u'House of Representatives')\n",
        "(u'103', u'Texas Legislative Council')\n",
        "(u'104', u'Legislative Budget Board')\n",
        "(u'105', u'Legislative Reference Library')\n",
        "(u'107', u'Commission on Uniform State Laws')\n",
        "(u'116', u'Sunset Advisory Commission')\n",
        "(u'201', u'Supreme Court')\n",
        "(u'202', u'State Bar of Texas')\n",
        "(u'203', u'Board of Law Examiners')\n"
       ]
      }
     ],
     "prompt_number": 123
    },
    {
     "cell_type": "heading",
     "level": 3,
     "metadata": {},
     "source": [
      "Utility: dimension_file_reader"
     ]
    },
    {
     "cell_type": "markdown",
     "metadata": {},
     "source": [
      "Our dimension files are all stored in one data source folder which location is specified by `DATA_PATH`. This is quite common practice to have one source folder where data are pulled from external sources or pushed by external servers.\n",
      "\n",
      "In our case all CSV files with dimension data are standard files: comma `','` separated and endoded as UTF-8.\n",
      "\n",
      "We might find handy to have a reader for those files that will yield file's rows properely decoded. Create a generator function, that will take relative filename argument and will yield file's rows:"
     ]
    },
    {
     "cell_type": "code",
     "collapsed": false,
     "input": [
      "def dimension_file_reader(filename):\n",
      "    \"\"\"Read `filename` relative to DATA_PATH, decode it as UTF-8 with UnicodeReader and yield dimension file rows\"\"\"\n",
      "    # \n",
      "    # your implementation here...\n",
      "    #"
     ],
     "language": "python",
     "metadata": {},
     "outputs": [],
     "prompt_number": 110
    },
    {
     "cell_type": "markdown",
     "metadata": {},
     "source": [
      "Print first ten rows of the dimension table. Expected result:\n",
      "\n",
      "    [[u'101', u'Senate'],\n",
      "     [u'102', u'House of Representatives'],\n",
      "     [u'103', u'Texas Legislative Council'],\n",
      "     [u'104', u'Legislative Budget Board'],\n",
      "     [u'105', u'Legislative Reference Library'],\n",
      "     [u'107', u'Commission on Uniform State Laws'],\n",
      "     [u'116', u'Sunset Advisory Commission'],\n",
      "     [u'201', u'Supreme Court'],\n",
      "     [u'202', u'State Bar of Texas'],\n",
      "     [u'203', u'Board of Law Examiners']]"
     ]
    },
    {
     "cell_type": "code",
     "collapsed": false,
     "input": [
      "rows = list(dimension_file_reader(\"agencies_2008.csv\"))\n",
      "rows[0:10]"
     ],
     "language": "python",
     "metadata": {},
     "outputs": [
      {
       "ename": "TypeError",
       "evalue": "'NoneType' object is not iterable",
       "output_type": "pyerr",
       "traceback": [
        "\u001b[0;31m---------------------------------------------------------------------------\u001b[0m\n\u001b[0;31mTypeError\u001b[0m                                 Traceback (most recent call last)",
        "\u001b[0;32m<ipython-input-111-c3a2045c0eec>\u001b[0m in \u001b[0;36m<module>\u001b[0;34m()\u001b[0m\n\u001b[0;32m----> 1\u001b[0;31m \u001b[0mrows\u001b[0m \u001b[0;34m=\u001b[0m \u001b[0mlist\u001b[0m\u001b[0;34m(\u001b[0m\u001b[0mdimension_file_reader\u001b[0m\u001b[0;34m(\u001b[0m\u001b[0;34m\"agencies_2008.csv\"\u001b[0m\u001b[0;34m)\u001b[0m\u001b[0;34m)\u001b[0m\u001b[0;34m\u001b[0m\u001b[0m\n\u001b[0m\u001b[1;32m      2\u001b[0m \u001b[0mrows\u001b[0m\u001b[0;34m[\u001b[0m\u001b[0;36m0\u001b[0m\u001b[0;34m:\u001b[0m\u001b[0;36m10\u001b[0m\u001b[0;34m]\u001b[0m\u001b[0;34m\u001b[0m\u001b[0m\n",
        "\u001b[0;31mTypeError\u001b[0m: 'NoneType' object is not iterable"
       ]
      }
     ],
     "prompt_number": 111
    },
    {
     "cell_type": "heading",
     "level": 3,
     "metadata": {},
     "source": [
      "Solution"
     ]
    },
    {
     "cell_type": "code",
     "collapsed": false,
     "input": [
      "def dimension_file_reader(filename):\n",
      "    \"\"\"Read `filename` relative to DATA_PATH, decode it as UTF-8 with UnicodeReader and yield dimension file rows\"\"\"\n",
      "\n",
      "    full_path = os.path.join(DATA_PATH, filename)\n",
      "\n",
      "    with open(full_path) as f:\n",
      "        reader = UnicodeReader(f)\n",
      "        for row in reader:\n",
      "            yield row"
     ],
     "language": "python",
     "metadata": {},
     "outputs": [],
     "prompt_number": 112
    },
    {
     "cell_type": "heading",
     "level": 2,
     "metadata": {},
     "source": [
      "Adding Next Snapshot"
     ]
    },
    {
     "cell_type": "markdown",
     "metadata": {},
     "source": [
      "So far we have list of agencies from year 2008. Now we have new year 2009 and we need to update the list of agencies. We do that by reading new year's file and adding rows that do not exist in our dimension table. We can assume that agency code is unique agency identifier, therefore we can check whether agency with such code exists in our table."
     ]
    },
    {
     "cell_type": "markdown",
     "metadata": {},
     "source": [
      "Get `code` column object that we will use for sleection and conditions:"
     ]
    },
    {
     "cell_type": "code",
     "collapsed": false,
     "input": [
      "code_column = table.c[\"code\"]"
     ],
     "language": "python",
     "metadata": {},
     "outputs": [],
     "prompt_number": 124
    },
    {
     "cell_type": "markdown",
     "metadata": {},
     "source": [
      "Prepare a select statement for the column:"
     ]
    },
    {
     "cell_type": "code",
     "collapsed": false,
     "input": [
      "select = sql.expression.select([code_column])\n",
      "print str(select)"
     ],
     "language": "python",
     "metadata": {},
     "outputs": [
      {
       "output_type": "stream",
       "stream": "stdout",
       "text": [
        "SELECT dim_agencies.code \n",
        "FROM dim_agencies\n"
       ]
      }
     ],
     "prompt_number": 129
    },
    {
     "cell_type": "markdown",
     "metadata": {},
     "source": [
      "Conditions are prepared with Python operators as `column == value` and can be appended to the select statement with `where(condition)`:"
     ]
    },
    {
     "cell_type": "code",
     "collapsed": false,
     "input": [
      "conditional_select = select.where(condition)\n",
      "print str(conditional_select)"
     ],
     "language": "python",
     "metadata": {},
     "outputs": [
      {
       "output_type": "stream",
       "stream": "stdout",
       "text": [
        "SELECT dim_agencies.code \n",
        "FROM dim_agencies \n",
        "WHERE dim_agencies.code = ?\n"
       ]
      }
     ],
     "prompt_number": 133
    },
    {
     "cell_type": "markdown",
     "metadata": {},
     "source": [
      "Simplest solution would be to go through all agencies and insert only those that do not already exist in the list. Prepare a loop that will print all new agencies as:\n",
      "\n",
      "\n",
      "    New agency: 215: Office of Capital Writs\n",
      "    New agency: 749: Texas A&M University - San Antonio\n",
      "    New agency: 770: Texas A&M University - Central Texas\n",
      "    New agency: 773: University of North Texas - Dallas"
     ]
    },
    {
     "cell_type": "code",
     "collapsed": false,
     "input": [
      "# Get dimension file reader for 2009 snapshot\n",
      "reader = dimension_file_reader('agencies_2009.csv')\n",
      "\n",
      "for code, name in reader:\n",
      "    # Prepare condition\n",
      "    # ...\n",
      "    \n",
      "    # Get number of existing records\n",
      "    # ...\n",
      "\n",
      "    # If there are no records, print new record\n",
      "    # ...\n",
      "    pass\n",
      "    "
     ],
     "language": "python",
     "metadata": {},
     "outputs": [],
     "prompt_number": 137
    },
    {
     "cell_type": "heading",
     "level": 3,
     "metadata": {},
     "source": [
      "Solution"
     ]
    },
    {
     "cell_type": "code",
     "collapsed": false,
     "input": [
      "# Get dimension file reader for 2009 snapshot\n",
      "reader = dimension_file_reader('agencies_2009.csv')\n",
      "\n",
      "for code, name in reader:\n",
      "    # Prepare condition\n",
      "    condition = code_column == code\n",
      "    conditional_select = select.where(condition)\n",
      "\n",
      "    # Get number of existing records\n",
      "    result = engine.execute(conditional_select)\n",
      "    count = len(list(result))\n",
      "    if count == 0:\n",
      "        print \"New agency: %s: %s\" % (code, name)\n"
     ],
     "language": "python",
     "metadata": {},
     "outputs": []
    },
    {
     "cell_type": "markdown",
     "metadata": {},
     "source": [
      "Now insert the new agencies to the dimension table:"
     ]
    },
    {
     "cell_type": "code",
     "collapsed": false,
     "input": [
      "# Get dimension file reader for 2009 snapshot\n",
      "reader = dimension_file_reader('agencies_2009.csv')\n",
      "insert = table.insert()\n",
      "\n",
      "print \"Agnecies: %d\" % table_size(table)\n",
      "\n",
      "new_agencies = 0\n",
      "\n",
      "for code, name in reader:\n",
      "    # Prepare condition\n",
      "    condition = code_column == code\n",
      "    conditional_select = select.where(condition)\n",
      "\n",
      "    # Get number of existing records\n",
      "    result = engine.execute(conditional_select)\n",
      "    count = len(list(result))\n",
      "    if count == 0:\n",
      "        engine.execute(insert.values([code, name]))\n",
      "        new_agencies += 1\n",
      "        \n",
      "print \"Agnecies after update: %d\" % table_size(table)\n",
      "print \"Added %d agencies\" % new_agencies\n"
     ],
     "language": "python",
     "metadata": {},
     "outputs": [
      {
       "output_type": "stream",
       "stream": "stdout",
       "text": [
        "Agnecies: 209\n",
        "Agnecies after update: 209"
       ]
      },
      {
       "output_type": "stream",
       "stream": "stdout",
       "text": [
        "\n",
        "Added 0 agencies\n"
       ]
      }
     ],
     "prompt_number": 146
    },
    {
     "cell_type": "markdown",
     "metadata": {},
     "source": [
      "You should get output:\n",
      "\n",
      "    Agnecies: 205\n",
      "    Agnecies after update: 209\n",
      "    Added 4 agencies\n",
      "\n",
      "Try to run the previous cell again and see if something happened. There shold be no new agencies added."
     ]
    },
    {
     "cell_type": "heading",
     "level": 2,
     "metadata": {},
     "source": [
      "Loading - SQL way"
     ]
    },
    {
     "cell_type": "markdown",
     "metadata": {},
     "source": [
      "The loading was nice, pythony. However for larger dimensions it might be slow or even very slow. Problem is the loop: for each new row we are searching for row in result table. SQL engines are much more efficient in doing that with their set operations.\n",
      "\n",
      "One of possible solutions would be to have two tables: target dimension table and a temporary table with data to be merged with the existing dimensions table."
     ]
    },
    {
     "cell_type": "heading",
     "level": 3,
     "metadata": {},
     "source": [
      "Utility: load_dimension_table"
     ]
    },
    {
     "cell_type": "markdown",
     "metadata": {},
     "source": [
      "So far we have been loading dimension table manually. Create a function that will append a CSV dimension file into a dimension table. Make optional argument to control wether the target table should be trucated before loading. Reload existing dimension table with the new function."
     ]
    },
    {
     "cell_type": "code",
     "collapsed": false,
     "input": [
      "def load_dimension_table(table, filename, truncate = False):\n",
      "    # delete all records from table (truncate) if required\n",
      "    # ...\n",
      "    \n",
      "    # prepare insert statement\n",
      "    # ...\n",
      "    \n",
      "    # insert rows from CSV file, use dimension_file_reader\n",
      "    # ..."
     ],
     "language": "python",
     "metadata": {},
     "outputs": []
    },
    {
     "cell_type": "heading",
     "level": 3,
     "metadata": {},
     "source": [
      "Solution"
     ]
    },
    {
     "cell_type": "code",
     "collapsed": false,
     "input": [
      "def load_dimension_table(table, filename, truncate = False):\n",
      "    if truncate:\n",
      "        table.delete().execute()\n",
      "\n",
      "    insert = table.insert()\n",
      "    reader = dimension_file_reader(filename)\n",
      "    for row in reader:\n",
      "        insert.values(row).execute()"
     ],
     "language": "python",
     "metadata": {},
     "outputs": [],
     "prompt_number": 176
    },
    {
     "cell_type": "code",
     "collapsed": false,
     "input": [
      "load_dimension_table(table, \"agencies_2008.csv\", truncate = True)\n",
      "table_size(table)"
     ],
     "language": "python",
     "metadata": {},
     "outputs": [
      {
       "output_type": "pyout",
       "prompt_number": 180,
       "text": [
        "205"
       ]
      }
     ],
     "prompt_number": 180
    },
    {
     "cell_type": "markdown",
     "metadata": {},
     "source": [
      "Create a temporary table with the same structure:"
     ]
    },
    {
     "cell_type": "code",
     "collapsed": false,
     "input": [
      "tmp_table = sqlalchemy.Table(\"tmp_agencies\", metadata)\n",
      "if tmp_table.exists():\n",
      "    tmp_table.drop()\n",
      "    metadata.drop_all(tables=[tmp_table])\n",
      "    \n",
      "tmp_table = sqlalchemy.Table(\"tmp_agencies\", metadata,\n",
      "                         sqlalchemy.Column(\"code\", sqlalchemy.String(4)),\n",
      "                         sqlalchemy.Column(\"name\", sqlalchemy.String(250)),\n",
      "                         extend_existing=True)\n",
      "if not tmp_table.exists():\n",
      "    metadata.create_all(tables=[tmp_table])\n",
      "\n",
      "tmp_table.delete().execute()"
     ],
     "language": "python",
     "metadata": {},
     "outputs": [
      {
       "output_type": "pyout",
       "prompt_number": 181,
       "text": [
        "<sqlalchemy.engine.base.ResultProxy at 0x110322850>"
       ]
      }
     ],
     "prompt_number": 181
    },
    {
     "cell_type": "markdown",
     "metadata": {},
     "source": [
      "Load data"
     ]
    },
    {
     "cell_type": "code",
     "collapsed": false,
     "input": [
      "load_dimension_table(tmp_table, \"agencies_2009.csv\", truncate = True)\n",
      "table_size(tmp_table)"
     ],
     "language": "python",
     "metadata": {},
     "outputs": [
      {
       "output_type": "pyout",
       "prompt_number": 192,
       "text": [
        "208"
       ]
      }
     ],
     "prompt_number": 192
    },
    {
     "cell_type": "markdown",
     "metadata": {},
     "source": [
      "Now we have two tables:\n",
      "\n",
      "`dim_agencies` with initial 2008 data\n",
      "<table>\n",
      "    <tr><th>code</th><th>name</th></tr>\n",
      "    <tr><td>...</td><td>...</td></tr>\n",
      "</table>\n",
      "\n",
      "\n",
      "`tmp_agencies` with new 2009 data\n",
      "<table>\n",
      "    <tr><th>code</th><th>name</th></tr>\n",
      "    <tr><td>...</td><td>...</td></tr>\n",
      "</table>\n",
      "\n",
      "Objective is to add records from the temporary table to the dimension table that do not exist in the target dimension table. There is a statement for that called `EXCEPT`:\n"
     ]
    },
    {
     "cell_type": "code",
     "collapsed": false,
     "input": [
      "target = table.select()\n",
      "source = tmp_table.select()\n",
      "diff = source.except_(target)\n",
      "str(diff)"
     ],
     "language": "python",
     "metadata": {},
     "outputs": [
      {
       "output_type": "pyout",
       "prompt_number": 205,
       "text": [
        "'SELECT tmp_agencies.code, tmp_agencies.name \\nFROM tmp_agencies EXCEPT SELECT dim_agencies.code, dim_agencies.name \\nFROM dim_agencies'"
       ]
      }
     ],
     "prompt_number": 205
    },
    {
     "cell_type": "markdown",
     "metadata": {},
     "source": [
      "Here are the agencies that are not in the target table:"
     ]
    },
    {
     "cell_type": "code",
     "collapsed": false,
     "input": [
      "for row in diff.execute():\n",
      "    print row"
     ],
     "language": "python",
     "metadata": {},
     "outputs": [],
     "prompt_number": 209
    },
    {
     "cell_type": "markdown",
     "metadata": {},
     "source": [
      "Code looks much simpler now, than previous loop. However, we still need to insert those rows into the target table. For that we have `INSERT INTO ... SELECT ...`"
     ]
    },
    {
     "cell_type": "code",
     "collapsed": false,
     "input": [
      "stmt = \"INSERT INTO dim_agencies %s\" % str(diff)\n",
      "print stmt\n",
      "engine.execute(stmt)"
     ],
     "language": "python",
     "metadata": {},
     "outputs": [
      {
       "output_type": "stream",
       "stream": "stdout",
       "text": [
        "INSERT INTO dim_agencies SELECT tmp_agencies.code, tmp_agencies.name \n",
        "FROM tmp_agencies EXCEPT SELECT dim_agencies.code, dim_agencies.name \n",
        "FROM dim_agencies\n"
       ]
      },
      {
       "output_type": "pyout",
       "prompt_number": 208,
       "text": [
        "<sqlalchemy.engine.base.ResultProxy at 0x1103528d0>"
       ]
      }
     ],
     "prompt_number": 208
    },
    {
     "cell_type": "markdown",
     "metadata": {},
     "source": [
      "What is the difference now?"
     ]
    },
    {
     "cell_type": "code",
     "collapsed": false,
     "input": [
      "for row in diff.execute():\n",
      "    print row"
     ],
     "language": "python",
     "metadata": {},
     "outputs": [],
     "prompt_number": 210
    },
    {
     "cell_type": "heading",
     "level": 2,
     "metadata": {},
     "source": [
      "Changing Dimension"
     ]
    },
    {
     "cell_type": "markdown",
     "metadata": {},
     "source": [
      "We have list of agencies from years 2008 and 2009, now it is 2010 and we have new list of agencies. Load them into temporary table:"
     ]
    },
    {
     "cell_type": "code",
     "collapsed": false,
     "input": [
      "load_dimension_table(tmp_table, 'agencies_2010.csv', truncate=True)\n",
      "print \"Number of agencies in 2010: %d\" % table_size(tmp_table)"
     ],
     "language": "python",
     "metadata": {},
     "outputs": [
      {
       "output_type": "stream",
       "stream": "stdout",
       "text": [
        "Number of agencies in 2010: 203\n"
       ]
      }
     ],
     "prompt_number": 213
    },
    {
     "cell_type": "markdown",
     "metadata": {},
     "source": [
      "What is the difference?"
     ]
    },
    {
     "cell_type": "code",
     "collapsed": false,
     "input": [
      "for row in diff.execute():\n",
      "    print row"
     ],
     "language": "python",
     "metadata": {},
     "outputs": [
      {
       "output_type": "stream",
       "stream": "stdout",
       "text": [
        "(u'357', u'Texas Department of Rural Affairs')\n",
        "(u'528', u'State Anatomical Board')\n",
        "(u'608', u'Texas Department of Motor Vehicles')\n",
        "(u'758', u'Texas State University System')\n",
        "(u'773', u'University of North Texas at Dallas')\n",
        "(u'930', u'Texas Treasury Safekeeping Trust Company')\n"
       ]
      }
     ],
     "prompt_number": 214
    },
    {
     "cell_type": "code",
     "collapsed": false,
     "input": [],
     "language": "python",
     "metadata": {},
     "outputs": []
    }
   ],
   "metadata": {}
  }
 ]
}