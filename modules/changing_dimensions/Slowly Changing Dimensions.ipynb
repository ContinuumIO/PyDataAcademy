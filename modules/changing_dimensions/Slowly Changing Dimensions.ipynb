{
 "metadata": {
  "name": "Slowly Changing Dimensions"
 },
 "nbformat": 3,
 "nbformat_minor": 0,
 "worksheets": [
  {
   "cells": [
    {
     "cell_type": "heading",
     "level": 1,
     "metadata": {},
     "source": [
      "Slowly Changing Dimensions"
     ]
    },
    {
     "cell_type": "markdown",
     "metadata": {},
     "source": [
      "**Author:** Stefan Urbanek\n",
      "\n",
      "**Brought to you by:** [Continuum Analytics](http://continuum.io)\n",
      "\n",
      "* what are slowly changing dimensions?\n",
      "* how to handle the changes?\n",
      "* Type 1, Type 2, Type 3 and Type 6 changes\n",
      "\n",
      "**Required knowledge:** "
     ]
    },
    {
     "cell_type": "heading",
     "level": 1,
     "metadata": {},
     "source": [
      "Problem Definition"
     ]
    },
    {
     "cell_type": "markdown",
     "metadata": {},
     "source": [
      "We have a dimension table with list of Texas state agencies which contains agency code and agency name:\n",
      "\n",
      "    101,Senate\n",
      "    102,House of Representatives\n",
      "    103,Texas Legislative Council\n",
      "    104,Legislative Budget Board\n",
      "\n",
      "The table is updated on yearly basis: new agencies are added or name of an agency changes."
     ]
    },
    {
     "cell_type": "heading",
     "level": 2,
     "metadata": {},
     "source": [
      "Preparation/Configuration"
     ]
    },
    {
     "cell_type": "code",
     "collapsed": false,
     "input": [
      "DATABASE_URL = \"sqlite:///data.sqlite\"\n",
      "DATA_PATH = \"data\""
     ],
     "language": "python",
     "metadata": {},
     "outputs": [],
     "prompt_number": 14
    },
    {
     "cell_type": "heading",
     "level": 2,
     "metadata": {},
     "source": [
      "Utilities"
     ]
    },
    {
     "cell_type": "markdown",
     "metadata": {},
     "source": [
      "Following piece of code is required for Python 2 to correctly read unicode CSV files. It is not related to the topic discussed in this module."
     ]
    },
    {
     "cell_type": "code",
     "collapsed": false,
     "input": [
      "import codecs\n",
      "\n",
      "class UTF8Recoder:\n",
      "    \"\"\"\n",
      "    Iterator that reads an encoded stream and reencodes the input to UTF-8\n",
      "    \"\"\"\n",
      "    def __init__(self, f, encoding):\n",
      "        self.reader = codecs.getreader(encoding)(f)\n",
      "\n",
      "    def __iter__(self):\n",
      "        return self\n",
      "\n",
      "    def next(self):\n",
      "        return self.reader.next().encode(\"utf-8\")\n",
      "\n",
      "class UnicodeReader:\n",
      "    \"\"\"\n",
      "    A CSV reader which will iterate over lines in the CSV file \"f\",\n",
      "    which is encoded in the given encoding.\n",
      "    \"\"\"\n",
      "\n",
      "    def __init__(self, f, dialect=csv.excel, encoding=\"utf-8\", **kwds):\n",
      "        f = UTF8Recoder(f, encoding)\n",
      "        self.reader = csv.reader(f, dialect=dialect, **kwds)\n",
      "\n",
      "    def next(self):\n",
      "        row = self.reader.next()\n",
      "        return [unicode(s, \"utf-8\") for s in row]\n",
      "\n",
      "    def __iter__(self):\n",
      "        return self"
     ],
     "language": "python",
     "metadata": {},
     "outputs": [],
     "prompt_number": 35
    },
    {
     "cell_type": "heading",
     "level": 2,
     "metadata": {},
     "source": [
      "Dimension Loading"
     ]
    },
    {
     "cell_type": "code",
     "collapsed": false,
     "input": [
      "import sqlalchemy\n",
      "import csv\n",
      "import os.path"
     ],
     "language": "python",
     "metadata": {},
     "outputs": [],
     "prompt_number": 10
    },
    {
     "cell_type": "code",
     "collapsed": false,
     "input": [
      "engine = sqlalchemy.create_engine(DATABASE_URL)\n",
      "metadata = sqlalchemy.MetaData(bind=engine)"
     ],
     "language": "python",
     "metadata": {},
     "outputs": [],
     "prompt_number": 11
    },
    {
     "cell_type": "markdown",
     "metadata": {},
     "source": [
      "First we create a dimension table for agencies and fill it with first snapshot."
     ]
    },
    {
     "cell_type": "code",
     "collapsed": false,
     "input": [
      "table = sqlalchemy.Table(\"dim_agencies\", metadata,\n",
      "                         sqlalchemy.Column(\"code\", sqlalchemy.String(4)),\n",
      "                         sqlalchemy.Column(\"name\", sqlalchemy.String(250)))\n",
      "metadata.create_all()"
     ],
     "language": "python",
     "metadata": {},
     "outputs": [],
     "prompt_number": 12
    },
    {
     "cell_type": "markdown",
     "metadata": {},
     "source": [
      "Eventhough we have just created the table, in case we would like to run the example again from this point, make sure that the table is in the same state as for the very first time - empty."
     ]
    },
    {
     "cell_type": "code",
     "collapsed": false,
     "input": [
      "engine.execute(table.delete())"
     ],
     "language": "python",
     "metadata": {},
     "outputs": [
      {
       "output_type": "pyout",
       "prompt_number": 38,
       "text": [
        "<sqlalchemy.engine.base.ResultProxy at 0x110190110>"
       ]
      }
     ],
     "prompt_number": 38
    },
    {
     "cell_type": "markdown",
     "metadata": {},
     "source": [
      "Our first snapshot is for year 2008:"
     ]
    },
    {
     "cell_type": "code",
     "collapsed": false,
     "input": [
      "filename = os.path.join(DATA_PATH, \"agencies_2009.csv\")"
     ],
     "language": "python",
     "metadata": {},
     "outputs": [],
     "prompt_number": 39
    },
    {
     "cell_type": "markdown",
     "metadata": {},
     "source": [
      "Prepare the `insert` statement:"
     ]
    },
    {
     "cell_type": "code",
     "collapsed": false,
     "input": [
      "insert = table.insert()"
     ],
     "language": "python",
     "metadata": {},
     "outputs": []
    },
    {
     "cell_type": "markdown",
     "metadata": {},
     "source": [
      "Insert the rows:\n",
      "\n",
      "_Note:_ we are using UnicodeReader as described in the Python 2 [CSV module documentation](http://docs.python.org/2/library/csv.html) to be able to correctly load UTF-8 encoded files."
     ]
    },
    {
     "cell_type": "code",
     "collapsed": false,
     "input": [
      "with open(filename) as f:\n",
      "    reader = UnicodeReader(f)\n",
      "\n",
      "    for row in reader:\n",
      "        engine.execute(insert.values(row))"
     ],
     "language": "python",
     "metadata": {},
     "outputs": [],
     "prompt_number": 40
    },
    {
     "cell_type": "markdown",
     "metadata": {},
     "source": [
      "How many records were inserted? We can use `table.count()` to construct our `SELECT COUNT(*)` statement. Result is a row iterator containing only one row."
     ]
    },
    {
     "cell_type": "code",
     "collapsed": false,
     "input": [
      "result = table.count().execute()\n",
      "print list(result)[0][0]"
     ],
     "language": "python",
     "metadata": {},
     "outputs": [
      {
       "output_type": "stream",
       "stream": "stdout",
       "text": [
        "208\n"
       ]
      }
     ],
     "prompt_number": 49
    },
    {
     "cell_type": "markdown",
     "metadata": {},
     "source": [
      "For simplification, let's create a function that will return size of a table:"
     ]
    },
    {
     "cell_type": "code",
     "collapsed": false,
     "input": [
      "def table_size(table):\n",
      "    \"\"\"Return number of rows in a table.\"\"\"\n",
      "    result = list(table.count().execute())\n",
      "    # Return first value from first row in the result\n",
      "    return result[0][0]"
     ],
     "language": "python",
     "metadata": {},
     "outputs": [],
     "prompt_number": 50
    },
    {
     "cell_type": "code",
     "collapsed": false,
     "input": [
      "table_size(table)"
     ],
     "language": "python",
     "metadata": {},
     "outputs": [
      {
       "output_type": "pyout",
       "prompt_number": 51,
       "text": [
        "208"
       ]
      }
     ],
     "prompt_number": 51
    },
    {
     "cell_type": "code",
     "collapsed": false,
     "input": [],
     "language": "python",
     "metadata": {},
     "outputs": []
    }
   ],
   "metadata": {}
  }
 ]
}