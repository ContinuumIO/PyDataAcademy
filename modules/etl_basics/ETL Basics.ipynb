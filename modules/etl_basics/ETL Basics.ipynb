{
 "metadata": {
  "name": "ETL Basics"
 },
 "nbformat": 3,
 "nbformat_minor": 0,
 "worksheets": [
  {
   "cells": [
    {
     "cell_type": "heading",
     "level": 1,
     "metadata": {},
     "source": [
      "Cubes - Data Perparation (basic ETL)"
     ]
    },
    {
     "cell_type": "markdown",
     "metadata": {},
     "source": [
      "* Author: [Continuum Analytics](http://continuum.io)\n",
      "* Author: Stefan Urbanek\n",
      "\n",
      "\n",
      "Objective of this tutorial is to learn basics of ETL and to prepare simple dataset for aggregated browsing with cubes. We are going to work with denormalized table, originally stored in a CSV file. \n",
      "\n",
      "Skills gained:\n",
      "\n",
      "* working with a CSV file\n",
      "* working with database schema (creation and deletion of tables)\n",
      "* loading of data into a database\n",
      "* data transformations\n",
      "\n",
      "Required knowledge:\n",
      "\n",
      "* relational database basics\n",
      "* regular expression bacisc\n",
      "\n",
      "Other requirements:\n",
      "\n",
      "* [sqlalchemy](http://www.sqlalchemy.org) - SQL/relational database framework\n",
      "\n",
      "\n",
      "Data\n",
      "----\n",
      "\n",
      "* Source: [World Bank](https://finances.worldbank.org/Procurement/Major-Contract-Awards-FY2010-FY2012-Beta-version/kdui-wcs3)\n",
      "* File name: `Major_Contract_Awards_FY2010_-_FY2012_-_Beta_version.csv`\n",
      "* Date of download: 2012-10-11\n"
     ]
    },
    {
     "cell_type": "heading",
     "level": 1,
     "metadata": {},
     "source": [
      "Data Extraction"
     ]
    },
    {
     "cell_type": "code",
     "collapsed": false,
     "input": [
      "import csv\n",
      "import re"
     ],
     "language": "python",
     "metadata": {},
     "outputs": [],
     "prompt_number": 1
    },
    {
     "cell_type": "markdown",
     "metadata": {},
     "source": [
      "Specify the file name we are interested in for processing"
     ]
    },
    {
     "cell_type": "code",
     "collapsed": false,
     "input": [
      "filename = \"../../data/Major_Contract_Awards_FY2010_-_FY2012_-_Beta_version.csv\""
     ],
     "language": "python",
     "metadata": {},
     "outputs": [],
     "prompt_number": 6
    },
    {
     "cell_type": "heading",
     "level": 2,
     "metadata": {},
     "source": [
      "Structure"
     ]
    },
    {
     "cell_type": "markdown",
     "metadata": {},
     "source": [
      "First we have to know the structure of the source file. Does it contain a header with field names? What are the fields? This is how we display the header content:\n",
      "\n",
      "**Note:** we assume that the source file is standard comma separated value file, that means that the values are separated by the `','` comma character and records are separated by newline character."
     ]
    },
    {
     "cell_type": "code",
     "collapsed": false,
     "input": [
      "with open(filename) as f:\n",
      "    reader = csv.reader(f)\n",
      "    header = reader.next()\n",
      "header"
     ],
     "language": "python",
     "metadata": {},
     "outputs": [
      {
       "output_type": "pyout",
       "prompt_number": 7,
       "text": [
        "['As of Date',\n",
        " 'Fiscal Year',\n",
        " 'Region',\n",
        " 'Borrower Country',\n",
        " 'Borrower Country Code',\n",
        " 'Project ID',\n",
        " 'Project Name',\n",
        " 'Procurement Type',\n",
        " 'Procurement Category',\n",
        " 'Procurement Method',\n",
        " 'Product line',\n",
        " 'WB Contract Number',\n",
        " 'Major Sector',\n",
        " 'Contract Description',\n",
        " 'Contract Signing Date',\n",
        " 'Supplier',\n",
        " 'Supplier Country',\n",
        " 'Supplier Country Code',\n",
        " 'Total Contract Amount (USD)']"
       ]
      }
     ],
     "prompt_number": 7
    },
    {
     "cell_type": "markdown",
     "metadata": {},
     "source": [
      "We see that the header contains quite descriptive labels of the columns.\n",
      "\n",
      "Later we will need identifier-like names for the columns. Therefore we create a simple function that will convert the names into identifiers by replacing all non-identifier characters into underscores `'_'`:"
     ]
    },
    {
     "cell_type": "code",
     "collapsed": false,
     "input": [
      "def string_to_ident(astring):\n",
      "    return re.sub(\"[^\\w]\", \"_\", astring.lower())"
     ],
     "language": "python",
     "metadata": {},
     "outputs": [],
     "prompt_number": 7
    },
    {
     "cell_type": "code",
     "collapsed": false,
     "input": [],
     "language": "python",
     "metadata": {},
     "outputs": []
    },
    {
     "cell_type": "heading",
     "level": 2,
     "metadata": {},
     "source": [
      "File Contents Analysis"
     ]
    },
    {
     "cell_type": "markdown",
     "metadata": {},
     "source": [
      "**Objectives:** \n",
      "\n",
      "1. identify dimensions (categories) and their keys. If there are no natural keys, generate ones.\n",
      "2. create mapping tables or mapping functions between original values and keys"
     ]
    },
    {
     "cell_type": "markdown",
     "metadata": {},
     "source": [
      "Now we read the file or sample of the file together with headers. We assume that the file sample contains all code values that will ever be available in potential subsequent additions to the dataset (such as project type codes or region codes).\n",
      "\n",
      "**Note:** In real world environment it is quite commont that we will work with files that will not fit whole in the memory and we will have to either sample them or analyse them differently. For managing distinct values there will be a more complex process which we are not going to describe at this point."
     ]
    },
    {
     "cell_type": "code",
     "collapsed": false,
     "input": [
      "with open(filename) as f:\n",
      "    reader = csv.reader(f)\n",
      "    header = reader.next()\n",
      "    rows = list(reader)\n",
      "fields = [string_to_ident(f) for f in header]\n",
      "fields[-1] = \"total_contract_amount\""
     ],
     "language": "python",
     "metadata": {},
     "outputs": [],
     "prompt_number": 5
    },
    {
     "cell_type": "code",
     "collapsed": false,
     "input": [
      "fields"
     ],
     "language": "python",
     "metadata": {},
     "outputs": [
      {
       "output_type": "pyout",
       "prompt_number": 6,
       "text": [
        "['as_of_date',\n",
        " 'fiscal_year',\n",
        " 'region',\n",
        " 'borrower_country',\n",
        " 'borrower_country_code',\n",
        " 'project_id',\n",
        " 'project_name',\n",
        " 'procurement_type',\n",
        " 'procurement_category',\n",
        " 'procurement_method',\n",
        " 'product_line',\n",
        " 'wb_contract_number',\n",
        " 'major_sector',\n",
        " 'contract_description',\n",
        " 'contract_signing_date',\n",
        " 'supplier',\n",
        " 'supplier_country',\n",
        " 'supplier_country_code',\n",
        " 'total_contract_amount']"
       ]
      }
     ],
     "prompt_number": 6
    },
    {
     "cell_type": "markdown",
     "metadata": {},
     "source": [
      "Now let's have a look at some of the dimensions, starting with regions. \n",
      "\n",
      "Easy way how to get a sorted list of distinct values of a field:\n",
      "\n",
      "1. get all values of the field\n",
      "2. collect the values in a `set()`\n",
      "3. convert the set to a list and sort it with `.sort()`"
     ]
    },
    {
     "cell_type": "code",
     "collapsed": false,
     "input": [
      "regions = list(set(row[2] for row in rows))\n",
      "regions.sort()\n",
      "regions"
     ],
     "language": "python",
     "metadata": {},
     "outputs": [
      {
       "output_type": "pyout",
       "prompt_number": 7,
       "text": [
        "['AFRICA',\n",
        " 'EAST ASIA AND PACIFIC',\n",
        " 'EUROPE AND CENTRAL ASIA',\n",
        " 'LATIN AMERICA AND CARIBBEAN',\n",
        " 'MIDDLE EAST AND NORTH AFRICA',\n",
        " 'OTHER',\n",
        " 'SOUTH ASIA']"
       ]
      }
     ],
     "prompt_number": 7
    },
    {
     "cell_type": "markdown",
     "metadata": {},
     "source": [
      "Regions do not have a key, so we generate one for them.\n",
      "\n",
      "**Note:** In data warehouse one is trying to generate keys without any embedded knowledge in them, mostly of integer value. For usability purposes of this tutorial we are generating code-like keys."
     ]
    },
    {
     "cell_type": "markdown",
     "metadata": {},
     "source": [
      "Let's take first letter of each word:"
     ]
    },
    {
     "cell_type": "code",
     "collapsed": false,
     "input": [
      "region = 'LATIN AMERICA AND CARIBBEAN'\n",
      "\"\".join([c[0] for c in region.split()])"
     ],
     "language": "python",
     "metadata": {},
     "outputs": [
      {
       "output_type": "pyout",
       "prompt_number": 8,
       "text": [
        "'LAAC'"
       ]
      }
     ],
     "prompt_number": 8
    },
    {
     "cell_type": "markdown",
     "metadata": {},
     "source": [
      "Looks fine, so we create a mapping dictionary for the values:"
     ]
    },
    {
     "cell_type": "code",
     "collapsed": false,
     "input": [
      "def region_code(region):\n",
      "    return \"\".join([c[0] for c in region.split()])\n",
      "region_map = dict((region, region_code(region)) for region in regions)\n",
      "region_map"
     ],
     "language": "python",
     "metadata": {},
     "outputs": [
      {
       "output_type": "pyout",
       "prompt_number": 9,
       "text": [
        "{'AFRICA': 'A',\n",
        " 'EAST ASIA AND PACIFIC': 'EAAP',\n",
        " 'EUROPE AND CENTRAL ASIA': 'EACA',\n",
        " 'LATIN AMERICA AND CARIBBEAN': 'LAAC',\n",
        " 'MIDDLE EAST AND NORTH AFRICA': 'MEANA',\n",
        " 'OTHER': 'O',\n",
        " 'SOUTH ASIA': 'SA'}"
       ]
      }
     ],
     "prompt_number": 9
    },
    {
     "cell_type": "markdown",
     "metadata": {},
     "source": [
      "Next one is \"Procurement Types\":"
     ]
    },
    {
     "cell_type": "code",
     "collapsed": false,
     "input": [
      "proc_types = list(set(row[7] for row in rows))\n",
      "proc_types.sort()\n",
      "proc_types"
     ],
     "language": "python",
     "metadata": {},
     "outputs": [
      {
       "output_type": "pyout",
       "prompt_number": 10,
       "text": [
        "['Administrative Services',\n",
        " 'Aerial Photography Services',\n",
        " 'Agricultural Inputs',\n",
        " 'Audit Services',\n",
        " 'Awareness Campaigns',\n",
        " 'Construction Supervision, Quality Manage',\n",
        " 'Data Processing Services',\n",
        " 'Design Services',\n",
        " 'Drilling Services',\n",
        " 'Education Services',\n",
        " 'Environmental Studies',\n",
        " 'Equipment Information Technology',\n",
        " 'Equipment, Agricultural',\n",
        " 'Equipment, Construction',\n",
        " 'Equipment, Educational',\n",
        " 'Equipment, Electrical',\n",
        " 'Equipment, Energy Exploration, Productio',\n",
        " 'Equipment, Industrial Plants',\n",
        " 'Equipment, Mechanical',\n",
        " 'Equipment, Medical',\n",
        " 'Equipment, Mining',\n",
        " 'Equipment, Telecommunications',\n",
        " 'Equipment, Transportation',\n",
        " 'Equipment, Water Supply and Sewerage',\n",
        " 'Feasibility studies, Design Studies',\n",
        " 'Financial Services',\n",
        " 'Geological/Geophysical Services',\n",
        " 'Governance Services',\n",
        " 'Hardware/Software Services',\n",
        " 'Health Services',\n",
        " 'ICT/Telecommunications Services',\n",
        " 'Institution building',\n",
        " 'Legal Advisory Services',\n",
        " 'Management Advice, Technical/Operation A',\n",
        " 'Materials, Construction',\n",
        " 'Miscellaneous',\n",
        " 'Other Operational Services',\n",
        " 'Pharmaceuticals, Medical Products',\n",
        " 'Policy and Strategy',\n",
        " 'Project Management',\n",
        " 'Raw Materals, Chemicals, Commodities',\n",
        " 'Research/Development Services',\n",
        " 'Safety Studies',\n",
        " 'Satellite Imaging Services',\n",
        " 'Sector studies, Master Plans',\n",
        " 'Social Studies',\n",
        " 'Statistical Services',\n",
        " 'Survey Services',\n",
        " 'Tender Documents, Procurement Assistance',\n",
        " 'Training Services',\n",
        " 'Training/Knowledge Transfer',\n",
        " 'Works,  Industrial Plants',\n",
        " 'Works, Buildings',\n",
        " 'Works, Infrastructure',\n",
        " 'Works, Installation & Erection',\n",
        " 'Works, Maintenance and Rehabilitation']"
       ]
      }
     ],
     "prompt_number": 10
    },
    {
     "cell_type": "markdown",
     "metadata": {},
     "source": [
      "Quick and simple solution would be to get first three letters from each word. Not the nicest one but works fine:"
     ]
    },
    {
     "cell_type": "code",
     "collapsed": false,
     "input": [
      "def create_code(pt):\n",
      "    pt = re.sub(\"[^\\w]+\", \" \", pt.upper())\n",
      "    return \"\".join([c[0:3] for c in pt.split()])"
     ],
     "language": "python",
     "metadata": {},
     "outputs": [],
     "prompt_number": 11
    },
    {
     "cell_type": "markdown",
     "metadata": {},
     "source": [
      "This is how the list looks like:"
     ]
    },
    {
     "cell_type": "code",
     "collapsed": false,
     "input": [
      "[create_code(pt) for pt in proc_types]"
     ],
     "language": "python",
     "metadata": {},
     "outputs": [
      {
       "output_type": "pyout",
       "prompt_number": 12,
       "text": [
        "['ADMSER',\n",
        " 'AERPHOSER',\n",
        " 'AGRINP',\n",
        " 'AUDSER',\n",
        " 'AWACAM',\n",
        " 'CONSUPQUAMAN',\n",
        " 'DATPROSER',\n",
        " 'DESSER',\n",
        " 'DRISER',\n",
        " 'EDUSER',\n",
        " 'ENVSTU',\n",
        " 'EQUINFTEC',\n",
        " 'EQUAGR',\n",
        " 'EQUCON',\n",
        " 'EQUEDU',\n",
        " 'EQUELE',\n",
        " 'EQUENEEXPPRO',\n",
        " 'EQUINDPLA',\n",
        " 'EQUMEC',\n",
        " 'EQUMED',\n",
        " 'EQUMIN',\n",
        " 'EQUTEL',\n",
        " 'EQUTRA',\n",
        " 'EQUWATSUPANDSEW',\n",
        " 'FEASTUDESSTU',\n",
        " 'FINSER',\n",
        " 'GEOGEOSER',\n",
        " 'GOVSER',\n",
        " 'HARSOFSER',\n",
        " 'HEASER',\n",
        " 'ICTTELSER',\n",
        " 'INSBUI',\n",
        " 'LEGADVSER',\n",
        " 'MANADVTECOPEA',\n",
        " 'MATCON',\n",
        " 'MIS',\n",
        " 'OTHOPESER',\n",
        " 'PHAMEDPRO',\n",
        " 'POLANDSTR',\n",
        " 'PROMAN',\n",
        " 'RAWMATCHECOM',\n",
        " 'RESDEVSER',\n",
        " 'SAFSTU',\n",
        " 'SATIMASER',\n",
        " 'SECSTUMASPLA',\n",
        " 'SOCSTU',\n",
        " 'STASER',\n",
        " 'SURSER',\n",
        " 'TENDOCPROASS',\n",
        " 'TRASER',\n",
        " 'TRAKNOTRA',\n",
        " 'WORINDPLA',\n",
        " 'WORBUI',\n",
        " 'WORINF',\n",
        " 'WORINSERE',\n",
        " 'WORMAIANDREH']"
       ]
      }
     ],
     "prompt_number": 12
    },
    {
     "cell_type": "markdown",
     "metadata": {},
     "source": [
      "Now we look at the procurement category values:"
     ]
    },
    {
     "cell_type": "code",
     "collapsed": false,
     "input": [
      "proc_cat = list(set(row[8] for row in rows))\n",
      "proc_cat.sort()\n",
      "proc_cat"
     ],
     "language": "python",
     "metadata": {},
     "outputs": [
      {
       "output_type": "pyout",
       "prompt_number": 13,
       "text": [
        "['Civil Works', 'Consultant Services', 'Goods', 'NC']"
       ]
      }
     ],
     "prompt_number": 13
    },
    {
     "cell_type": "markdown",
     "metadata": {},
     "source": [
      "There are only free of them, we either create manual dictionary or can get first word. Create codes for procurement category:"
     ]
    },
    {
     "cell_type": "code",
     "collapsed": false,
     "input": [
      "proc_category_map = dict((l, l.split()[0].upper()) for l in proc_cat)\n",
      "proc_category_map"
     ],
     "language": "python",
     "metadata": {},
     "outputs": [
      {
       "output_type": "pyout",
       "prompt_number": 14,
       "text": [
        "{'Civil Works': 'CIVIL',\n",
        " 'Consultant Services': 'CONSULTANT',\n",
        " 'Goods': 'GOODS',\n",
        " 'NC': 'NC'}"
       ]
      }
     ],
     "prompt_number": 14
    },
    {
     "cell_type": "markdown",
     "metadata": {},
     "source": [
      "Procurement method values:"
     ]
    },
    {
     "cell_type": "code",
     "collapsed": false,
     "input": [
      "proc_meth = list(set(row[9] for row in rows))\n",
      "proc_meth.sort()\n",
      "proc_meth"
     ],
     "language": "python",
     "metadata": {},
     "outputs": [
      {
       "output_type": "pyout",
       "prompt_number": 15,
       "text": [
        "['CQS',\n",
        " 'Direct Contracting',\n",
        " 'Individual',\n",
        " 'International Competitive Bidding',\n",
        " 'Least Cost Selection',\n",
        " 'Limited International Bidding',\n",
        " 'National Competitive Bidding',\n",
        " 'Quality And Cost-Based Selection',\n",
        " 'Quality Based Selection',\n",
        " 'SHOP',\n",
        " 'Selection Under a Fixed Budget',\n",
        " 'Service Delivery Contracts',\n",
        " 'Single Source Selection']"
       ]
      }
     ],
     "prompt_number": 15
    },
    {
     "cell_type": "markdown",
     "metadata": {},
     "source": [
      "`create_code()` we already have looks as useable solution:"
     ]
    },
    {
     "cell_type": "code",
     "collapsed": false,
     "input": [
      "[create_code(pt) for pt in proc_meth]"
     ],
     "language": "python",
     "metadata": {},
     "outputs": [
      {
       "output_type": "pyout",
       "prompt_number": 16,
       "text": [
        "['CQS',\n",
        " 'DIRCON',\n",
        " 'IND',\n",
        " 'INTCOMBID',\n",
        " 'LEACOSSEL',\n",
        " 'LIMINTBID',\n",
        " 'NATCOMBID',\n",
        " 'QUAANDCOSBASSEL',\n",
        " 'QUABASSEL',\n",
        " 'SHO',\n",
        " 'SELUNDAFIXBUD',\n",
        " 'SERDELCON',\n",
        " 'SINSOUSEL']"
       ]
      }
     ],
     "prompt_number": 16
    },
    {
     "cell_type": "code",
     "collapsed": false,
     "input": [
      "sectors = list(set(row[12] for row in rows))\n",
      "sectors.sort()\n",
      "sectors"
     ],
     "language": "python",
     "metadata": {},
     "outputs": [
      {
       "output_type": "pyout",
       "prompt_number": 17,
       "text": [
        "['Agriculture, fishing, and forestry',\n",
        " 'Education',\n",
        " 'Energy and mining',\n",
        " 'Finance',\n",
        " 'Health and other social services',\n",
        " 'Industry and trade',\n",
        " 'Information and communications',\n",
        " 'Public Administration, Law, and Justice',\n",
        " 'Transportation',\n",
        " 'Water, sanitation and flood protection']"
       ]
      }
     ],
     "prompt_number": 17
    },
    {
     "cell_type": "code",
     "collapsed": false,
     "input": [
      "[create_code(s) for s in sectors]"
     ],
     "language": "python",
     "metadata": {},
     "outputs": [
      {
       "output_type": "pyout",
       "prompt_number": 18,
       "text": [
        "['AGRFISANDFOR',\n",
        " 'EDU',\n",
        " 'ENEANDMIN',\n",
        " 'FIN',\n",
        " 'HEAANDOTHSOCSER',\n",
        " 'INDANDTRA',\n",
        " 'INFANDCOM',\n",
        " 'PUBADMLAWANDJUS',\n",
        " 'TRA',\n",
        " 'WATSANANDFLOPRO']"
       ]
      }
     ],
     "prompt_number": 18
    },
    {
     "cell_type": "heading",
     "level": 1,
     "metadata": {},
     "source": [
      "Transformation"
     ]
    },
    {
     "cell_type": "markdown",
     "metadata": {},
     "source": [
      "We are going to transform one dataset to another dataset - contents of CSV file into a database table. In this transformation we are going to do:\n",
      "\n",
      "* ignore some source columns\n",
      "* derive new source columns\n",
      "    * use transformations or mappings\n",
      "* copy source column into target without a change\n",
      "\n",
      "It is good practice to have this transformation described in an understandable way. In our case we are going to use a list of tuples: (target field, source and transformation). Target field is just name of field that will be created. Transformation can be described either as `None` - no transformation, just plain copy; or a dictionary. The dictionary contains keys:\n",
      "\n",
      "* `field` - name of source field\n",
      "* `function` - function to be used for transformation of the field value\n",
      "* `mapping` - mapping dictionary to be used for transformation of the field value\n",
      "\n",
      "If no function or mapping is specified, then just field with specified name is passed \u2013 use this if you would like to rename a field.\n",
      "\n",
      "Here is the transformation description:"
     ]
    },
    {
     "cell_type": "code",
     "collapsed": false,
     "input": [
      "transformation = [\n",
      " ('fiscal_year',           {\"function\": int, \"field\":\"fiscal_year\"}),\n",
      " ('region_code',           {\"mapping\": region_map, \"field\":\"region\"}),\n",
      " ('region',                None),\n",
      " ('borrower_country',      None),\n",
      " ('borrower_country_code', None),\n",
      " ('project_id',            None),\n",
      " ('project_name',          None),\n",
      " ('procurement_type_code', {\"function\": create_code, \"field\":\"procurement_type\"}),\n",
      " ('procurement_type',      None),\n",
      " ('procurement_category_code', {\"mapping\": proc_category_map, \"field\":\"procurement_category\"}),\n",
      " ('procurement_category',  None),\n",
      " ('procurement_method_code', {\"function\": create_code, \"field\":\"procurement_method\"}),\n",
      " ('procurement_method',    None),\n",
      " ('product_line',          None),\n",
      " ('wb_contract_number',    None),\n",
      " ('major_sector_code',     {\"function\": create_code, \"field\":\"major_sector\"}),\n",
      " ('major_sector',          None),\n",
      " ('contract_description',  None),\n",
      " ('supplier',              None),\n",
      " ('supplier_country',      None),\n",
      " ('supplier_country_code', None),\n",
      " ('contract_amount',       {\"field\": 'total_contract_amount'})\n",
      " ]"
     ],
     "language": "python",
     "metadata": {},
     "outputs": [],
     "prompt_number": 19
    },
    {
     "cell_type": "markdown",
     "metadata": {},
     "source": [
      "As we are not working with dictionary records but indexed rows, we also need for our transformation function to know index of particular field in the row."
     ]
    },
    {
     "cell_type": "code",
     "collapsed": false,
     "input": [
      "indexes = dict( (field, i) for i, field in enumerate(fields) )\n",
      "indexes"
     ],
     "language": "python",
     "metadata": {},
     "outputs": [
      {
       "output_type": "pyout",
       "prompt_number": 10,
       "text": [
        "{'as_of_date': 0,\n",
        " 'borrower_country': 3,\n",
        " 'borrower_country_code': 4,\n",
        " 'contract_description': 13,\n",
        " 'contract_signing_date': 14,\n",
        " 'fiscal_year': 1,\n",
        " 'major_sector': 12,\n",
        " 'procurement_category': 8,\n",
        " 'procurement_method': 9,\n",
        " 'procurement_type': 7,\n",
        " 'product_line': 10,\n",
        " 'project_id': 5,\n",
        " 'project_name': 6,\n",
        " 'region': 2,\n",
        " 'supplier': 15,\n",
        " 'supplier_country': 16,\n",
        " 'supplier_country_code': 17,\n",
        " 'total_contract_amount': 18,\n",
        " 'wb_contract_number': 11}"
       ]
      }
     ],
     "prompt_number": 10
    },
    {
     "cell_type": "markdown",
     "metadata": {},
     "source": [
      "And here is the transformation function. It takes a row, transformation and indexes as input and generates new row based on the transformation:"
     ]
    },
    {
     "cell_type": "code",
     "collapsed": false,
     "input": [
      "def transform(row, transformation, field_indexes):\n",
      "    new_row = []\n",
      "    for (field, action) in transformation:\n",
      "        if not action:\n",
      "            value = row[field_indexes[field]]\n",
      "        else:\n",
      "            value = row[field_indexes[action[\"field\"]]]\n",
      "            if \"function\" in action:\n",
      "                value = action[\"function\"](value)\n",
      "            if \"mapping\" in action:\n",
      "                value = action[\"mapping\"][value]\n",
      "        new_row.append(value)\n",
      "        \n",
      "    return new_row"
     ],
     "language": "python",
     "metadata": {},
     "outputs": [],
     "prompt_number": 21
    },
    {
     "cell_type": "markdown",
     "metadata": {},
     "source": [
      "The first record, before transformation, looks like:"
     ]
    },
    {
     "cell_type": "code",
     "collapsed": false,
     "input": [
      "rows[0]"
     ],
     "language": "python",
     "metadata": {},
     "outputs": [
      {
       "output_type": "pyout",
       "prompt_number": 11,
       "text": [
        "['06/14/2012 12:00 AM',\n",
        " '2010',\n",
        " 'SOUTH ASIA',\n",
        " 'Afghanistan',\n",
        " 'AF',\n",
        " 'P102288',\n",
        " 'Afghanistan: Emergency National Solidarity Project II',\n",
        " 'Project Management',\n",
        " 'Consultant Services',\n",
        " 'Single Source Selection',\n",
        " 'IBRD/IDA',\n",
        " '1297442',\n",
        " 'Agriculture, fishing, and forestry',\n",
        " 'For NSP facilitation in New Communities in Districts Already',\n",
        " '01/28/2010 12:00 AM',\n",
        " 'UNITED NATIONS CONFERENCE ON HUMAN SETTLEMENTS (HABITAT)',\n",
        " 'World',\n",
        " '1W',\n",
        " '$4454652.00']"
       ]
      }
     ],
     "prompt_number": 11
    },
    {
     "cell_type": "markdown",
     "metadata": {},
     "source": [
      "First record after the transformation is:"
     ]
    },
    {
     "cell_type": "code",
     "collapsed": false,
     "input": [
      "transform(rows[0], transformation, indexes)"
     ],
     "language": "python",
     "metadata": {},
     "outputs": [
      {
       "output_type": "pyout",
       "prompt_number": 23,
       "text": [
        "[2010,\n",
        " 'SA',\n",
        " 'SOUTH ASIA',\n",
        " 'Afghanistan',\n",
        " 'AF',\n",
        " 'P102288',\n",
        " 'Afghanistan: Emergency National Solidarity Project II',\n",
        " 'PROMAN',\n",
        " 'Project Management',\n",
        " 'CONSULTANT',\n",
        " 'Consultant Services',\n",
        " 'SINSOUSEL',\n",
        " 'Single Source Selection',\n",
        " 'IBRD/IDA',\n",
        " '1297442',\n",
        " 'AGRFISANDFOR',\n",
        " 'Agriculture, fishing, and forestry',\n",
        " 'For NSP facilitation in New Communities in Districts Already',\n",
        " 'UNITED NATIONS CONFERENCE ON HUMAN SETTLEMENTS (HABITAT)',\n",
        " 'World',\n",
        " '1W',\n",
        " '$4454652.00']"
       ]
      }
     ],
     "prompt_number": 23
    },
    {
     "cell_type": "markdown",
     "metadata": {},
     "source": [
      "We missed one thing: the last value, which is supposed to be an amount, is a currency value. In this case, the currency is denoted by `'$'` which is single byte character that we can get rid of by:"
     ]
    },
    {
     "cell_type": "code",
     "collapsed": false,
     "input": [
      "value = '$4454652.00'\n",
      "value[1:]"
     ],
     "language": "python",
     "metadata": {},
     "outputs": [
      {
       "output_type": "pyout",
       "prompt_number": 24,
       "text": [
        "'4454652.00'"
       ]
      }
     ],
     "prompt_number": 24
    },
    {
     "cell_type": "markdown",
     "metadata": {},
     "source": [
      "Transformation function looks like"
     ]
    },
    {
     "cell_type": "code",
     "collapsed": false,
     "input": [
      "def currency_to_number(currency):\n",
      "    \"\"\"Strips single character currency from front of the value and\n",
      "       removes all surrounding spaces. If it is not possible to convert the value\n",
      "       then `None` is returned. \"\"\"\n",
      "    try:\n",
      "        return float(value[1:].strip())\n",
      "    except ValueError:\n",
      "        return None"
     ],
     "language": "python",
     "metadata": {},
     "outputs": [],
     "prompt_number": 25
    },
    {
     "cell_type": "markdown",
     "metadata": {},
     "source": [
      "We have to change the transformation by replacing last field transformation with our new currency conversion function:"
     ]
    },
    {
     "cell_type": "code",
     "collapsed": false,
     "input": [
      "transformation[-1] = ('contract_amount', {\"function\":currency_to_number, \"field\": 'total_contract_amount'})"
     ],
     "language": "python",
     "metadata": {},
     "outputs": [],
     "prompt_number": 26
    },
    {
     "cell_type": "code",
     "collapsed": false,
     "input": [
      "transform(rows[0], transformation, indexes)"
     ],
     "language": "python",
     "metadata": {},
     "outputs": [
      {
       "output_type": "pyout",
       "prompt_number": 27,
       "text": [
        "[2010,\n",
        " 'SA',\n",
        " 'SOUTH ASIA',\n",
        " 'Afghanistan',\n",
        " 'AF',\n",
        " 'P102288',\n",
        " 'Afghanistan: Emergency National Solidarity Project II',\n",
        " 'PROMAN',\n",
        " 'Project Management',\n",
        " 'CONSULTANT',\n",
        " 'Consultant Services',\n",
        " 'SINSOUSEL',\n",
        " 'Single Source Selection',\n",
        " 'IBRD/IDA',\n",
        " '1297442',\n",
        " 'AGRFISANDFOR',\n",
        " 'Agriculture, fishing, and forestry',\n",
        " 'For NSP facilitation in New Communities in Districts Already',\n",
        " 'UNITED NATIONS CONFERENCE ON HUMAN SETTLEMENTS (HABITAT)',\n",
        " 'World',\n",
        " '1W',\n",
        " 4454652.0]"
       ]
      }
     ],
     "prompt_number": 27
    },
    {
     "cell_type": "markdown",
     "metadata": {},
     "source": [
      "Now it looks much better and we can load it into the database."
     ]
    },
    {
     "cell_type": "heading",
     "level": 2,
     "metadata": {},
     "source": [
      "Loading"
     ]
    },
    {
     "cell_type": "markdown",
     "metadata": {},
     "source": [
      "Objective:\n",
      "\n",
      "* create a target table\n",
      "* load transformed records from source into the target table"
     ]
    },
    {
     "cell_type": "markdown",
     "metadata": {},
     "source": [
      "Get list of fields after transformation:"
     ]
    },
    {
     "cell_type": "code",
     "collapsed": false,
     "input": [
      "target_fields = [t[0] for t in transformation]\n",
      "target_fields"
     ],
     "language": "python",
     "metadata": {},
     "outputs": [
      {
       "output_type": "pyout",
       "prompt_number": 28,
       "text": [
        "['fiscal_year',\n",
        " 'region_code',\n",
        " 'region',\n",
        " 'borrower_country',\n",
        " 'borrower_country_code',\n",
        " 'project_id',\n",
        " 'project_name',\n",
        " 'procurement_type_code',\n",
        " 'procurement_type',\n",
        " 'procurement_category_code',\n",
        " 'procurement_category',\n",
        " 'procurement_method_code',\n",
        " 'procurement_method',\n",
        " 'product_line',\n",
        " 'wb_contract_number',\n",
        " 'major_sector_code',\n",
        " 'major_sector',\n",
        " 'contract_description',\n",
        " 'supplier',\n",
        " 'supplier_country',\n",
        " 'supplier_country_code',\n",
        " 'contract_amount']"
       ]
      }
     ],
     "prompt_number": 28
    },
    {
     "cell_type": "code",
     "collapsed": false,
     "input": [
      "import sqlalchemy as sa"
     ],
     "language": "python",
     "metadata": {},
     "outputs": [],
     "prompt_number": 29
    },
    {
     "cell_type": "code",
     "collapsed": false,
     "input": [
      "engine = sa.create_engine(\"postgres://localhost/sandbox\")"
     ],
     "language": "python",
     "metadata": {},
     "outputs": [],
     "prompt_number": 30
    },
    {
     "cell_type": "code",
     "collapsed": false,
     "input": [
      "metadata = sa.MetaData(bind=engine)"
     ],
     "language": "python",
     "metadata": {},
     "outputs": [],
     "prompt_number": 31
    },
    {
     "cell_type": "markdown",
     "metadata": {},
     "source": [
      "Last thing we now have to do is to specify data types for our fields. All fields except the last one is going to be a string, the amount is going to be a number (floating point)."
     ]
    },
    {
     "cell_type": "code",
     "collapsed": false,
     "input": [
      "target_fields"
     ],
     "language": "python",
     "metadata": {},
     "outputs": [
      {
       "output_type": "pyout",
       "prompt_number": 32,
       "text": [
        "['fiscal_year',\n",
        " 'region_code',\n",
        " 'region',\n",
        " 'borrower_country',\n",
        " 'borrower_country_code',\n",
        " 'project_id',\n",
        " 'project_name',\n",
        " 'procurement_type_code',\n",
        " 'procurement_type',\n",
        " 'procurement_category_code',\n",
        " 'procurement_category',\n",
        " 'procurement_method_code',\n",
        " 'procurement_method',\n",
        " 'product_line',\n",
        " 'wb_contract_number',\n",
        " 'major_sector_code',\n",
        " 'major_sector',\n",
        " 'contract_description',\n",
        " 'supplier',\n",
        " 'supplier_country',\n",
        " 'supplier_country_code',\n",
        " 'contract_amount']"
       ]
      }
     ],
     "prompt_number": 32
    },
    {
     "cell_type": "code",
     "collapsed": false,
     "input": [
      "typed_fields = [(field, sa.String(255)) for field in target_fields]\n",
      "typed_fields[0] = ('fiscal_year', sa.Integer)\n",
      "typed_fields[-1] = ('contract_amount', sa.Numeric)\n",
      "typed_fields"
     ],
     "language": "python",
     "metadata": {},
     "outputs": [
      {
       "output_type": "pyout",
       "prompt_number": 33,
       "text": [
        "[('fiscal_year', sqlalchemy.types.Integer),\n",
        " ('region_code', String(length=255)),\n",
        " ('region', String(length=255)),\n",
        " ('borrower_country', String(length=255)),\n",
        " ('borrower_country_code', String(length=255)),\n",
        " ('project_id', String(length=255)),\n",
        " ('project_name', String(length=255)),\n",
        " ('procurement_type_code', String(length=255)),\n",
        " ('procurement_type', String(length=255)),\n",
        " ('procurement_category_code', String(length=255)),\n",
        " ('procurement_category', String(length=255)),\n",
        " ('procurement_method_code', String(length=255)),\n",
        " ('procurement_method', String(length=255)),\n",
        " ('product_line', String(length=255)),\n",
        " ('wb_contract_number', String(length=255)),\n",
        " ('major_sector_code', String(length=255)),\n",
        " ('major_sector', String(length=255)),\n",
        " ('contract_description', String(length=255)),\n",
        " ('supplier', String(length=255)),\n",
        " ('supplier_country', String(length=255)),\n",
        " ('supplier_country_code', String(length=255)),\n",
        " ('contract_amount', sqlalchemy.types.Numeric)]"
       ]
      }
     ],
     "prompt_number": 33
    },
    {
     "cell_type": "markdown",
     "metadata": {},
     "source": [
      "Define table:"
     ]
    },
    {
     "cell_type": "code",
     "collapsed": false,
     "input": [
      "table = sa.Table(\"contract_awards\", metadata)"
     ],
     "language": "python",
     "metadata": {},
     "outputs": [],
     "prompt_number": 34
    },
    {
     "cell_type": "markdown",
     "metadata": {},
     "source": [
      "Populate the table with columns:"
     ]
    },
    {
     "cell_type": "code",
     "collapsed": false,
     "input": [
      "for (name, field_type) in typed_fields:\n",
      "    column = sa.Column(name, field_type)\n",
      "    table.append_column(column)"
     ],
     "language": "python",
     "metadata": {},
     "outputs": [],
     "prompt_number": 35
    },
    {
     "cell_type": "markdown",
     "metadata": {},
     "source": [
      "Create the table:"
     ]
    },
    {
     "cell_type": "code",
     "collapsed": false,
     "input": [
      "metadata.create_all()"
     ],
     "language": "python",
     "metadata": {},
     "outputs": [],
     "prompt_number": 36
    },
    {
     "cell_type": "markdown",
     "metadata": {},
     "source": [
      "We load the data by inserting the transformed rows.\n",
      "\n",
      "**Note:** for performance reasons you might want to insert data by batches, like by 1000 rows. For simplicity reasons we are inserting row-by-row, which might be slow for larger files."
     ]
    },
    {
     "cell_type": "code",
     "collapsed": false,
     "input": [
      "for row in rows:\n",
      "    table.insert(transform(row, transformation, indexes)).execute()\n"
     ],
     "language": "python",
     "metadata": {},
     "outputs": [],
     "prompt_number": 37
    },
    {
     "cell_type": "markdown",
     "metadata": {},
     "source": [
      "That is it. Now we have the data from the CSV file transformed and loaded in the database."
     ]
    },
    {
     "cell_type": "heading",
     "level": 2,
     "metadata": {},
     "source": [
      "Appendix: Fix structure"
     ]
    },
    {
     "cell_type": "markdown",
     "metadata": {},
     "source": [
      "Sometimes we will need to change the structure. Once the data is loaded and can not be deleted, this task might be a bit more complicated. However in our case, we might simply drop the whole table and create it again. Here are couple of utility functions:"
     ]
    },
    {
     "cell_type": "code",
     "collapsed": false,
     "input": [
      "def drop_table_if_exists(table_name):\n",
      "    table = sa.Table(table_name, metadata)\n",
      "    if table.exists():\n",
      "        table.drop()\n",
      "    metadata.drop_all(tables=[table])"
     ],
     "language": "python",
     "metadata": {},
     "outputs": [],
     "prompt_number": 38
    },
    {
     "cell_type": "code",
     "collapsed": false,
     "input": [
      "drop_table_if_exists(\"contract_awards\")"
     ],
     "language": "python",
     "metadata": {},
     "outputs": [],
     "prompt_number": 39
    },
    {
     "cell_type": "code",
     "collapsed": false,
     "input": [
      "def create_table(table_name, metadata, columns, rows, transformation, indexes):\n",
      "    drop_table_if_exists(table_name)\n",
      "    \n",
      "    table = sa.Table(table_name, metadata)\n",
      "\n",
      "    for (name, column_def) in columns:\n",
      "        column = sa.Column(name, column_def)\n",
      "        table.append_column(column)\n",
      "\n",
      "    metadata.create_all(tables=[table])\n",
      "    \n",
      "    for row in rows:\n",
      "        table.insert(transform(row, transformation, indexes)).execute()\n"
     ],
     "language": "python",
     "metadata": {},
     "outputs": [],
     "prompt_number": 40
    },
    {
     "cell_type": "code",
     "collapsed": false,
     "input": [
      "create_table(\"contract_awards\", metadata, typed_fields, rows, transformation, indexes)"
     ],
     "language": "python",
     "metadata": {},
     "outputs": [],
     "prompt_number": 41
    },
    {
     "cell_type": "code",
     "collapsed": false,
     "input": [],
     "language": "python",
     "metadata": {},
     "outputs": [],
     "prompt_number": "*"
    }
   ],
   "metadata": {}
  }
 ]
}