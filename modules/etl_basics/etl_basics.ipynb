{
 "metadata": {
  "name": "etl_basics"
 },
 "nbformat": 3,
 "nbformat_minor": 0,
 "worksheets": [
  {
   "cells": [
    {
     "cell_type": "heading",
     "level": 1,
     "metadata": {},
     "source": [
      "ETL Basics"
     ]
    },
    {
     "cell_type": "markdown",
     "metadata": {},
     "source": [
      "* Author: [Continuum Analytics](http://continuum.io)\n",
      "* Author: Stefan Urbanek\n",
      "\n",
      "\n",
      "Objective of this tutorial is to learn basics of ETL and to prepare simple star schema for aggregated browsing with Cubes. Data source is denormalized table, originally stored in a CSV file.\n",
      "\n",
      "All transformations and data preparation is being done purely in Python. SQL library is used only for storing the data in a relational database.\n",
      "\n",
      "Skills gained:\n",
      "\n",
      "* working with CSV file\n",
      "* working with database schema (creation and deletion of tables)\n",
      "* loading of data into a database\n",
      "* data transformations\n",
      "* normalization\n",
      "* surroage keys\n",
      "\n",
      "Required knowledge:\n",
      "\n",
      "* relational database basics\n",
      "* regular expression bacisc\n",
      "\n",
      "Other requirements:\n",
      "\n",
      "* [sqlalchemy](http://www.sqlalchemy.org) - SQL/relational database framework\n",
      "\n",
      "**Utility functions:**\n",
      "\n",
      "* `distinct(rows, column)` - get distinct values of a column from list of rows\n",
      "\n",
      "Data\n",
      "----\n",
      "\n",
      "* Source: [World Bank](https://finances.worldbank.org/Procurement/Major-Contract-Awards-FY2010-FY2012-Beta-version/kdui-wcs3)\n",
      "* File name: `Major_Contract_Awards_FY2010_-_FY2012_-_Beta_version.csv`\n",
      "* Date of download: 2012-10-11\n"
     ]
    },
    {
     "cell_type": "markdown",
     "metadata": {},
     "source": [
      "Introduction\n",
      "============\n",
      "\n",
      "Imagine we are building an analytical application for ad-hoc reporting of awarded contract awards from World Bank. The original dataset we have received is in a form of a single file with following fields:\n",
      "\n",
      "* As of Date\n",
      "* Fiscal Year\n",
      "* Region\n",
      "* Borrower Country\n",
      "* Borrower Country Code\n",
      "* Project ID\n",
      "* Project Name\n",
      "* Procurement Type,\n",
      "* Procurement Category\n",
      "* Procurement Method\n",
      "* Product line\n",
      "* WB Contract Number\n",
      "* Major Sector\n",
      "* Contract Description\n",
      "* Contract Signing Date\n",
      "* Supplier\n",
      "* Supplier Country\n",
      "* Supplier Country Code\n",
      "* Total Contract Amount (USD)\n",
      "\n",
      "Requirements and expectations are:\n",
      "\n",
      "1. this is just initial dataset, we might get more in the future\n",
      "2. we might have more information in the future about involved entities, such as supliers or countries\n",
      "3. the application is going to have web interface and raw data API\n",
      "\n",
      "Uncertainities that we have to be ready for:\n",
      "\n",
      "1. we are not sure that the datasets in the future will have the same structure\n",
      "2. we are not sure that the dataset in the future will be in one denormalized (\"wide\") table\n"
     ]
    },
    {
     "cell_type": "markdown",
     "metadata": {},
     "source": [
      "Preparation\n",
      "===========\n",
      "\n",
      "*Note: see python package requirements of this module before you start executing example statements.*"
     ]
    },
    {
     "cell_type": "code",
     "collapsed": false,
     "input": [
      "import csv\n",
      "import re\n",
      "import sqlalchemy"
     ],
     "language": "python",
     "metadata": {},
     "outputs": [],
     "prompt_number": 1
    },
    {
     "cell_type": "markdown",
     "metadata": {},
     "source": [
      "Specify the file name we are interested in for processing"
     ]
    },
    {
     "cell_type": "code",
     "collapsed": false,
     "input": [
      "# This notebook is in ACADEMY_ROOT/modules/etl_basics we want to get shared data\n",
      "filename = \"../../data/Major_Contract_Awards_FY2010_-_FY2012_-_Beta_version.csv\""
     ],
     "language": "python",
     "metadata": {},
     "outputs": [],
     "prompt_number": 2
    },
    {
     "cell_type": "heading",
     "level": 2,
     "metadata": {},
     "source": [
      "Structure"
     ]
    },
    {
     "cell_type": "markdown",
     "metadata": {},
     "source": [
      "Even we were told what files the file contains, we rather not trust the information and verify it by ourselves. The information might be outdated, might be just copied from other sources without actual valiation.\n",
      "\n",
      "We start by looking at the structure of the source file and try to answer following very basic questions:\n",
      "\n",
      "* what kind of text file it is?\n",
      "* Does it contain a header with field names?\n",
      "* What are the fields?\n",
      "\n",
      "Even we have assumptions about the source file, we have to veryfy them. Let's start by reading first five lines of the file:"
     ]
    },
    {
     "cell_type": "code",
     "collapsed": false,
     "input": [
      "with open(filename) as f:\n",
      "    for i, line in enumerate(f):\n",
      "        print line\n",
      "        if i >= 5:\n",
      "            break"
     ],
     "language": "python",
     "metadata": {},
     "outputs": [
      {
       "output_type": "stream",
       "stream": "stdout",
       "text": [
        "As of Date,Fiscal Year,Region,Borrower Country,Borrower Country Code,Project ID,Project Name,Procurement Type,Procurement Category,Procurement Method,Product line,WB Contract Number,Major Sector,Contract Description,Contract Signing Date,Supplier,Supplier Country,Supplier Country Code,Total Contract Amount (USD)\n",
        "\n",
        "06/14/2012 12:00 AM,2010,SOUTH ASIA,Afghanistan,AF,P102288,Afghanistan: Emergency National Solidarity Project II,Project Management,Consultant Services,Single Source Selection,IBRD/IDA,1297442,\"Agriculture, fishing, and forestry\",For NSP facilitation in New Communities in Districts Already,01/28/2010 12:00 AM,UNITED NATIONS CONFERENCE ON HUMAN SETTLEMENTS (HABITAT),World,1W,$4454652.00\n",
        "\n",
        "06/14/2012 12:00 AM,2010,SOUTH ASIA,Afghanistan,AF,P117103,National Solidarity Program III,Project Management,Consultant Services,Single Source Selection,IBRD/IDA,1314311,\"Agriculture, fishing, and forestry\",For NSP facilitation in New Communties in Distrcits Alreay E,01/28/2010 12:00 AM,UNITED NATIONS CONFERENCE ON HUMAN SETTLEMENTS (HABITAT),World,1W,$7544400.00\n",
        "\n",
        "06/14/2012 12:00 AM,2010,SOUTH ASIA,Afghanistan,AF,P098256,Afghanistan: Horticulture and Livestock Productivity Project,Administrative Services,Consultant Services,Single Source Selection,IBRD/IDA,1293624,\"Agriculture, fishing, and forestry\",Preparation of Saplings from Nurseries,11/25/2009 12:00 AM,SAMSOR BAN CO,Afghanistan,AF,$92367.05\n",
        "\n",
        "06/14/2012 12:00 AM,2010,SOUTH ASIA,Afghanistan,AF,P098256,Afghanistan: Horticulture and Livestock Productivity Project,Administrative Services,Consultant Services,CQS,IBRD/IDA,1293625,\"Agriculture, fishing, and forestry\",Pesticide Trade Survey and Database Development,01/10/2010 12:00 AM,MALOOK SHERZAI,Afghanistan,AF,$97371.20\n",
        "\n",
        "06/14/2012 12:00 AM,2010,SOUTH ASIA,Afghanistan,AF,P111191,Afghanistan: Statistical Capacity Building,Administrative Services,Consultant Services,Single Source Selection,Recipient Executed Activities,1288601,\"Agriculture, fishing, and forestry\",Data processing and Standaridization Advisor,08/23/2009 12:00 AM,AHAMD TARIQ WARDAK,Afghanistan,AF,$7333.00\n",
        "\n"
       ]
      }
     ],
     "prompt_number": 5
    },
    {
     "cell_type": "markdown",
     "metadata": {},
     "source": [
      "We learned that:\n",
      "\n",
      "1. file contains header row:\n",
      "\n",
      "    `As of Date,Fiscal Year,Region,Borrower Country,Borrower Country Code,Project ID,Project Name,Procurement Type,Procurement Category,Procurement Method,Product line,WB Contract Number,Major Sector,Contract Description,Contract Signing Date,Supplier,Supplier Country,Supplier Country Code,Total Contract Amount (USD)`\n",
      "\n",
      "2. file is composed of comma `','` separated values\n",
      "3. some fields are quoted by double quote as in: `\"Agriculture, fishing, and forestry\"`\n",
      "\n",
      "This information is sufficient for the time being to be able to load the file with a `csv` (comma separated values) reader from [`csv`](http://docs.python.org/2/library/csv.html) Python module:"
     ]
    },
    {
     "cell_type": "code",
     "collapsed": false,
     "input": [
      "with open(filename) as f:\n",
      "    reader = csv.reader(f)\n",
      "    header = reader.next()\n",
      "header"
     ],
     "language": "python",
     "metadata": {},
     "outputs": [
      {
       "output_type": "pyout",
       "prompt_number": 7,
       "text": [
        "['As of Date',\n",
        " 'Fiscal Year',\n",
        " 'Region',\n",
        " 'Borrower Country',\n",
        " 'Borrower Country Code',\n",
        " 'Project ID',\n",
        " 'Project Name',\n",
        " 'Procurement Type',\n",
        " 'Procurement Category',\n",
        " 'Procurement Method',\n",
        " 'Product line',\n",
        " 'WB Contract Number',\n",
        " 'Major Sector',\n",
        " 'Contract Description',\n",
        " 'Contract Signing Date',\n",
        " 'Supplier',\n",
        " 'Supplier Country',\n",
        " 'Supplier Country Code',\n",
        " 'Total Contract Amount (USD)']"
       ]
      }
     ],
     "prompt_number": 7
    },
    {
     "cell_type": "markdown",
     "metadata": {},
     "source": [
      "We see that the header contains quite descriptive labels of the columns and they seem to be the same as given by our requestor for the task.\n",
      "\n",
      "Despite some databases support arbirtary column names, we should not have this assumtion. Therefore we need column names that look like identifiers. If we have just a few columns, we might do that manually, in our case we can create a simple function that will help us to convert the names into identifiers by replacing all non-identifier characters into underscores `'_'`:"
     ]
    },
    {
     "cell_type": "code",
     "collapsed": false,
     "input": [
      "def string_to_ident(astring):\n",
      "    return re.sub(\"[^\\w]\", \"_\", astring.lower())\n",
      "string_to_ident('Borrower Country Code')"
     ],
     "language": "python",
     "metadata": {},
     "outputs": [
      {
       "output_type": "pyout",
       "prompt_number": 6,
       "text": [
        "'borrower_country_code'"
       ]
      }
     ],
     "prompt_number": 6
    },
    {
     "cell_type": "markdown",
     "metadata": {},
     "source": [
      "Note that you are very likely not going to use this function in automated environment, but might be helpful when dealing with number of uknown data sources that you need to process."
     ]
    },
    {
     "cell_type": "heading",
     "level": 2,
     "metadata": {},
     "source": [
      "File Contents Analysis"
     ]
    },
    {
     "cell_type": "markdown",
     "metadata": {},
     "source": [
      "**Objectives:** \n",
      "\n",
      "1. identify categories (future dimensions) and their keys\n",
      "2. If there are no natural keys, generate ones.\n",
      "3. create mapping tables or mapping functions between original values and keys"
     ]
    },
    {
     "cell_type": "markdown",
     "metadata": {},
     "source": [
      "Now we read the file or sample of the file together with headers. We assume that the file sample contains all code values that will ever be available in potential subsequent additions to the dataset (such as project type codes or region codes).\n",
      "\n",
      "**Note:** In real world environment it is quite commont that we will work with files that will not fit whole in the memory and we will have to either sample them or analyse them differently. For managing distinct values there will be a more complex process which we are not going to describe at this point."
     ]
    },
    {
     "cell_type": "code",
     "collapsed": false,
     "input": [
      "# Read file header and all the rows\n",
      "with open(filename) as f:\n",
      "    reader = csv.reader(f)\n",
      "    header = reader.next()\n",
      "    rows = list(reader)"
     ],
     "language": "python",
     "metadata": {},
     "outputs": [],
     "prompt_number": 7
    },
    {
     "cell_type": "markdown",
     "metadata": {},
     "source": [
      "We generate field names as proposed previously, using our string-to-identifier helper conversion function:"
     ]
    },
    {
     "cell_type": "code",
     "collapsed": false,
     "input": [
      "fields = [string_to_ident(f) for f in header]\n",
      "fields"
     ],
     "language": "python",
     "metadata": {},
     "outputs": [
      {
       "output_type": "pyout",
       "prompt_number": 8,
       "text": [
        "['as_of_date',\n",
        " 'fiscal_year',\n",
        " 'region',\n",
        " 'borrower_country',\n",
        " 'borrower_country_code',\n",
        " 'project_id',\n",
        " 'project_name',\n",
        " 'procurement_type',\n",
        " 'procurement_category',\n",
        " 'procurement_method',\n",
        " 'product_line',\n",
        " 'wb_contract_number',\n",
        " 'major_sector',\n",
        " 'contract_description',\n",
        " 'contract_signing_date',\n",
        " 'supplier',\n",
        " 'supplier_country',\n",
        " 'supplier_country_code',\n",
        " 'total_contract_amount__usd_']"
       ]
      }
     ],
     "prompt_number": 8
    },
    {
     "cell_type": "markdown",
     "metadata": {},
     "source": [
      "Field/column names were generated quite nicely. Just small correction for the last field name:"
     ]
    },
    {
     "cell_type": "code",
     "collapsed": false,
     "input": [
      "fields[-1] = \"total_contract_amount\"\n",
      "fields"
     ],
     "language": "python",
     "metadata": {},
     "outputs": [
      {
       "output_type": "pyout",
       "prompt_number": 9,
       "text": [
        "['as_of_date',\n",
        " 'fiscal_year',\n",
        " 'region',\n",
        " 'borrower_country',\n",
        " 'borrower_country_code',\n",
        " 'project_id',\n",
        " 'project_name',\n",
        " 'procurement_type',\n",
        " 'procurement_category',\n",
        " 'procurement_method',\n",
        " 'product_line',\n",
        " 'wb_contract_number',\n",
        " 'major_sector',\n",
        " 'contract_description',\n",
        " 'contract_signing_date',\n",
        " 'supplier',\n",
        " 'supplier_country',\n",
        " 'supplier_country_code',\n",
        " 'total_contract_amount']"
       ]
      }
     ],
     "prompt_number": 9
    },
    {
     "cell_type": "heading",
     "level": 1,
     "metadata": {},
     "source": [
      "Normalization"
     ]
    },
    {
     "cell_type": "markdown",
     "metadata": {},
     "source": [
      "Now let's have a look at the file contents. We see that it contains multiple categories or dimensions:\n",
      "\n",
      "* fiscal year\n",
      "* region\n",
      "* borrower country\n",
      "* project\n",
      "* procurement\n",
      "* sector\n",
      "* supplier\n",
      "\n",
      "Those categories are composed of multiple values, for example the *procurement* has three attributes: *type*, *category* and *method*.\n",
      "\n",
      "One of our original requirements was, that we might get more information about the entities in the future. Therefore we have to extract the entities into separate table - to normalize it:\n",
      "\n",
      "![](files/images/normalize.png)\n",
      "\n",
      "For normalization we need to:\n",
      "\n",
      "1. understand dimensions and their values - how many attributes describe one dimension? how many different values?\n",
      "2. identify keys and generate custom keys if keys do not exist\n",
      "\n",
      "Keys\n",
      "----\n",
      "\n",
      "In this tutorial we are going to use keys that are derived from source data to maintain understandability of the process.\n",
      "\n",
      "We start with dimension regions. What values the column contains?\n",
      "\n",
      "**Excercise 1: get all distinct values of column 'region', which has index 2:**\n",
      "\n",
      "Inputs: `rows` contains all rows from our imput file as a list."
     ]
    },
    {
     "cell_type": "code",
     "collapsed": false,
     "input": [
      "# Excercise 1: get all distinct values of column 'region':\n",
      "# ..."
     ],
     "language": "python",
     "metadata": {},
     "outputs": [],
     "prompt_number": 10
    },
    {
     "cell_type": "markdown",
     "metadata": {},
     "source": [
      "**Solution for Excercise 1:**\n",
      "\n",
      "Easy way how to get a sorted list of distinct values of a field:\n",
      "\n",
      "1. get all values of the field\n",
      "2. collect the values in a `set()`\n",
      "3. convert the set to a list and sort it with `.sort()`"
     ]
    },
    {
     "cell_type": "code",
     "collapsed": false,
     "input": [
      "# Get distinct values of region column\n",
      "distinct_values = set(row[2] for row in rows)\n",
      "\n",
      "# Make it a list, so we can order it, as set is unordered container structure:\n",
      "regions = list(distinct_values)\n",
      "regions.sort()\n",
      "regions"
     ],
     "language": "python",
     "metadata": {},
     "outputs": [
      {
       "output_type": "pyout",
       "prompt_number": 12,
       "text": [
        "['AFRICA',\n",
        " 'EAST ASIA AND PACIFIC',\n",
        " 'EUROPE AND CENTRAL ASIA',\n",
        " 'LATIN AMERICA AND CARIBBEAN',\n",
        " 'MIDDLE EAST AND NORTH AFRICA',\n",
        " 'OTHER',\n",
        " 'SOUTH ASIA']"
       ]
      }
     ],
     "prompt_number": 12
    },
    {
     "cell_type": "markdown",
     "metadata": {},
     "source": [
      "There is no other attribute for regions in the source table. That means that regions do not have a key, so we generate one for them. We have just a few values, so we might create keys manually. However, we are going to generate them automatically. There are many possibilities, we might try for example taking the first letter of each word:"
     ]
    },
    {
     "cell_type": "code",
     "collapsed": false,
     "input": [
      "region = 'LATIN AMERICA AND CARIBBEAN'\n",
      "words = region.split()\n",
      "first_letters = [word[0] for word in words]\n",
      "key =  \"\".join(first_letters)\n",
      "\n",
      "print \"region       : '%s'\" % region\n",
      "print \"words        : %s\" % (words, )\n",
      "print \"first letters: %s\" % first_letters\n",
      "print \"key          : '%s'\" % key"
     ],
     "language": "python",
     "metadata": {},
     "outputs": [
      {
       "output_type": "stream",
       "stream": "stdout",
       "text": [
        "region       : 'LATIN AMERICA AND CARIBBEAN'\n",
        "words        : ['LATIN', 'AMERICA', 'AND', 'CARIBBEAN']\n",
        "first letters: ['L', 'A', 'A', 'C']\n",
        "key          : 'LAAC'\n"
       ]
      }
     ],
     "prompt_number": 21
    },
    {
     "cell_type": "markdown",
     "metadata": {},
     "source": [
      "Looks fine. Create a function for key creation and try it for all regions:"
     ]
    },
    {
     "cell_type": "code",
     "collapsed": false,
     "input": [
      "def region_code(region):\n",
      "    \"\"\"Create a key from first letters of words\"\"\"\n",
      "    return \"\".join([c[0] for c in region.split()])\n",
      "\n",
      "[region_code(region) for region in regions]"
     ],
     "language": "python",
     "metadata": {},
     "outputs": [
      {
       "output_type": "pyout",
       "prompt_number": 23,
       "text": [
        "['A', 'EAAP', 'EACA', 'LAAC', 'MEANA', 'O', 'SA']"
       ]
      }
     ],
     "prompt_number": 23
    },
    {
     "cell_type": "markdown",
     "metadata": {},
     "source": [
      "Rows of a dimension table for region will contain columns: `key` and `name`:"
     ]
    },
    {
     "cell_type": "code",
     "collapsed": false,
     "input": [
      "dim_region = [(region_code(region), region) for region in regions]\n",
      "\n",
      "for row in dim_region:\n",
      "    print row"
     ],
     "language": "python",
     "metadata": {},
     "outputs": [
      {
       "output_type": "stream",
       "stream": "stdout",
       "text": [
        "('A', 'AFRICA')\n",
        "('EAAP', 'EAST ASIA AND PACIFIC')\n",
        "('EACA', 'EUROPE AND CENTRAL ASIA')\n",
        "('LAAC', 'LATIN AMERICA AND CARIBBEAN')\n",
        "('MEANA', 'MIDDLE EAST AND NORTH AFRICA')\n",
        "('O', 'OTHER')\n",
        "('SA', 'SOUTH ASIA')\n"
       ]
      }
     ],
     "prompt_number": 25
    },
    {
     "cell_type": "markdown",
     "metadata": {},
     "source": [
      "**Excercise:** change region names to be capitalized words. Create and use a function to do that."
     ]
    },
    {
     "cell_type": "markdown",
     "metadata": {},
     "source": [
      "We have data for our dimension table and we have new keys. To be able to join tables together, we need how the original values map to the keys, therfore we create a mapping dictionary:"
     ]
    },
    {
     "cell_type": "code",
     "collapsed": false,
     "input": [
      "region_map = dict((region, region_code(region)) for region in regions)\n",
      "region_map"
     ],
     "language": "python",
     "metadata": {},
     "outputs": [
      {
       "output_type": "pyout",
       "prompt_number": 26,
       "text": [
        "{'AFRICA': 'A',\n",
        " 'EAST ASIA AND PACIFIC': 'EAAP',\n",
        " 'EUROPE AND CENTRAL ASIA': 'EACA',\n",
        " 'LATIN AMERICA AND CARIBBEAN': 'LAAC',\n",
        " 'MIDDLE EAST AND NORTH AFRICA': 'MEANA',\n",
        " 'OTHER': 'O',\n",
        " 'SOUTH ASIA': 'SA'}"
       ]
      }
     ],
     "prompt_number": 26
    },
    {
     "cell_type": "markdown",
     "metadata": {},
     "source": [
      "Before we proceed to our next dimension, remember how we created distinct values of region:\n",
      "\n",
      "    distinct_values = set(row[2] for row in rows)\n",
      "\n",
      "Note the `row[2]` - we have rows as lists, but we want to reference them by column names. We can convert our dataset to a list of dictionary objects, however in some cases this is much more memory intensive than storing just rows of values. Other option is to create a map between column name and field index. It will require a bit of more writing, but will prevent possible errors of using wrong field indexes."
     ]
    },
    {
     "cell_type": "code",
     "collapsed": false,
     "input": [
      "# Create a mapping between field name and column index\n",
      "findex = dict( (field, i) for i, field in enumerate(fields) )\n",
      "findex"
     ],
     "language": "python",
     "metadata": {},
     "outputs": [
      {
       "output_type": "pyout",
       "prompt_number": 29,
       "text": [
        "{'as_of_date': 0,\n",
        " 'borrower_country': 3,\n",
        " 'borrower_country_code': 4,\n",
        " 'contract_description': 13,\n",
        " 'contract_signing_date': 14,\n",
        " 'fiscal_year': 1,\n",
        " 'major_sector': 12,\n",
        " 'procurement_category': 8,\n",
        " 'procurement_method': 9,\n",
        " 'procurement_type': 7,\n",
        " 'product_line': 10,\n",
        " 'project_id': 5,\n",
        " 'project_name': 6,\n",
        " 'region': 2,\n",
        " 'supplier': 15,\n",
        " 'supplier_country': 16,\n",
        " 'supplier_country_code': 17,\n",
        " 'total_contract_amount': 18,\n",
        " 'wb_contract_number': 11}"
       ]
      }
     ],
     "prompt_number": 29
    },
    {
     "cell_type": "markdown",
     "metadata": {},
     "source": [
      "Next one is \"Procurement Types\". We want to see the contents of the field - distinct values. To not to repeat ourselves again, we create a function for that.\n",
      "\n",
      "**Excercise: ** create a function that will take a list of rows and will return a sorted list of distinct values for given column index:\n"
     ]
    },
    {
     "cell_type": "code",
     "collapsed": false,
     "input": [
      "def distinct(rows, column):\n",
      "    \"\"\"Return sorted list of distinct values of alist:\"\"\"\n",
      "    pass"
     ],
     "language": "python",
     "metadata": {},
     "outputs": []
    },
    {
     "cell_type": "markdown",
     "metadata": {},
     "source": [
      "**Solution:**"
     ]
    },
    {
     "cell_type": "code",
     "collapsed": false,
     "input": [
      "def distinct(rows, column):\n",
      "    \"\"\"Return sorted list of distinct values of alist:\"\"\"\n",
      "    values = list(set(row[column] for row in rows))\n",
      "    values.sort()\n",
      "    return values"
     ],
     "language": "python",
     "metadata": {},
     "outputs": [],
     "prompt_number": 30
    },
    {
     "cell_type": "code",
     "collapsed": false,
     "input": [
      "proc_types = distinct(rows, findex[\"procurement_type\"])\n",
      "proc_types"
     ],
     "language": "python",
     "metadata": {},
     "outputs": [
      {
       "output_type": "pyout",
       "prompt_number": 44,
       "text": [
        "['Administrative Services',\n",
        " 'Aerial Photography Services',\n",
        " 'Agricultural Inputs',\n",
        " 'Audit Services',\n",
        " 'Awareness Campaigns',\n",
        " 'Construction Supervision, Quality Manage',\n",
        " 'Data Processing Services',\n",
        " 'Design Services',\n",
        " 'Drilling Services',\n",
        " 'Education Services',\n",
        " 'Environmental Studies',\n",
        " 'Equipment Information Technology',\n",
        " 'Equipment, Agricultural',\n",
        " 'Equipment, Construction',\n",
        " 'Equipment, Educational',\n",
        " 'Equipment, Electrical',\n",
        " 'Equipment, Energy Exploration, Productio',\n",
        " 'Equipment, Industrial Plants',\n",
        " 'Equipment, Mechanical',\n",
        " 'Equipment, Medical',\n",
        " 'Equipment, Mining',\n",
        " 'Equipment, Telecommunications',\n",
        " 'Equipment, Transportation',\n",
        " 'Equipment, Water Supply and Sewerage',\n",
        " 'Feasibility studies, Design Studies',\n",
        " 'Financial Services',\n",
        " 'Geological/Geophysical Services',\n",
        " 'Governance Services',\n",
        " 'Hardware/Software Services',\n",
        " 'Health Services',\n",
        " 'ICT/Telecommunications Services',\n",
        " 'Institution building',\n",
        " 'Legal Advisory Services',\n",
        " 'Management Advice, Technical/Operation A',\n",
        " 'Materials, Construction',\n",
        " 'Miscellaneous',\n",
        " 'Other Operational Services',\n",
        " 'Pharmaceuticals, Medical Products',\n",
        " 'Policy and Strategy',\n",
        " 'Project Management',\n",
        " 'Raw Materals, Chemicals, Commodities',\n",
        " 'Research/Development Services',\n",
        " 'Safety Studies',\n",
        " 'Satellite Imaging Services',\n",
        " 'Sector studies, Master Plans',\n",
        " 'Social Studies',\n",
        " 'Statistical Services',\n",
        " 'Survey Services',\n",
        " 'Tender Documents, Procurement Assistance',\n",
        " 'Training Services',\n",
        " 'Training/Knowledge Transfer',\n",
        " 'Works,  Industrial Plants',\n",
        " 'Works, Buildings',\n",
        " 'Works, Infrastructure',\n",
        " 'Works, Installation & Erection',\n",
        " 'Works, Maintenance and Rehabilitation']"
       ]
      }
     ],
     "prompt_number": 44
    },
    {
     "cell_type": "markdown",
     "metadata": {},
     "source": [
      "Quick and simple solution would be to get first three letters from each word. Not the nicest one but works fine:"
     ]
    },
    {
     "cell_type": "code",
     "collapsed": false,
     "input": [
      "value = \"Raw Materals, Chemicals, Commodities\"\n",
      "print value\n",
      "\n",
      "value = value.upper()\n",
      "print value\n",
      "\n",
      "\n",
      "# remove non-identifier characters\n",
      "value = re.sub(\"[^\\w]+\", \" \", value)\n",
      "print value\n",
      "\n",
      "# split to words:\n",
      "words = value.split()\n",
      "print words\n",
      "\n",
      "# get first three letters\n",
      "values = [word[:3] for word in words]\n",
      "print values\n",
      "\n",
      "# merge back together\n",
      "key = \"\".join(values)\n",
      "print key"
     ],
     "language": "python",
     "metadata": {},
     "outputs": [
      {
       "output_type": "stream",
       "stream": "stdout",
       "text": [
        "Raw Materals, Chemicals, Commodities\n",
        "RAW MATERALS, CHEMICALS, COMMODITIES\n",
        "RAW MATERALS CHEMICALS COMMODITIES\n",
        "['RAW', 'MATERALS', 'CHEMICALS', 'COMMODITIES']\n",
        "['RAW', 'MAT', 'CHE', 'COM']\n",
        "RAWMATCHECOM\n"
       ]
      }
     ],
     "prompt_number": 45
    },
    {
     "cell_type": "markdown",
     "metadata": {},
     "source": [
      "Define the function:"
     ]
    },
    {
     "cell_type": "code",
     "collapsed": false,
     "input": [
      "def create_code(value):\n",
      "    value = re.sub(\"[^\\w]+\", \" \", value.upper())\n",
      "    return \"\".join([word[:3] for word in value.split()])"
     ],
     "language": "python",
     "metadata": {},
     "outputs": [],
     "prompt_number": 46
    },
    {
     "cell_type": "markdown",
     "metadata": {},
     "source": [
      "This is how the list looks like:"
     ]
    },
    {
     "cell_type": "code",
     "collapsed": false,
     "input": [
      "[create_code(pt) for pt in proc_types]"
     ],
     "language": "python",
     "metadata": {},
     "outputs": [
      {
       "output_type": "pyout",
       "prompt_number": 47,
       "text": [
        "['ADMSER',\n",
        " 'AERPHOSER',\n",
        " 'AGRINP',\n",
        " 'AUDSER',\n",
        " 'AWACAM',\n",
        " 'CONSUPQUAMAN',\n",
        " 'DATPROSER',\n",
        " 'DESSER',\n",
        " 'DRISER',\n",
        " 'EDUSER',\n",
        " 'ENVSTU',\n",
        " 'EQUINFTEC',\n",
        " 'EQUAGR',\n",
        " 'EQUCON',\n",
        " 'EQUEDU',\n",
        " 'EQUELE',\n",
        " 'EQUENEEXPPRO',\n",
        " 'EQUINDPLA',\n",
        " 'EQUMEC',\n",
        " 'EQUMED',\n",
        " 'EQUMIN',\n",
        " 'EQUTEL',\n",
        " 'EQUTRA',\n",
        " 'EQUWATSUPANDSEW',\n",
        " 'FEASTUDESSTU',\n",
        " 'FINSER',\n",
        " 'GEOGEOSER',\n",
        " 'GOVSER',\n",
        " 'HARSOFSER',\n",
        " 'HEASER',\n",
        " 'ICTTELSER',\n",
        " 'INSBUI',\n",
        " 'LEGADVSER',\n",
        " 'MANADVTECOPEA',\n",
        " 'MATCON',\n",
        " 'MIS',\n",
        " 'OTHOPESER',\n",
        " 'PHAMEDPRO',\n",
        " 'POLANDSTR',\n",
        " 'PROMAN',\n",
        " 'RAWMATCHECOM',\n",
        " 'RESDEVSER',\n",
        " 'SAFSTU',\n",
        " 'SATIMASER',\n",
        " 'SECSTUMASPLA',\n",
        " 'SOCSTU',\n",
        " 'STASER',\n",
        " 'SURSER',\n",
        " 'TENDOCPROASS',\n",
        " 'TRASER',\n",
        " 'TRAKNOTRA',\n",
        " 'WORINDPLA',\n",
        " 'WORBUI',\n",
        " 'WORINF',\n",
        " 'WORINSERE',\n",
        " 'WORMAIANDREH']"
       ]
      }
     ],
     "prompt_number": 47
    },
    {
     "cell_type": "markdown",
     "metadata": {},
     "source": [
      "Now we look at the procurement category values:"
     ]
    },
    {
     "cell_type": "code",
     "collapsed": false,
     "input": [
      "proc_categories = distinct(rows, findex[\"procurement_category\"])\n",
      "proc_categories"
     ],
     "language": "python",
     "metadata": {},
     "outputs": [
      {
       "output_type": "pyout",
       "prompt_number": 54,
       "text": [
        "['Civil Works', 'Consultant Services', 'Goods', 'NC']"
       ]
      }
     ],
     "prompt_number": 54
    },
    {
     "cell_type": "markdown",
     "metadata": {},
     "source": [
      "There are only few of them, we either create manual dictionary or can get first word. Create codes for procurement category:"
     ]
    },
    {
     "cell_type": "code",
     "collapsed": false,
     "input": [
      "value = 'Civil Works'\n",
      "print \"value: '%s'\" % value\n",
      "\n",
      "words = value.split()\n",
      "print \"words: %s\" % (words, )\n",
      "\n",
      "print \"first: '%s'\" % words[0]\n",
      "\n",
      "key = words[0].upper()\n",
      "print \"key  : '%s'\" % key"
     ],
     "language": "python",
     "metadata": {},
     "outputs": [
      {
       "output_type": "stream",
       "stream": "stdout",
       "text": [
        "value: 'Civil Works'\n",
        "words: ['Civil', 'Works']\n",
        "first: 'Civil'\n",
        "key  : 'CIVIL'\n"
       ]
      }
     ],
     "prompt_number": 52
    },
    {
     "cell_type": "markdown",
     "metadata": {},
     "source": [
      "Looks fine, create a function for that:"
     ]
    },
    {
     "cell_type": "code",
     "collapsed": false,
     "input": [
      "def first_word_key(value):\n",
      "    \"\"\"Returns capitalized first word\"\"\"\n",
      "    return value.split()[0].upper()\n",
      "\n",
      "first_word_key('Civil Works')"
     ],
     "language": "python",
     "metadata": {},
     "outputs": [
      {
       "output_type": "pyout",
       "prompt_number": 53,
       "text": [
        "'CIVIL'"
       ]
      }
     ],
     "prompt_number": 53
    },
    {
     "cell_type": "markdown",
     "metadata": {},
     "source": [
      "Procurement method values:"
     ]
    },
    {
     "cell_type": "code",
     "collapsed": false,
     "input": [
      "proc_methods = distinct(rows, findex[\"procurement_method\"])\n",
      "proc_methods"
     ],
     "language": "python",
     "metadata": {},
     "outputs": [
      {
       "output_type": "pyout",
       "prompt_number": 57,
       "text": [
        "['CQS',\n",
        " 'Direct Contracting',\n",
        " 'Individual',\n",
        " 'International Competitive Bidding',\n",
        " 'Least Cost Selection',\n",
        " 'Limited International Bidding',\n",
        " 'National Competitive Bidding',\n",
        " 'Quality And Cost-Based Selection',\n",
        " 'Quality Based Selection',\n",
        " 'SHOP',\n",
        " 'Selection Under a Fixed Budget',\n",
        " 'Service Delivery Contracts',\n",
        " 'Single Source Selection']"
       ]
      }
     ],
     "prompt_number": 57
    },
    {
     "cell_type": "markdown",
     "metadata": {},
     "source": [
      "We can use for codes the `create_code()` function, it looks that it might fit our data:"
     ]
    },
    {
     "cell_type": "code",
     "collapsed": false,
     "input": [
      "[create_code(pt) for pt in proc_methods]"
     ],
     "language": "python",
     "metadata": {},
     "outputs": [
      {
       "output_type": "pyout",
       "prompt_number": 58,
       "text": [
        "['CQS',\n",
        " 'DIRCON',\n",
        " 'IND',\n",
        " 'INTCOMBID',\n",
        " 'LEACOSSEL',\n",
        " 'LIMINTBID',\n",
        " 'NATCOMBID',\n",
        " 'QUAANDCOSBASSEL',\n",
        " 'QUABASSEL',\n",
        " 'SHO',\n",
        " 'SELUNDAFIXBUD',\n",
        " 'SERDELCON',\n",
        " 'SINSOUSEL']"
       ]
      }
     ],
     "prompt_number": 58
    },
    {
     "cell_type": "code",
     "collapsed": false,
     "input": [
      "dim_procurement_method = [(create_code(method), method) for method in proc_methods]\n",
      "dim_procurement_method"
     ],
     "language": "python",
     "metadata": {},
     "outputs": [
      {
       "output_type": "pyout",
       "prompt_number": 211,
       "text": [
        "[('CQS', 'CQS'),\n",
        " ('DIRCON', 'Direct Contracting'),\n",
        " ('IND', 'Individual'),\n",
        " ('INTCOMBID', 'International Competitive Bidding'),\n",
        " ('LEACOSSEL', 'Least Cost Selection'),\n",
        " ('LIMINTBID', 'Limited International Bidding'),\n",
        " ('NATCOMBID', 'National Competitive Bidding'),\n",
        " ('QUAANDCOSBASSEL', 'Quality And Cost-Based Selection'),\n",
        " ('QUABASSEL', 'Quality Based Selection'),\n",
        " ('SHO', 'SHOP'),\n",
        " ('SELUNDAFIXBUD', 'Selection Under a Fixed Budget'),\n",
        " ('SERDELCON', 'Service Delivery Contracts'),\n",
        " ('SINSOUSEL', 'Single Source Selection')]"
       ]
      }
     ],
     "prompt_number": 211
    },
    {
     "cell_type": "markdown",
     "metadata": {},
     "source": [
      "We have three attributes of a procurement and their respective keys:\n",
      "    \n",
      "* procurement type\n",
      "* procurement category\n",
      "* procurement method\n",
      "\n",
      "If we look at the category and type we can see that they are in a hierarchical relationship. We can see that by getting a distinct values of both:"
     ]
    },
    {
     "cell_type": "code",
     "collapsed": false,
     "input": [
      "def mdistinct(rows, columns):\n",
      "    \"\"\"Return sorted list of distinct values of alist:\"\"\"\n",
      "    values = list(set(tuple(row[column] for column in columns) for row in rows))\n",
      "    values.sort()\n",
      "    return values\n",
      "\n",
      "mdistinct(rows, [findex[\"procurement_category\"], findex[\"procurement_type\"]])"
     ],
     "language": "python",
     "metadata": {},
     "outputs": [
      {
       "output_type": "pyout",
       "prompt_number": 65,
       "text": [
        "[('Civil Works', 'Works,  Industrial Plants'),\n",
        " ('Civil Works', 'Works, Buildings'),\n",
        " ('Civil Works', 'Works, Infrastructure'),\n",
        " ('Civil Works', 'Works, Installation & Erection'),\n",
        " ('Civil Works', 'Works, Maintenance and Rehabilitation'),\n",
        " ('Consultant Services', 'Administrative Services'),\n",
        " ('Consultant Services', 'Audit Services'),\n",
        " ('Consultant Services', 'Awareness Campaigns'),\n",
        " ('Consultant Services', 'Construction Supervision, Quality Manage'),\n",
        " ('Consultant Services', 'Design Services'),\n",
        " ('Consultant Services', 'Education Services'),\n",
        " ('Consultant Services', 'Environmental Studies'),\n",
        " ('Consultant Services', 'Feasibility studies, Design Studies'),\n",
        " ('Consultant Services', 'Financial Services'),\n",
        " ('Consultant Services', 'Geological/Geophysical Services'),\n",
        " ('Consultant Services', 'Governance Services'),\n",
        " ('Consultant Services', 'Hardware/Software Services'),\n",
        " ('Consultant Services', 'Health Services'),\n",
        " ('Consultant Services', 'ICT/Telecommunications Services'),\n",
        " ('Consultant Services', 'Institution building'),\n",
        " ('Consultant Services', 'Legal Advisory Services'),\n",
        " ('Consultant Services', 'Management Advice, Technical/Operation A'),\n",
        " ('Consultant Services', 'Policy and Strategy'),\n",
        " ('Consultant Services', 'Project Management'),\n",
        " ('Consultant Services', 'Research/Development Services'),\n",
        " ('Consultant Services', 'Safety Studies'),\n",
        " ('Consultant Services', 'Sector studies, Master Plans'),\n",
        " ('Consultant Services', 'Social Studies'),\n",
        " ('Consultant Services', 'Statistical Services'),\n",
        " ('Consultant Services', 'Tender Documents, Procurement Assistance'),\n",
        " ('Consultant Services', 'Training/Knowledge Transfer'),\n",
        " ('Goods', 'Agricultural Inputs'),\n",
        " ('Goods', 'Equipment Information Technology'),\n",
        " ('Goods', 'Equipment, Agricultural'),\n",
        " ('Goods', 'Equipment, Construction'),\n",
        " ('Goods', 'Equipment, Educational'),\n",
        " ('Goods', 'Equipment, Electrical'),\n",
        " ('Goods', 'Equipment, Energy Exploration, Productio'),\n",
        " ('Goods', 'Equipment, Industrial Plants'),\n",
        " ('Goods', 'Equipment, Mechanical'),\n",
        " ('Goods', 'Equipment, Medical'),\n",
        " ('Goods', 'Equipment, Mining'),\n",
        " ('Goods', 'Equipment, Telecommunications'),\n",
        " ('Goods', 'Equipment, Transportation'),\n",
        " ('Goods', 'Equipment, Water Supply and Sewerage'),\n",
        " ('Goods', 'Materials, Construction'),\n",
        " ('Goods', 'Miscellaneous'),\n",
        " ('Goods', 'Pharmaceuticals, Medical Products'),\n",
        " ('Goods', 'Raw Materals, Chemicals, Commodities'),\n",
        " ('NC', 'Administrative Services'),\n",
        " ('NC', 'Aerial Photography Services'),\n",
        " ('NC', 'Data Processing Services'),\n",
        " ('NC', 'Drilling Services'),\n",
        " ('NC', 'Other Operational Services'),\n",
        " ('NC', 'Satellite Imaging Services'),\n",
        " ('NC', 'Survey Services'),\n",
        " ('NC', 'Training Services')]"
       ]
      }
     ],
     "prompt_number": 65
    },
    {
     "cell_type": "markdown",
     "metadata": {},
     "source": [
      "That means that we are going to have two dimensions: *procurement type (and category)* and *procurement method*:"
     ]
    },
    {
     "cell_type": "code",
     "collapsed": false,
     "input": [
      "dim_procurement_type = []\n",
      "\n",
      "# Get distinct values of both attributes\n",
      "distinct_values = mdistinct(rows, [findex[\"procurement_category\"], findex[\"procurement_type\"]])\n",
      "\n",
      "for proc_category, proc_type in distinct_values:\n",
      "    row = [first_word_key(proc_category),\n",
      "           proc_category,\n",
      "           create_code(proc_type),\n",
      "           proc_type\n",
      "           ]\n",
      "    dim_procurement_type.append(row)\n",
      "    \n",
      "for row in dim_procurement_type:\n",
      "    print row"
     ],
     "language": "python",
     "metadata": {},
     "outputs": [
      {
       "output_type": "stream",
       "stream": "stdout",
       "text": [
        "['CIVIL', 'Civil Works', 'WORINDPLA', 'Works,  Industrial Plants']\n",
        "['CIVIL', 'Civil Works', 'WORBUI', 'Works, Buildings']\n",
        "['CIVIL', 'Civil Works', 'WORINF', 'Works, Infrastructure']\n",
        "['CIVIL', 'Civil Works', 'WORINSERE', 'Works, Installation & Erection']\n",
        "['CIVIL', 'Civil Works', 'WORMAIANDREH', 'Works, Maintenance and Rehabilitation']\n",
        "['CONSULTANT', 'Consultant Services', 'ADMSER', 'Administrative Services']\n",
        "['CONSULTANT', 'Consultant Services', 'AUDSER', 'Audit Services']\n",
        "['CONSULTANT', 'Consultant Services', 'AWACAM', 'Awareness Campaigns']\n",
        "['CONSULTANT', 'Consultant Services', 'CONSUPQUAMAN', 'Construction Supervision, Quality Manage']\n",
        "['CONSULTANT', 'Consultant Services', 'DESSER', 'Design Services']\n",
        "['CONSULTANT', 'Consultant Services', 'EDUSER', 'Education Services']\n",
        "['CONSULTANT', 'Consultant Services', 'ENVSTU', 'Environmental Studies']\n",
        "['CONSULTANT', 'Consultant Services', 'FEASTUDESSTU', 'Feasibility studies, Design Studies']\n",
        "['CONSULTANT', 'Consultant Services', 'FINSER', 'Financial Services']\n",
        "['CONSULTANT', 'Consultant Services', 'GEOGEOSER', 'Geological/Geophysical Services']\n",
        "['CONSULTANT', 'Consultant Services', 'GOVSER', 'Governance Services']\n",
        "['CONSULTANT', 'Consultant Services', 'HARSOFSER', 'Hardware/Software Services']\n",
        "['CONSULTANT', 'Consultant Services', 'HEASER', 'Health Services']\n",
        "['CONSULTANT', 'Consultant Services', 'ICTTELSER', 'ICT/Telecommunications Services']\n",
        "['CONSULTANT', 'Consultant Services', 'INSBUI', 'Institution building']\n",
        "['CONSULTANT', 'Consultant Services', 'LEGADVSER', 'Legal Advisory Services']\n",
        "['CONSULTANT', 'Consultant Services', 'MANADVTECOPEA', 'Management Advice, Technical/Operation A']\n",
        "['CONSULTANT', 'Consultant Services', 'POLANDSTR', 'Policy and Strategy']\n",
        "['CONSULTANT', 'Consultant Services', 'PROMAN', 'Project Management']\n",
        "['CONSULTANT', 'Consultant Services', 'RESDEVSER', 'Research/Development Services']\n",
        "['CONSULTANT', 'Consultant Services', 'SAFSTU', 'Safety Studies']\n",
        "['CONSULTANT', 'Consultant Services', 'SECSTUMASPLA', 'Sector studies, Master Plans']\n",
        "['CONSULTANT', 'Consultant Services', 'SOCSTU', 'Social Studies']\n",
        "['CONSULTANT', 'Consultant Services', 'STASER', 'Statistical Services']\n",
        "['CONSULTANT', 'Consultant Services', 'TENDOCPROASS', 'Tender Documents, Procurement Assistance']\n",
        "['CONSULTANT', 'Consultant Services', 'TRAKNOTRA', 'Training/Knowledge Transfer']\n",
        "['GOODS', 'Goods', 'AGRINP', 'Agricultural Inputs']\n",
        "['GOODS', 'Goods', 'EQUINFTEC', 'Equipment Information Technology']\n",
        "['GOODS', 'Goods', 'EQUAGR', 'Equipment, Agricultural']\n",
        "['GOODS', 'Goods', 'EQUCON', 'Equipment, Construction']\n",
        "['GOODS', 'Goods', 'EQUEDU', 'Equipment, Educational']\n",
        "['GOODS', 'Goods', 'EQUELE', 'Equipment, Electrical']\n",
        "['GOODS', 'Goods', 'EQUENEEXPPRO', 'Equipment, Energy Exploration, Productio']\n",
        "['GOODS', 'Goods', 'EQUINDPLA', 'Equipment, Industrial Plants']\n",
        "['GOODS', 'Goods', 'EQUMEC', 'Equipment, Mechanical']\n",
        "['GOODS', 'Goods', 'EQUMED', 'Equipment, Medical']\n",
        "['GOODS', 'Goods', 'EQUMIN', 'Equipment, Mining']\n",
        "['GOODS', 'Goods', 'EQUTEL', 'Equipment, Telecommunications']\n",
        "['GOODS', 'Goods', 'EQUTRA', 'Equipment, Transportation']\n",
        "['GOODS', 'Goods', 'EQUWATSUPANDSEW', 'Equipment, Water Supply and Sewerage']\n",
        "['GOODS', 'Goods', 'MATCON', 'Materials, Construction']\n",
        "['GOODS', 'Goods', 'MIS', 'Miscellaneous']\n",
        "['GOODS', 'Goods', 'PHAMEDPRO', 'Pharmaceuticals, Medical Products']\n",
        "['GOODS', 'Goods', 'RAWMATCHECOM', 'Raw Materals, Chemicals, Commodities']\n",
        "['NC', 'NC', 'ADMSER', 'Administrative Services']\n",
        "['NC', 'NC', 'AERPHOSER', 'Aerial Photography Services']\n",
        "['NC', 'NC', 'DATPROSER', 'Data Processing Services']\n",
        "['NC', 'NC', 'DRISER', 'Drilling Services']\n",
        "['NC', 'NC', 'OTHOPESER', 'Other Operational Services']\n",
        "['NC', 'NC', 'SATIMASER', 'Satellite Imaging Services']\n",
        "['NC', 'NC', 'SURSER', 'Survey Services']\n",
        "['NC', 'NC', 'TRASER', 'Training Services']\n"
       ]
      }
     ],
     "prompt_number": 67
    },
    {
     "cell_type": "markdown",
     "metadata": {},
     "source": [
      "In star schema, we are going to join the dimension table only by one key. We have to create one artificial \u2013 surrogate, that will represent a combination of the two keys of dimension attributes:\n",
      "\n",
      "![](files/images/surrogate_key.png)\n",
      "\n",
      "The key can be generated just from a simple integer sequence:"
     ]
    },
    {
     "cell_type": "code",
     "collapsed": false,
     "input": [
      "dim_procurement_type = []\n",
      "\n",
      "# Get distinct values of both attributes\n",
      "distinct_values = mdistinct(rows, [findex[\"procurement_category\"], findex[\"procurement_type\"]])\n",
      "\n",
      "surrogate_key = 1\n",
      "\n",
      "for proc_category, proc_type in distinct_values:\n",
      "    row = [surrogate_key,\n",
      "           first_word_key(proc_category),\n",
      "           proc_category,\n",
      "           create_code(proc_type),\n",
      "           proc_type\n",
      "           ]\n",
      "    surrogate_key += 1\n",
      "    dim_procurement_type.append(row)\n",
      "    \n",
      "print \"first 10 rows:\"\n",
      "for row in dim_procurement_type[:10]:\n",
      "    print row"
     ],
     "language": "python",
     "metadata": {},
     "outputs": [
      {
       "output_type": "stream",
       "stream": "stdout",
       "text": [
        "first 10 rows:\n",
        "[1, 'CIVIL', 'Civil Works', 'WORINDPLA', 'Works,  Industrial Plants']\n",
        "[2, 'CIVIL', 'Civil Works', 'WORBUI', 'Works, Buildings']\n",
        "[3, 'CIVIL', 'Civil Works', 'WORINF', 'Works, Infrastructure']\n",
        "[4, 'CIVIL', 'Civil Works', 'WORINSERE', 'Works, Installation & Erection']\n",
        "[5, 'CIVIL', 'Civil Works', 'WORMAIANDREH', 'Works, Maintenance and Rehabilitation']\n",
        "[6, 'CONSULTANT', 'Consultant Services', 'ADMSER', 'Administrative Services']\n",
        "[7, 'CONSULTANT', 'Consultant Services', 'AUDSER', 'Audit Services']\n",
        "[8, 'CONSULTANT', 'Consultant Services', 'AWACAM', 'Awareness Campaigns']\n",
        "[9, 'CONSULTANT', 'Consultant Services', 'CONSUPQUAMAN', 'Construction Supervision, Quality Manage']\n",
        "[10, 'CONSULTANT', 'Consultant Services', 'DESSER', 'Design Services']\n"
       ]
      }
     ],
     "prompt_number": 69
    },
    {
     "cell_type": "markdown",
     "metadata": {},
     "source": [
      "In our original table we have verbose labels and we need to get the same key for attribute combination as in the dimension table. For that purpose we create a mapping between source table attribute values and newly created surrogate key.\n",
      "\n",
      "**Excercise:** create a dictionary where key will be a tuple containing a tuple of `(procurement_category, procurement_type)` and value will contain the surrogate key:"
     ]
    },
    {
     "cell_type": "code",
     "collapsed": false,
     "input": [
      "# Define procurement type map here:\n",
      "procurement_type_map = None"
     ],
     "language": "python",
     "metadata": {},
     "outputs": []
    },
    {
     "cell_type": "markdown",
     "metadata": {},
     "source": [
      "**Solution:**"
     ]
    },
    {
     "cell_type": "code",
     "collapsed": false,
     "input": [
      "procurement_type_map = {}\n",
      "\n",
      "KEY_COLUMN = 0\n",
      "CATEGORY_COLUMN = 2\n",
      "TYPE_COLUMN = 4\n",
      "\n",
      "for row in dim_procurement_type:\n",
      "    key = (row[CATEGORY_COLUMN], row[TYPE_COLUMN])\n",
      "    procurement_type_map[key] = row[KEY_COLUMN]\n",
      "    \n",
      "for key, value in procurement_type_map.items():\n",
      "    print \"%s ==> %s\" % (key, value)"
     ],
     "language": "python",
     "metadata": {},
     "outputs": [
      {
       "output_type": "stream",
       "stream": "stdout",
       "text": [
        "('Consultant Services', 'Hardware/Software Services') ==> 17\n",
        "('Goods', 'Equipment, Mechanical') ==> 40\n",
        "('Civil Works', 'Works,  Industrial Plants') ==> 1\n",
        "('Consultant Services', 'Financial Services') ==> 14\n",
        "('Consultant Services', 'Statistical Services') ==> 29\n",
        "('Goods', 'Miscellaneous') ==> 47\n",
        "('Consultant Services', 'Audit Services') ==> 7\n",
        "('Consultant Services', 'Sector studies, Master Plans') ==> 27\n",
        "('NC', 'Data Processing Services') ==> 52\n",
        "('Consultant Services', 'Governance Services') ==> 16\n",
        "('Goods', 'Materials, Construction') ==> 46\n",
        "('Consultant Services', 'Feasibility studies, Design Studies') ==> 13\n",
        "('Goods', 'Agricultural Inputs') ==> 32\n",
        "('NC', 'Survey Services') ==> 56\n",
        "('Consultant Services', 'Safety Studies') ==> 26\n",
        "('Goods', 'Pharmaceuticals, Medical Products') ==> 48\n",
        "('Goods', 'Equipment, Construction') ==> 35\n",
        "('NC', 'Administrative Services') ==> 50\n",
        "('Consultant Services', 'Awareness Campaigns') ==> 8\n",
        "('Consultant Services', 'Research/Development Services') ==> 25\n",
        "('Goods', 'Equipment, Water Supply and Sewerage') ==> 45\n",
        "('Goods', 'Equipment, Educational') ==> 36\n",
        "('Consultant Services', 'Design Services') ==> 10\n",
        "('Consultant Services', 'Project Management') ==> 24\n",
        "('Consultant Services', 'ICT/Telecommunications Services') ==> 19\n",
        "('Civil Works', 'Works, Infrastructure') ==> 3\n",
        "('Consultant Services', 'Education Services') ==> 11\n",
        "('Goods', 'Equipment, Medical') ==> 41\n",
        "('NC', 'Other Operational Services') ==> 54\n",
        "('Consultant Services', 'Geological/Geophysical Services') ==> 15\n",
        "('Goods', 'Equipment, Telecommunications') ==> 43\n",
        "('Civil Works', 'Works, Installation & Erection') ==> 4\n",
        "('Goods', 'Raw Materals, Chemicals, Commodities') ==> 49\n",
        "('Consultant Services', 'Tender Documents, Procurement Assistance') ==> 30\n",
        "('Consultant Services', 'Legal Advisory Services') ==> 21\n",
        "('Consultant Services', 'Policy and Strategy') ==> 23\n",
        "('NC', 'Aerial Photography Services') ==> 51\n",
        "('Consultant Services', 'Health Services') ==> 18\n",
        "('Goods', 'Equipment, Electrical') ==> 37\n",
        "('Goods', 'Equipment, Mining') ==> 42\n",
        "('NC', 'Training Services') ==> 57\n",
        "('NC', 'Drilling Services') ==> 53\n",
        "('Consultant Services', 'Training/Knowledge Transfer') ==> 31\n",
        "('NC', 'Satellite Imaging Services') ==> 55\n",
        "('Goods', 'Equipment, Industrial Plants') ==> 39\n",
        "('Civil Works', 'Works, Buildings') ==> 2\n",
        "('Consultant Services', 'Institution building') ==> 20\n",
        "('Consultant Services', 'Management Advice, Technical/Operation A') ==> 22\n",
        "('Civil Works', 'Works, Maintenance and Rehabilitation') ==> 5\n",
        "('Consultant Services', 'Administrative Services') ==> 6\n",
        "('Goods', 'Equipment Information Technology') ==> 33\n",
        "('Goods', 'Equipment, Energy Exploration, Productio') ==> 38\n",
        "('Goods', 'Equipment, Agricultural') ==> 34\n",
        "('Goods', 'Equipment, Transportation') ==> 44\n",
        "('Consultant Services', 'Environmental Studies') ==> 12\n",
        "('Consultant Services', 'Social Studies') ==> 28\n",
        "('Consultant Services', 'Construction Supervision, Quality Manage') ==> 9\n"
       ]
      }
     ],
     "prompt_number": 70
    },
    {
     "cell_type": "markdown",
     "metadata": {},
     "source": [
      "Last dimension we are missing is sector:"
     ]
    },
    {
     "cell_type": "code",
     "collapsed": false,
     "input": [
      "sectors = distinct(rows, findex[\"major_sector\"])\n",
      "sectors"
     ],
     "language": "python",
     "metadata": {},
     "outputs": [
      {
       "output_type": "pyout",
       "prompt_number": 73,
       "text": [
        "['Agriculture, fishing, and forestry',\n",
        " 'Education',\n",
        " 'Energy and mining',\n",
        " 'Finance',\n",
        " 'Health and other social services',\n",
        " 'Industry and trade',\n",
        " 'Information and communications',\n",
        " 'Public Administration, Law, and Justice',\n",
        " 'Transportation',\n",
        " 'Water, sanitation and flood protection']"
       ]
      }
     ],
     "prompt_number": 73
    },
    {
     "cell_type": "markdown",
     "metadata": {},
     "source": [
      "We can reuse `create_code()` to generate sector codes:"
     ]
    },
    {
     "cell_type": "code",
     "collapsed": false,
     "input": [
      "dim_sectors = [(create_code(s), s) for s in sectors]\n",
      "dim_sectors"
     ],
     "language": "python",
     "metadata": {},
     "outputs": [
      {
       "output_type": "pyout",
       "prompt_number": 76,
       "text": [
        "[('AGRFISANDFOR', 'Agriculture, fishing, and forestry'),\n",
        " ('EDU', 'Education'),\n",
        " ('ENEANDMIN', 'Energy and mining'),\n",
        " ('FIN', 'Finance'),\n",
        " ('HEAANDOTHSOCSER', 'Health and other social services'),\n",
        " ('INDANDTRA', 'Industry and trade'),\n",
        " ('INFANDCOM', 'Information and communications'),\n",
        " ('PUBADMLAWANDJUS', 'Public Administration, Law, and Justice'),\n",
        " ('TRA', 'Transportation'),\n",
        " ('WATSANANDFLOPRO', 'Water, sanitation and flood protection')]"
       ]
      }
     ],
     "prompt_number": 76
    },
    {
     "cell_type": "markdown",
     "metadata": {},
     "source": [
      "Loading of Dimensions\n",
      "=====================\n",
      "\n",
      "We have data for dimensions ready, now we load them into dimension tables.\n",
      "\n",
      "Before we start, we have to prepare our database connection engine and metadata:"
     ]
    },
    {
     "cell_type": "code",
     "collapsed": false,
     "input": [
      "import sqlalchemy\n",
      "engine = sqlalchemy.create_engine(\"sqlite:///data.sqlite\")\n",
      "metadata = sqlalchemy.MetaData(bind=engine)"
     ],
     "language": "python",
     "metadata": {},
     "outputs": [],
     "prompt_number": 80
    },
    {
     "cell_type": "heading",
     "level": 2,
     "metadata": {},
     "source": [
      "Create tables"
     ]
    },
    {
     "cell_type": "code",
     "collapsed": false,
     "input": [
      "table = sqlalchemy.Table('dim_region', metadata)"
     ],
     "language": "python",
     "metadata": {},
     "outputs": [],
     "prompt_number": 81
    },
    {
     "cell_type": "code",
     "collapsed": false,
     "input": [
      "table.append_column(sqlalchemy.Column(\"key\", sqlalchemy.String))\n",
      "table.append_column(sqlalchemy.Column(\"name\", sqlalchemy.String))"
     ],
     "language": "python",
     "metadata": {},
     "outputs": [],
     "prompt_number": 82
    },
    {
     "cell_type": "code",
     "collapsed": false,
     "input": [
      "metadata.create_all()"
     ],
     "language": "python",
     "metadata": {},
     "outputs": [],
     "prompt_number": 83
    },
    {
     "cell_type": "markdown",
     "metadata": {},
     "source": [
      "Prepare an insert statement:"
     ]
    },
    {
     "cell_type": "code",
     "collapsed": false,
     "input": [
      "insert = table.insert()\n",
      "str(insert)"
     ],
     "language": "python",
     "metadata": {},
     "outputs": [
      {
       "output_type": "pyout",
       "prompt_number": 84,
       "text": [
        "'INSERT INTO dim_region (\"key\", name) VALUES (?, ?)'"
       ]
      }
     ],
     "prompt_number": 84
    },
    {
     "cell_type": "markdown",
     "metadata": {},
     "source": [
      "Insert dimension values into the table:"
     ]
    },
    {
     "cell_type": "code",
     "collapsed": false,
     "input": [
      "for row in dim_region:\n",
      "    engine.execute(insert.values(row))"
     ],
     "language": "python",
     "metadata": {},
     "outputs": [],
     "prompt_number": 86
    },
    {
     "cell_type": "markdown",
     "metadata": {},
     "source": [
      "Check the table contents:"
     ]
    },
    {
     "cell_type": "code",
     "collapsed": false,
     "input": [
      "for row in table.select().execute():\n",
      "    print row"
     ],
     "language": "python",
     "metadata": {},
     "outputs": [
      {
       "output_type": "stream",
       "stream": "stdout",
       "text": [
        "(u'A', u'AFRICA')\n",
        "(u'EAAP', u'EAST ASIA AND PACIFIC')\n",
        "(u'EACA', u'EUROPE AND CENTRAL ASIA')\n",
        "(u'LAAC', u'LATIN AMERICA AND CARIBBEAN')\n",
        "(u'MEANA', u'MIDDLE EAST AND NORTH AFRICA')\n",
        "(u'O', u'OTHER')\n",
        "(u'SA', u'SOUTH ASIA')\n"
       ]
      }
     ],
     "prompt_number": 87
    },
    {
     "cell_type": "markdown",
     "metadata": {},
     "source": [
      "As we are going to have multiple dimension tables and we do not want to repeat ourselves, we can create some utility functions for dimension table loading.\n",
      "\n",
      "What information we have about dimension tables?\n",
      "\n",
      "* list of attributes\n",
      "* types of attributes\n",
      "* dimension data\n",
      "\n",
      "First thing we need to do is to create the dimension table.\n",
      "\n",
      "**Excercise:** create a function `create_dimension_table(name, fields)` where `name` is dimension table name, `fields` is list of tuples: `(field_name, field_type)`. The `field_type` might be one of following string values: `\"integer\"`, `\"float\"` or `\"string\"`. You can expect global variables `engine` and `metadata` to be present.\n",
      "\n",
      "Hint: See the [SQLAlchemy types](http://docs.sqlalchemy.org/en/rel_0_7/core/types.html) for actual type objects that SQLAlchemy expects to be passed for table columns.\n"
     ]
    },
    {
     "cell_type": "code",
     "collapsed": false,
     "input": [
      "def create_dimension_table(name, fields):\n",
      "    # code here ...\n",
      "    pass"
     ],
     "language": "python",
     "metadata": {},
     "outputs": []
    },
    {
     "cell_type": "markdown",
     "metadata": {},
     "source": [
      "**Solution:**"
     ]
    },
    {
     "cell_type": "code",
     "collapsed": false,
     "input": [
      "def create_dimension_table(name, fields):\n",
      "    type_map = {\n",
      "                    \"integer\": sqlalchemy.Integer,\n",
      "                    \"string\": sqlalchemy.String,\n",
      "                    \"float\": sqlalchemy.Float\n",
      "                }\n",
      "\n",
      "    print \"creating dimension table %s\" % name\n",
      "    \n",
      "    table = sqlalchemy.Table(name, metadata, autoload=False)\n",
      "    if table.exists():\n",
      "        print \"dropping existing table %s\" % name\n",
      "        table.drop()\n",
      "        metadata.drop_all(engine)\n",
      "        metadata.remove(table)\n",
      "\n",
      "    table = sqlalchemy.Table(name, metadata, autoload=False, keep_existing=False)\n",
      "\n",
      "    for field_name, field_type in fields:\n",
      "        column = sqlalchemy.Column(field_name, type_map[field_type])\n",
      "        table.append_column(column)\n",
      "        \n",
      "    table.create()\n",
      "    metadata.create_all(engine, tables=[table])\n"
     ],
     "language": "python",
     "metadata": {},
     "outputs": [],
     "prompt_number": 199
    },
    {
     "cell_type": "code",
     "collapsed": false,
     "input": [
      "create_dimension_table(\"dim_region\", [(\"key\", \"string\"), (\"name\", \"string\")])"
     ],
     "language": "python",
     "metadata": {},
     "outputs": [
      {
       "output_type": "stream",
       "stream": "stdout",
       "text": [
        "creating dimension table dim_region\n",
        "dropping existing table dim_region\n"
       ]
      }
     ],
     "prompt_number": 200
    },
    {
     "cell_type": "markdown",
     "metadata": {},
     "source": [
      "To create all dimension tables, we define metadata of all our dimensions:"
     ]
    },
    {
     "cell_type": "code",
     "collapsed": false,
     "input": [
      "dimensions = [\n",
      "    {\"name\":\"dim_region\", \"fields\": [(\"key\", \"string\"), (\"name\", \"string\")]},\n",
      "    {\"name\":\"dim_procurement_type\", \"fields\": [(\"key\", \"string\"),\n",
      "                                            (\"category_code\", \"string\"),\n",
      "                                            (\"category_name\", \"string\"),\n",
      "                                            (\"type_code\", \"string\"),\n",
      "                                            (\"type_name\", \"string\")]},\n",
      "    {\"name\":\"dim_procurement_method\", \"fields\": [(\"key\", \"string\"), (\"name\", \"string\")]},\n",
      "    {\"name\":\"dim_sector\", \"fields\": [(\"key\", \"string\"), (\"name\", \"string\")]}\n",
      "]\n",
      "\n",
      "for dim in dimensions:\n",
      "    print \"DIMENSION %s\" % dim[\"name\"]\n",
      "    for field in dim[\"fields\"]:\n",
      "        print \"    %s (%s)\" % field"
     ],
     "language": "python",
     "metadata": {},
     "outputs": [
      {
       "output_type": "stream",
       "stream": "stdout",
       "text": [
        "DIMENSION dim_region\n",
        "    key (string)\n",
        "    name (string)\n",
        "DIMENSION dim_procurement_type\n",
        "    key (string)\n",
        "    category_code (string)\n",
        "    category_name (string)\n",
        "    type_code (string)\n",
        "    type_name (string)\n",
        "DIMENSION dim_procurement_method\n",
        "    key (string)\n",
        "    name (string)\n",
        "DIMENSION dim_sector\n",
        "    key (string)\n",
        "    name (string)\n"
       ]
      }
     ],
     "prompt_number": 201
    },
    {
     "cell_type": "markdown",
     "metadata": {},
     "source": [
      "Create all dimension tables:"
     ]
    },
    {
     "cell_type": "code",
     "collapsed": false,
     "input": [
      "for dim in dimensions:\n",
      "    create_dimension_table(dim[\"name\"], dim[\"fields\"])"
     ],
     "language": "python",
     "metadata": {},
     "outputs": [
      {
       "output_type": "stream",
       "stream": "stdout",
       "text": [
        "creating dimension table dim_region\n",
        "dropping existing table dim_region\n",
        "creating dimension table dim_procurement_type\n",
        "creating dimension table dim_procurement_method\n",
        "creating dimension table dim_sector\n"
       ]
      }
     ],
     "prompt_number": 202
    },
    {
     "cell_type": "heading",
     "level": 2,
     "metadata": {},
     "source": [
      "Load Data"
     ]
    },
    {
     "cell_type": "markdown",
     "metadata": {},
     "source": [
      "We have empty tables prepared, now we load data into them as we did for region previously.\n",
      "\n",
      "**Excercise:** create a function `load_dimension_table(name, data)` that will load rows into the dimension table. You can assume that global variable `engine` and `metadata` exist."
     ]
    },
    {
     "cell_type": "code",
     "collapsed": false,
     "input": [
      "def load_dimension_table(name, data):\n",
      "    # ...\n",
      "    pass"
     ],
     "language": "python",
     "metadata": {},
     "outputs": [],
     "prompt_number": 203
    },
    {
     "cell_type": "code",
     "collapsed": false,
     "input": [
      "def load_dimension_table(name, data):\n",
      "    print \"loading into dimension table %s\" % name\n",
      "    table = sqlalchemy.Table(name, metadata)\n",
      "    insert = table.insert()\n",
      "    for row in data:\n",
      "        engine.execute(insert.values(row))"
     ],
     "language": "python",
     "metadata": {},
     "outputs": [],
     "prompt_number": 206
    },
    {
     "cell_type": "code",
     "collapsed": false,
     "input": [
      "load_dimension_table(\"dim_region\", dim_region)"
     ],
     "language": "python",
     "metadata": {},
     "outputs": [
      {
       "output_type": "stream",
       "stream": "stdout",
       "text": [
        "loading into dimension table dim_region\n"
       ]
      }
     ],
     "prompt_number": 208
    },
    {
     "cell_type": "markdown",
     "metadata": {},
     "source": [
      "Update our metadata with references to acutal data:"
     ]
    },
    {
     "cell_type": "code",
     "collapsed": false,
     "input": [
      "dimensions = [\n",
      "    {\n",
      "        \"name\":\"dim_region\",\n",
      "        \"fields\": [(\"key\", \"string\"), (\"name\", \"string\")],\n",
      "        \"data\": dim_region\n",
      "    },\n",
      "    {\n",
      "        \"name\":\"dim_procurement_type\",\n",
      "        \"fields\": [(\"key\", \"string\"),\n",
      "                    (\"category_code\", \"string\"),\n",
      "                    (\"category_name\", \"string\"),\n",
      "                    (\"type_code\", \"string\"),\n",
      "                    (\"type_name\", \"string\")],\n",
      "        \"data\": dim_procurement_type\n",
      "    },\n",
      "    {\n",
      "        \"name\":\"dim_procurement_method\",\n",
      "        \"fields\": [(\"key\", \"string\"), (\"name\", \"string\")],\n",
      "        \"data\": dim_procurement_method\n",
      "    },\n",
      "    {\n",
      "        \"name\":\"dim_sector\",\n",
      "        \"fields\": [(\"key\", \"string\"), (\"name\", \"string\")],\n",
      "        \"data\": dim_sector\n",
      "    }\n",
      "]"
     ],
     "language": "python",
     "metadata": {},
     "outputs": [
      {
       "ename": "NameError",
       "evalue": "name 'dim_procurement_method' is not defined",
       "output_type": "pyerr",
       "traceback": [
        "\u001b[0;31m---------------------------------------------------------------------------\u001b[0m\n\u001b[0;31mNameError\u001b[0m                                 Traceback (most recent call last)",
        "\u001b[0;32m<ipython-input-212-9824cc3737ee>\u001b[0m in \u001b[0;36m<module>\u001b[0;34m()\u001b[0m\n\u001b[1;32m     17\u001b[0m         \u001b[0;34m\"name\"\u001b[0m\u001b[0;34m:\u001b[0m\u001b[0;34m\"dim_procurement_method\"\u001b[0m\u001b[0;34m,\u001b[0m\u001b[0;34m\u001b[0m\u001b[0m\n\u001b[1;32m     18\u001b[0m         \u001b[0;34m\"fields\"\u001b[0m\u001b[0;34m:\u001b[0m \u001b[0;34m[\u001b[0m\u001b[0;34m(\u001b[0m\u001b[0;34m\"key\"\u001b[0m\u001b[0;34m,\u001b[0m \u001b[0;34m\"string\"\u001b[0m\u001b[0;34m)\u001b[0m\u001b[0;34m,\u001b[0m \u001b[0;34m(\u001b[0m\u001b[0;34m\"name\"\u001b[0m\u001b[0;34m,\u001b[0m \u001b[0;34m\"string\"\u001b[0m\u001b[0;34m)\u001b[0m\u001b[0;34m]\u001b[0m\u001b[0;34m,\u001b[0m\u001b[0;34m\u001b[0m\u001b[0m\n\u001b[0;32m---> 19\u001b[0;31m         \u001b[0;34m\"data\"\u001b[0m\u001b[0;34m:\u001b[0m \u001b[0mdim_procurement_method\u001b[0m\u001b[0;34m\u001b[0m\u001b[0m\n\u001b[0m\u001b[1;32m     20\u001b[0m     },\n\u001b[1;32m     21\u001b[0m     {\n",
        "\u001b[0;31mNameError\u001b[0m: name 'dim_procurement_method' is not defined"
       ]
      }
     ],
     "prompt_number": 212
    },
    {
     "cell_type": "heading",
     "level": 1,
     "metadata": {},
     "source": [
      "Transformation"
     ]
    },
    {
     "cell_type": "markdown",
     "metadata": {},
     "source": [
      "We are going to transform one dataset to another dataset - contents of CSV file into a database table. In this transformation we are going to do:\n",
      "\n",
      "* ignore some source columns\n",
      "* derive new source columns\n",
      "    * use transformations or mappings\n",
      "* copy source column into target without a change\n",
      "\n",
      "It is good practice to have this transformation described in an understandable way. In our case we are going to use a list of tuples: (target field, source and transformation). Target field is just name of field that will be created. Transformation can be described either as `None` - no transformation, just plain copy; or a dictionary. The dictionary contains keys:\n",
      "\n",
      "* `field` - name of source field\n",
      "* `function` - function to be used for transformation of the field value\n",
      "* `mapping` - mapping dictionary to be used for transformation of the field value\n",
      "\n",
      "If no function or mapping is specified, then just field with specified name is passed \u2013 use this if you would like to rename a field.\n",
      "\n",
      "Here is the transformation description:"
     ]
    },
    {
     "cell_type": "code",
     "collapsed": false,
     "input": [
      "transformation = [\n",
      " ('fiscal_year',           {\"function\": int, \"field\":\"fiscal_year\"}),\n",
      " ('region_code',           {\"mapping\": region_map, \"field\":\"region\"}),\n",
      " ('region',                None),\n",
      " ('borrower_country',      None),\n",
      " ('borrower_country_code', None),\n",
      " ('project_id',            None),\n",
      " ('project_name',          None),\n",
      " ('procurement_type_code', {\"function\": create_code, \"field\":\"procurement_type\"}),\n",
      " ('procurement_type',      None),\n",
      " ('procurement_category_code', {\"mapping\": proc_category_map, \"field\":\"procurement_category\"}),\n",
      " ('procurement_category',  None),\n",
      " ('procurement_method_code', {\"function\": create_code, \"field\":\"procurement_method\"}),\n",
      " ('procurement_method',    None),\n",
      " ('product_line',          None),\n",
      " ('wb_contract_number',    None),\n",
      " ('major_sector_code',     {\"function\": create_code, \"field\":\"major_sector\"}),\n",
      " ('major_sector',          None),\n",
      " ('contract_description',  None),\n",
      " ('supplier',              None),\n",
      " ('supplier_country',      None),\n",
      " ('supplier_country_code', None),\n",
      " ('contract_amount',       {\"field\": 'total_contract_amount'})\n",
      " ]"
     ],
     "language": "python",
     "metadata": {},
     "outputs": [],
     "prompt_number": 19
    },
    {
     "cell_type": "markdown",
     "metadata": {},
     "source": [
      "As we are not working with dictionary records but indexed rows, we also need for our transformation function to know index of particular field in the row."
     ]
    },
    {
     "cell_type": "code",
     "collapsed": false,
     "input": [
      "indexes = dict( (field, i) for i, field in enumerate(fields) )\n",
      "indexes"
     ],
     "language": "python",
     "metadata": {},
     "outputs": [
      {
       "output_type": "pyout",
       "prompt_number": 10,
       "text": [
        "{'as_of_date': 0,\n",
        " 'borrower_country': 3,\n",
        " 'borrower_country_code': 4,\n",
        " 'contract_description': 13,\n",
        " 'contract_signing_date': 14,\n",
        " 'fiscal_year': 1,\n",
        " 'major_sector': 12,\n",
        " 'procurement_category': 8,\n",
        " 'procurement_method': 9,\n",
        " 'procurement_type': 7,\n",
        " 'product_line': 10,\n",
        " 'project_id': 5,\n",
        " 'project_name': 6,\n",
        " 'region': 2,\n",
        " 'supplier': 15,\n",
        " 'supplier_country': 16,\n",
        " 'supplier_country_code': 17,\n",
        " 'total_contract_amount': 18,\n",
        " 'wb_contract_number': 11}"
       ]
      }
     ],
     "prompt_number": 10
    },
    {
     "cell_type": "markdown",
     "metadata": {},
     "source": [
      "And here is the transformation function. It takes a row, transformation and indexes as input and generates new row based on the transformation:"
     ]
    },
    {
     "cell_type": "code",
     "collapsed": false,
     "input": [
      "def transform(row, transformation, field_indexes):\n",
      "    new_row = []\n",
      "    for (field, action) in transformation:\n",
      "        if not action:\n",
      "            value = row[field_indexes[field]]\n",
      "        else:\n",
      "            value = row[field_indexes[action[\"field\"]]]\n",
      "            if \"function\" in action:\n",
      "                value = action[\"function\"](value)\n",
      "            if \"mapping\" in action:\n",
      "                value = action[\"mapping\"][value]\n",
      "        new_row.append(value)\n",
      "        \n",
      "    return new_row"
     ],
     "language": "python",
     "metadata": {},
     "outputs": [],
     "prompt_number": 21
    },
    {
     "cell_type": "markdown",
     "metadata": {},
     "source": [
      "The first record, before transformation, looks like:"
     ]
    },
    {
     "cell_type": "code",
     "collapsed": false,
     "input": [
      "rows[0]"
     ],
     "language": "python",
     "metadata": {},
     "outputs": [
      {
       "output_type": "pyout",
       "prompt_number": 11,
       "text": [
        "['06/14/2012 12:00 AM',\n",
        " '2010',\n",
        " 'SOUTH ASIA',\n",
        " 'Afghanistan',\n",
        " 'AF',\n",
        " 'P102288',\n",
        " 'Afghanistan: Emergency National Solidarity Project II',\n",
        " 'Project Management',\n",
        " 'Consultant Services',\n",
        " 'Single Source Selection',\n",
        " 'IBRD/IDA',\n",
        " '1297442',\n",
        " 'Agriculture, fishing, and forestry',\n",
        " 'For NSP facilitation in New Communities in Districts Already',\n",
        " '01/28/2010 12:00 AM',\n",
        " 'UNITED NATIONS CONFERENCE ON HUMAN SETTLEMENTS (HABITAT)',\n",
        " 'World',\n",
        " '1W',\n",
        " '$4454652.00']"
       ]
      }
     ],
     "prompt_number": 11
    },
    {
     "cell_type": "markdown",
     "metadata": {},
     "source": [
      "First record after the transformation is:"
     ]
    },
    {
     "cell_type": "code",
     "collapsed": false,
     "input": [
      "transform(rows[0], transformation, indexes)"
     ],
     "language": "python",
     "metadata": {},
     "outputs": [
      {
       "output_type": "pyout",
       "prompt_number": 23,
       "text": [
        "[2010,\n",
        " 'SA',\n",
        " 'SOUTH ASIA',\n",
        " 'Afghanistan',\n",
        " 'AF',\n",
        " 'P102288',\n",
        " 'Afghanistan: Emergency National Solidarity Project II',\n",
        " 'PROMAN',\n",
        " 'Project Management',\n",
        " 'CONSULTANT',\n",
        " 'Consultant Services',\n",
        " 'SINSOUSEL',\n",
        " 'Single Source Selection',\n",
        " 'IBRD/IDA',\n",
        " '1297442',\n",
        " 'AGRFISANDFOR',\n",
        " 'Agriculture, fishing, and forestry',\n",
        " 'For NSP facilitation in New Communities in Districts Already',\n",
        " 'UNITED NATIONS CONFERENCE ON HUMAN SETTLEMENTS (HABITAT)',\n",
        " 'World',\n",
        " '1W',\n",
        " '$4454652.00']"
       ]
      }
     ],
     "prompt_number": 23
    },
    {
     "cell_type": "markdown",
     "metadata": {},
     "source": [
      "We missed one thing: the last value, which is supposed to be an amount, is a currency value. In this case, the currency is denoted by `'$'` which is single byte character that we can get rid of by:"
     ]
    },
    {
     "cell_type": "code",
     "collapsed": false,
     "input": [
      "value = '$4454652.00'\n",
      "value[1:]"
     ],
     "language": "python",
     "metadata": {},
     "outputs": [
      {
       "output_type": "pyout",
       "prompt_number": 24,
       "text": [
        "'4454652.00'"
       ]
      }
     ],
     "prompt_number": 24
    },
    {
     "cell_type": "markdown",
     "metadata": {},
     "source": [
      "Transformation function looks like"
     ]
    },
    {
     "cell_type": "code",
     "collapsed": false,
     "input": [
      "def currency_to_number(currency):\n",
      "    \"\"\"Strips single character currency from front of the value and\n",
      "       removes all surrounding spaces. If it is not possible to convert the value\n",
      "       then `None` is returned. \"\"\"\n",
      "    try:\n",
      "        return float(value[1:].strip())\n",
      "    except ValueError:\n",
      "        return None"
     ],
     "language": "python",
     "metadata": {},
     "outputs": [],
     "prompt_number": 25
    },
    {
     "cell_type": "markdown",
     "metadata": {},
     "source": [
      "We have to change the transformation by replacing last field transformation with our new currency conversion function:"
     ]
    },
    {
     "cell_type": "code",
     "collapsed": false,
     "input": [
      "transformation[-1] = ('contract_amount', {\"function\":currency_to_number, \"field\": 'total_contract_amount'})"
     ],
     "language": "python",
     "metadata": {},
     "outputs": [],
     "prompt_number": 26
    },
    {
     "cell_type": "code",
     "collapsed": false,
     "input": [
      "transform(rows[0], transformation, indexes)"
     ],
     "language": "python",
     "metadata": {},
     "outputs": [
      {
       "output_type": "pyout",
       "prompt_number": 27,
       "text": [
        "[2010,\n",
        " 'SA',\n",
        " 'SOUTH ASIA',\n",
        " 'Afghanistan',\n",
        " 'AF',\n",
        " 'P102288',\n",
        " 'Afghanistan: Emergency National Solidarity Project II',\n",
        " 'PROMAN',\n",
        " 'Project Management',\n",
        " 'CONSULTANT',\n",
        " 'Consultant Services',\n",
        " 'SINSOUSEL',\n",
        " 'Single Source Selection',\n",
        " 'IBRD/IDA',\n",
        " '1297442',\n",
        " 'AGRFISANDFOR',\n",
        " 'Agriculture, fishing, and forestry',\n",
        " 'For NSP facilitation in New Communities in Districts Already',\n",
        " 'UNITED NATIONS CONFERENCE ON HUMAN SETTLEMENTS (HABITAT)',\n",
        " 'World',\n",
        " '1W',\n",
        " 4454652.0]"
       ]
      }
     ],
     "prompt_number": 27
    },
    {
     "cell_type": "markdown",
     "metadata": {},
     "source": [
      "Now it looks much better and we can load it into the database."
     ]
    },
    {
     "cell_type": "heading",
     "level": 2,
     "metadata": {},
     "source": [
      "Loading"
     ]
    },
    {
     "cell_type": "markdown",
     "metadata": {},
     "source": [
      "Objective:\n",
      "\n",
      "* create a target table\n",
      "* load transformed records from source into the target table"
     ]
    },
    {
     "cell_type": "markdown",
     "metadata": {},
     "source": [
      "Get list of fields after transformation:"
     ]
    },
    {
     "cell_type": "code",
     "collapsed": false,
     "input": [
      "target_fields = [t[0] for t in transformation]\n",
      "target_fields"
     ],
     "language": "python",
     "metadata": {},
     "outputs": [
      {
       "output_type": "pyout",
       "prompt_number": 28,
       "text": [
        "['fiscal_year',\n",
        " 'region_code',\n",
        " 'region',\n",
        " 'borrower_country',\n",
        " 'borrower_country_code',\n",
        " 'project_id',\n",
        " 'project_name',\n",
        " 'procurement_type_code',\n",
        " 'procurement_type',\n",
        " 'procurement_category_code',\n",
        " 'procurement_category',\n",
        " 'procurement_method_code',\n",
        " 'procurement_method',\n",
        " 'product_line',\n",
        " 'wb_contract_number',\n",
        " 'major_sector_code',\n",
        " 'major_sector',\n",
        " 'contract_description',\n",
        " 'supplier',\n",
        " 'supplier_country',\n",
        " 'supplier_country_code',\n",
        " 'contract_amount']"
       ]
      }
     ],
     "prompt_number": 28
    },
    {
     "cell_type": "code",
     "collapsed": false,
     "input": [
      "import sqlalchemy as sa"
     ],
     "language": "python",
     "metadata": {},
     "outputs": [],
     "prompt_number": 29
    },
    {
     "cell_type": "code",
     "collapsed": false,
     "input": [
      "engine = sa.create_engine(\"postgres://localhost/sandbox\")"
     ],
     "language": "python",
     "metadata": {},
     "outputs": [],
     "prompt_number": 30
    },
    {
     "cell_type": "code",
     "collapsed": false,
     "input": [
      "metadata = sa.MetaData(bind=engine)"
     ],
     "language": "python",
     "metadata": {},
     "outputs": [],
     "prompt_number": 31
    },
    {
     "cell_type": "markdown",
     "metadata": {},
     "source": [
      "Last thing we now have to do is to specify data types for our fields. All fields except the last one is going to be a string, the amount is going to be a number (floating point)."
     ]
    },
    {
     "cell_type": "code",
     "collapsed": false,
     "input": [
      "target_fields"
     ],
     "language": "python",
     "metadata": {},
     "outputs": [
      {
       "output_type": "pyout",
       "prompt_number": 32,
       "text": [
        "['fiscal_year',\n",
        " 'region_code',\n",
        " 'region',\n",
        " 'borrower_country',\n",
        " 'borrower_country_code',\n",
        " 'project_id',\n",
        " 'project_name',\n",
        " 'procurement_type_code',\n",
        " 'procurement_type',\n",
        " 'procurement_category_code',\n",
        " 'procurement_category',\n",
        " 'procurement_method_code',\n",
        " 'procurement_method',\n",
        " 'product_line',\n",
        " 'wb_contract_number',\n",
        " 'major_sector_code',\n",
        " 'major_sector',\n",
        " 'contract_description',\n",
        " 'supplier',\n",
        " 'supplier_country',\n",
        " 'supplier_country_code',\n",
        " 'contract_amount']"
       ]
      }
     ],
     "prompt_number": 32
    },
    {
     "cell_type": "code",
     "collapsed": false,
     "input": [
      "typed_fields = [(field, sa.String(255)) for field in target_fields]\n",
      "typed_fields[0] = ('fiscal_year', sa.Integer)\n",
      "typed_fields[-1] = ('contract_amount', sa.Numeric)\n",
      "typed_fields"
     ],
     "language": "python",
     "metadata": {},
     "outputs": [
      {
       "output_type": "pyout",
       "prompt_number": 33,
       "text": [
        "[('fiscal_year', sqlalchemy.types.Integer),\n",
        " ('region_code', String(length=255)),\n",
        " ('region', String(length=255)),\n",
        " ('borrower_country', String(length=255)),\n",
        " ('borrower_country_code', String(length=255)),\n",
        " ('project_id', String(length=255)),\n",
        " ('project_name', String(length=255)),\n",
        " ('procurement_type_code', String(length=255)),\n",
        " ('procurement_type', String(length=255)),\n",
        " ('procurement_category_code', String(length=255)),\n",
        " ('procurement_category', String(length=255)),\n",
        " ('procurement_method_code', String(length=255)),\n",
        " ('procurement_method', String(length=255)),\n",
        " ('product_line', String(length=255)),\n",
        " ('wb_contract_number', String(length=255)),\n",
        " ('major_sector_code', String(length=255)),\n",
        " ('major_sector', String(length=255)),\n",
        " ('contract_description', String(length=255)),\n",
        " ('supplier', String(length=255)),\n",
        " ('supplier_country', String(length=255)),\n",
        " ('supplier_country_code', String(length=255)),\n",
        " ('contract_amount', sqlalchemy.types.Numeric)]"
       ]
      }
     ],
     "prompt_number": 33
    },
    {
     "cell_type": "markdown",
     "metadata": {},
     "source": [
      "Define table:"
     ]
    },
    {
     "cell_type": "code",
     "collapsed": false,
     "input": [
      "table = sa.Table(\"contract_awards\", metadata)"
     ],
     "language": "python",
     "metadata": {},
     "outputs": [],
     "prompt_number": 34
    },
    {
     "cell_type": "markdown",
     "metadata": {},
     "source": [
      "Populate the table with columns:"
     ]
    },
    {
     "cell_type": "code",
     "collapsed": false,
     "input": [
      "for (name, field_type) in typed_fields:\n",
      "    column = sa.Column(name, field_type)\n",
      "    table.append_column(column)"
     ],
     "language": "python",
     "metadata": {},
     "outputs": [],
     "prompt_number": 35
    },
    {
     "cell_type": "markdown",
     "metadata": {},
     "source": [
      "Create the table:"
     ]
    },
    {
     "cell_type": "code",
     "collapsed": false,
     "input": [
      "metadata.create_all()"
     ],
     "language": "python",
     "metadata": {},
     "outputs": [],
     "prompt_number": 36
    },
    {
     "cell_type": "markdown",
     "metadata": {},
     "source": [
      "We load the data by inserting the transformed rows.\n",
      "\n",
      "**Note:** for performance reasons you might want to insert data by batches, like by 1000 rows. For simplicity reasons we are inserting row-by-row, which might be slow for larger files."
     ]
    },
    {
     "cell_type": "code",
     "collapsed": false,
     "input": [
      "for row in rows:\n",
      "    table.insert(transform(row, transformation, indexes)).execute()\n"
     ],
     "language": "python",
     "metadata": {},
     "outputs": [],
     "prompt_number": 37
    },
    {
     "cell_type": "markdown",
     "metadata": {},
     "source": [
      "That is it. Now we have the data from the CSV file transformed and loaded in the database."
     ]
    },
    {
     "cell_type": "heading",
     "level": 2,
     "metadata": {},
     "source": [
      "Appendix: Fix structure"
     ]
    },
    {
     "cell_type": "markdown",
     "metadata": {},
     "source": [
      "Sometimes we will need to change the structure. Once the data is loaded and can not be deleted, this task might be a bit more complicated. However in our case, we might simply drop the whole table and create it again. Here are couple of utility functions:"
     ]
    },
    {
     "cell_type": "code",
     "collapsed": false,
     "input": [
      "def drop_table_if_exists(table_name):\n",
      "    table = sa.Table(table_name, metadata)\n",
      "    if table.exists():\n",
      "        table.drop()\n",
      "    metadata.drop_all(tables=[table])"
     ],
     "language": "python",
     "metadata": {},
     "outputs": [],
     "prompt_number": 38
    },
    {
     "cell_type": "code",
     "collapsed": false,
     "input": [
      "drop_table_if_exists(\"contract_awards\")"
     ],
     "language": "python",
     "metadata": {},
     "outputs": [],
     "prompt_number": 39
    },
    {
     "cell_type": "code",
     "collapsed": false,
     "input": [
      "def create_table(table_name, metadata, columns, rows, transformation, indexes):\n",
      "    drop_table_if_exists(table_name)\n",
      "    \n",
      "    table = sa.Table(table_name, metadata)\n",
      "\n",
      "    for (name, column_def) in columns:\n",
      "        column = sa.Column(name, column_def)\n",
      "        table.append_column(column)\n",
      "\n",
      "    metadata.create_all(tables=[table])\n",
      "    \n",
      "    for row in rows:\n",
      "        table.insert(transform(row, transformation, indexes)).execute()\n"
     ],
     "language": "python",
     "metadata": {},
     "outputs": [],
     "prompt_number": 40
    },
    {
     "cell_type": "code",
     "collapsed": false,
     "input": [
      "create_table(\"contract_awards\", metadata, typed_fields, rows, transformation, indexes)"
     ],
     "language": "python",
     "metadata": {},
     "outputs": [],
     "prompt_number": 41
    },
    {
     "cell_type": "code",
     "collapsed": false,
     "input": [],
     "language": "python",
     "metadata": {},
     "outputs": [],
     "prompt_number": "*"
    }
   ],
   "metadata": {}
  }
 ]
}